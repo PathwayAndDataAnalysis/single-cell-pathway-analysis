{
 "cells": [
  {
   "cell_type": "code",
   "execution_count": 79,
   "metadata": {
    "collapsed": true
   },
   "outputs": [],
   "source": [
    "import pandas as pd\n",
    "import scanpy as sc\n",
    "import os\n",
    "import numpy as np"
   ]
  },
  {
   "cell_type": "code",
   "execution_count": 86,
   "outputs": [],
   "source": [
    "exp = \"/home/meric/Desktop/single-cell-pathway-analysis/scripts/data/expression_matrix.tsv\"\n",
    "meta = \"/home/meric/Desktop/single-cell-pathway-analysis/scripts/data/meta_data.tsv\"\n",
    "out = \"./adata.csv\""
   ],
   "metadata": {
    "collapsed": false
   }
  },
  {
   "cell_type": "code",
   "execution_count": 87,
   "outputs": [],
   "source": [
    "#\n",
    "def filter_and_normalize (species,apply_min_cells,apply_min_genes,apply_mt_filter,apply_normalization,apply_log,exp_path,out_path,min_genes=200,min_cells=10,target_sum=1e4,percent_mt=10):\n",
    "        adata = sc.read(exp_path).T\n",
    "        #meta = pd.read_table(meta_path,index_col=0)\n",
    "        #adata.obs = meta\n",
    "\n",
    "        if apply_min_cells:\n",
    "            sc.pp.filter_cells(adata, min_genes=min_genes) # 200\n",
    "        if apply_min_genes:\n",
    "            sc.pp.filter_genes(adata, min_cells=min_cells) # 3\n",
    "\n",
    "        if apply_mt_filter:\n",
    "            if species == \"Mouse\":\n",
    "                adata.var['mt'] = adata.var_names.str.startswith('mt-')\n",
    "            elif species == \"Human\":\n",
    "                adata.var['mt'] = adata.var_names.str.startswith('MT-')\n",
    "            else:\n",
    "                raise Exception(\"This specie is not supported\")\n",
    "\n",
    "            sc.pp.calculate_qc_metrics(adata, qc_vars=['mt'], percent_top=None, log1p=False, inplace=True)\n",
    "            adata = adata[adata.obs.pct_counts_mt < percent_mt, :]\n",
    "\n",
    "        if apply_normalization:\n",
    "            sc.pp.normalize_total(adata, target_sum=target_sum)\n",
    "        if apply_log:\n",
    "            sc.pp.log1p(adata)\n",
    "\n",
    "        exp_out_file = os.path.join(out_path,'adata_X.csv')\n",
    "        #meta_out_file = os.path.join(out_path,'adata_meta_data.csv')\n",
    "        pd.DataFrame(data=adata.X, index=adata.obs_names, columns=adata.var_names).to_csv(out_path)\n",
    "        #pd.DataFrame(data=adata.obs).to_csv(meta_out_file)\n"
   ],
   "metadata": {
    "collapsed": false
   }
  },
  {
   "cell_type": "code",
   "execution_count": null,
   "outputs": [],
   "source": [
    "pd.DataFrame(data=adata2.X, index=adata2.obs_names, columns=adata2.var_names).to_csv('adata_x.csv')\n",
    "pd.DataFrame(data=adata2.obs).to_csv('adata_meta_data.csv')"
   ],
   "metadata": {
    "collapsed": false
   }
  },
  {
   "cell_type": "code",
   "execution_count": 89,
   "outputs": [
    {
     "name": "stderr",
     "output_type": "stream",
     "text": [
      "/home/meric/Desktop/single-cell-pathway-analysis/venv/lib/python3.8/site-packages/scanpy/preprocessing/_normalization.py:170: UserWarning: Received a view of an AnnData. Making a copy.\n",
      "  view_to_actual(adata)\n"
     ]
    }
   ],
   "source": [
    "filter_and_normalize(species=\"Mouse\",apply_min_cells=True,apply_min_genes=True,apply_mt_filter=True,apply_normalization=True,apply_log=True,exp_path=exp,out_path=out)"
   ],
   "metadata": {
    "collapsed": false
   }
  },
  {
   "cell_type": "code",
   "execution_count": 23,
   "outputs": [
    {
     "data": {
      "text/plain": "                                   orig.ident  nCount_RNA  nFeature_RNA  \\\nmidpoint_AAACCTGCACCCAGTG-1  midpoint_treated        2273          1042   \nmidpoint_AAACCTGCAGCTTAAC-1  midpoint_treated        2644          1036   \nmidpoint_AAACCTGGTGTGCGTC-1  midpoint_treated        8506          2325   \nmidpoint_AAACCTGGTTGAACTC-1  midpoint_treated        8249          2394   \nmidpoint_AAACGGGAGGATGGTC-1  midpoint_treated        4295          1505   \n\n                             percent.mt  RNA_snn_res.0.2  seurat_clusters  \\\nmidpoint_AAACCTGCACCCAGTG-1    4.047514              3.0                1   \nmidpoint_AAACCTGCAGCTTAAC-1    3.933434              3.0                1   \nmidpoint_AAACCTGGTGTGCGTC-1    4.067717              9.0                7   \nmidpoint_AAACCTGGTTGAACTC-1    2.691235              2.0                3   \nmidpoint_AAACGGGAGGATGGTC-1    2.281723              1.0                0   \n\n                             RNA_snn_res.0.3  RNA_snn_res.0.5  n_genes  \\\nmidpoint_AAACCTGCACCCAGTG-1              NaN                1     1042   \nmidpoint_AAACCTGCAGCTTAAC-1              NaN                1     1036   \nmidpoint_AAACCTGGTGTGCGTC-1              NaN                7     2325   \nmidpoint_AAACCTGGTTGAACTC-1              NaN                3     2394   \nmidpoint_AAACGGGAGGATGGTC-1              NaN                0     1505   \n\n                             n_genes_by_counts  total_counts  total_counts_mt  \\\nmidpoint_AAACCTGCACCCAGTG-1               1042        2273.0              0.0   \nmidpoint_AAACCTGCAGCTTAAC-1               1036        2644.0              0.0   \nmidpoint_AAACCTGGTGTGCGTC-1               2325        8506.0              0.0   \nmidpoint_AAACCTGGTTGAACTC-1               2394        8249.0              0.0   \nmidpoint_AAACGGGAGGATGGTC-1               1505        4295.0              0.0   \n\n                             pct_counts_mt  \nmidpoint_AAACCTGCACCCAGTG-1            0.0  \nmidpoint_AAACCTGCAGCTTAAC-1            0.0  \nmidpoint_AAACCTGGTGTGCGTC-1            0.0  \nmidpoint_AAACCTGGTTGAACTC-1            0.0  \nmidpoint_AAACGGGAGGATGGTC-1            0.0  ",
      "text/html": "<div>\n<style scoped>\n    .dataframe tbody tr th:only-of-type {\n        vertical-align: middle;\n    }\n\n    .dataframe tbody tr th {\n        vertical-align: top;\n    }\n\n    .dataframe thead th {\n        text-align: right;\n    }\n</style>\n<table border=\"1\" class=\"dataframe\">\n  <thead>\n    <tr style=\"text-align: right;\">\n      <th></th>\n      <th>orig.ident</th>\n      <th>nCount_RNA</th>\n      <th>nFeature_RNA</th>\n      <th>percent.mt</th>\n      <th>RNA_snn_res.0.2</th>\n      <th>seurat_clusters</th>\n      <th>RNA_snn_res.0.3</th>\n      <th>RNA_snn_res.0.5</th>\n      <th>n_genes</th>\n      <th>n_genes_by_counts</th>\n      <th>total_counts</th>\n      <th>total_counts_mt</th>\n      <th>pct_counts_mt</th>\n    </tr>\n  </thead>\n  <tbody>\n    <tr>\n      <th>midpoint_AAACCTGCACCCAGTG-1</th>\n      <td>midpoint_treated</td>\n      <td>2273</td>\n      <td>1042</td>\n      <td>4.047514</td>\n      <td>3.0</td>\n      <td>1</td>\n      <td>NaN</td>\n      <td>1</td>\n      <td>1042</td>\n      <td>1042</td>\n      <td>2273.0</td>\n      <td>0.0</td>\n      <td>0.0</td>\n    </tr>\n    <tr>\n      <th>midpoint_AAACCTGCAGCTTAAC-1</th>\n      <td>midpoint_treated</td>\n      <td>2644</td>\n      <td>1036</td>\n      <td>3.933434</td>\n      <td>3.0</td>\n      <td>1</td>\n      <td>NaN</td>\n      <td>1</td>\n      <td>1036</td>\n      <td>1036</td>\n      <td>2644.0</td>\n      <td>0.0</td>\n      <td>0.0</td>\n    </tr>\n    <tr>\n      <th>midpoint_AAACCTGGTGTGCGTC-1</th>\n      <td>midpoint_treated</td>\n      <td>8506</td>\n      <td>2325</td>\n      <td>4.067717</td>\n      <td>9.0</td>\n      <td>7</td>\n      <td>NaN</td>\n      <td>7</td>\n      <td>2325</td>\n      <td>2325</td>\n      <td>8506.0</td>\n      <td>0.0</td>\n      <td>0.0</td>\n    </tr>\n    <tr>\n      <th>midpoint_AAACCTGGTTGAACTC-1</th>\n      <td>midpoint_treated</td>\n      <td>8249</td>\n      <td>2394</td>\n      <td>2.691235</td>\n      <td>2.0</td>\n      <td>3</td>\n      <td>NaN</td>\n      <td>3</td>\n      <td>2394</td>\n      <td>2394</td>\n      <td>8249.0</td>\n      <td>0.0</td>\n      <td>0.0</td>\n    </tr>\n    <tr>\n      <th>midpoint_AAACGGGAGGATGGTC-1</th>\n      <td>midpoint_treated</td>\n      <td>4295</td>\n      <td>1505</td>\n      <td>2.281723</td>\n      <td>1.0</td>\n      <td>0</td>\n      <td>NaN</td>\n      <td>0</td>\n      <td>1505</td>\n      <td>1505</td>\n      <td>4295.0</td>\n      <td>0.0</td>\n      <td>0.0</td>\n    </tr>\n  </tbody>\n</table>\n</div>"
     },
     "execution_count": 23,
     "metadata": {},
     "output_type": "execute_result"
    }
   ],
   "source": [
    "adata2.obs.head()"
   ],
   "metadata": {
    "collapsed": false
   }
  },
  {
   "cell_type": "code",
   "execution_count": null,
   "outputs": [],
   "source": [
    "# save normalized expression data and meta data as files separately"
   ],
   "metadata": {
    "collapsed": false
   }
  },
  {
   "cell_type": "code",
   "execution_count": 36,
   "outputs": [
    {
     "data": {
      "text/plain": "                                   orig.ident  nCount_RNA  nFeature_RNA  \\\nmidpoint_AAACCTGCACCCAGTG-1  midpoint_treated        2273          1042   \nmidpoint_AAACCTGCAGCTTAAC-1  midpoint_treated        2644          1036   \nmidpoint_AAACCTGGTGTGCGTC-1  midpoint_treated        8506          2325   \nmidpoint_AAACCTGGTTGAACTC-1  midpoint_treated        8249          2394   \nmidpoint_AAACGGGAGGATGGTC-1  midpoint_treated        4295          1505   \n\n                             percent.mt  RNA_snn_res.0.2  seurat_clusters  \\\nmidpoint_AAACCTGCACCCAGTG-1    4.047514              3.0                1   \nmidpoint_AAACCTGCAGCTTAAC-1    3.933434              3.0                1   \nmidpoint_AAACCTGGTGTGCGTC-1    4.067717              9.0                7   \nmidpoint_AAACCTGGTTGAACTC-1    2.691235              2.0                3   \nmidpoint_AAACGGGAGGATGGTC-1    2.281723              1.0                0   \n\n                             RNA_snn_res.0.3  RNA_snn_res.0.5  n_genes  \\\nmidpoint_AAACCTGCACCCAGTG-1              NaN                1     1042   \nmidpoint_AAACCTGCAGCTTAAC-1              NaN                1     1036   \nmidpoint_AAACCTGGTGTGCGTC-1              NaN                7     2325   \nmidpoint_AAACCTGGTTGAACTC-1              NaN                3     2394   \nmidpoint_AAACGGGAGGATGGTC-1              NaN                0     1505   \n\n                             n_genes_by_counts  total_counts  total_counts_mt  \\\nmidpoint_AAACCTGCACCCAGTG-1               1042        2273.0              0.0   \nmidpoint_AAACCTGCAGCTTAAC-1               1036        2644.0              0.0   \nmidpoint_AAACCTGGTGTGCGTC-1               2325        8506.0              0.0   \nmidpoint_AAACCTGGTTGAACTC-1               2394        8249.0              0.0   \nmidpoint_AAACGGGAGGATGGTC-1               1505        4295.0              0.0   \n\n                             pct_counts_mt  \nmidpoint_AAACCTGCACCCAGTG-1            0.0  \nmidpoint_AAACCTGCAGCTTAAC-1            0.0  \nmidpoint_AAACCTGGTGTGCGTC-1            0.0  \nmidpoint_AAACCTGGTTGAACTC-1            0.0  \nmidpoint_AAACGGGAGGATGGTC-1            0.0  ",
      "text/html": "<div>\n<style scoped>\n    .dataframe tbody tr th:only-of-type {\n        vertical-align: middle;\n    }\n\n    .dataframe tbody tr th {\n        vertical-align: top;\n    }\n\n    .dataframe thead th {\n        text-align: right;\n    }\n</style>\n<table border=\"1\" class=\"dataframe\">\n  <thead>\n    <tr style=\"text-align: right;\">\n      <th></th>\n      <th>orig.ident</th>\n      <th>nCount_RNA</th>\n      <th>nFeature_RNA</th>\n      <th>percent.mt</th>\n      <th>RNA_snn_res.0.2</th>\n      <th>seurat_clusters</th>\n      <th>RNA_snn_res.0.3</th>\n      <th>RNA_snn_res.0.5</th>\n      <th>n_genes</th>\n      <th>n_genes_by_counts</th>\n      <th>total_counts</th>\n      <th>total_counts_mt</th>\n      <th>pct_counts_mt</th>\n    </tr>\n  </thead>\n  <tbody>\n    <tr>\n      <th>midpoint_AAACCTGCACCCAGTG-1</th>\n      <td>midpoint_treated</td>\n      <td>2273</td>\n      <td>1042</td>\n      <td>4.047514</td>\n      <td>3.0</td>\n      <td>1</td>\n      <td>NaN</td>\n      <td>1</td>\n      <td>1042</td>\n      <td>1042</td>\n      <td>2273.0</td>\n      <td>0.0</td>\n      <td>0.0</td>\n    </tr>\n    <tr>\n      <th>midpoint_AAACCTGCAGCTTAAC-1</th>\n      <td>midpoint_treated</td>\n      <td>2644</td>\n      <td>1036</td>\n      <td>3.933434</td>\n      <td>3.0</td>\n      <td>1</td>\n      <td>NaN</td>\n      <td>1</td>\n      <td>1036</td>\n      <td>1036</td>\n      <td>2644.0</td>\n      <td>0.0</td>\n      <td>0.0</td>\n    </tr>\n    <tr>\n      <th>midpoint_AAACCTGGTGTGCGTC-1</th>\n      <td>midpoint_treated</td>\n      <td>8506</td>\n      <td>2325</td>\n      <td>4.067717</td>\n      <td>9.0</td>\n      <td>7</td>\n      <td>NaN</td>\n      <td>7</td>\n      <td>2325</td>\n      <td>2325</td>\n      <td>8506.0</td>\n      <td>0.0</td>\n      <td>0.0</td>\n    </tr>\n    <tr>\n      <th>midpoint_AAACCTGGTTGAACTC-1</th>\n      <td>midpoint_treated</td>\n      <td>8249</td>\n      <td>2394</td>\n      <td>2.691235</td>\n      <td>2.0</td>\n      <td>3</td>\n      <td>NaN</td>\n      <td>3</td>\n      <td>2394</td>\n      <td>2394</td>\n      <td>8249.0</td>\n      <td>0.0</td>\n      <td>0.0</td>\n    </tr>\n    <tr>\n      <th>midpoint_AAACGGGAGGATGGTC-1</th>\n      <td>midpoint_treated</td>\n      <td>4295</td>\n      <td>1505</td>\n      <td>2.281723</td>\n      <td>1.0</td>\n      <td>0</td>\n      <td>NaN</td>\n      <td>0</td>\n      <td>1505</td>\n      <td>1505</td>\n      <td>4295.0</td>\n      <td>0.0</td>\n      <td>0.0</td>\n    </tr>\n  </tbody>\n</table>\n</div>"
     },
     "execution_count": 36,
     "metadata": {},
     "output_type": "execute_result"
    }
   ],
   "source": [
    "adata2.obs.head()"
   ],
   "metadata": {
    "collapsed": false
   }
  },
  {
   "cell_type": "code",
   "execution_count": 50,
   "outputs": [],
   "source": [
    "adata2.write_csvs(\"filename\", skip_data=False)"
   ],
   "metadata": {
    "collapsed": false
   }
  },
  {
   "cell_type": "code",
   "execution_count": 55,
   "outputs": [
    {
     "data": {
      "text/plain": "(4797, 14836)"
     },
     "execution_count": 55,
     "metadata": {},
     "output_type": "execute_result"
    }
   ],
   "source": [
    "adata2.X.shape"
   ],
   "metadata": {
    "collapsed": false
   }
  },
  {
   "cell_type": "code",
   "execution_count": 56,
   "outputs": [
    {
     "data": {
      "text/plain": "                                   orig.ident  nCount_RNA  nFeature_RNA  \\\nmidpoint_AAACCTGCACCCAGTG-1  midpoint_treated        2273          1042   \nmidpoint_AAACCTGCAGCTTAAC-1  midpoint_treated        2644          1036   \nmidpoint_AAACCTGGTGTGCGTC-1  midpoint_treated        8506          2325   \nmidpoint_AAACCTGGTTGAACTC-1  midpoint_treated        8249          2394   \nmidpoint_AAACGGGAGGATGGTC-1  midpoint_treated        4295          1505   \n\n                             percent.mt  RNA_snn_res.0.2  seurat_clusters  \\\nmidpoint_AAACCTGCACCCAGTG-1    4.047514              3.0                1   \nmidpoint_AAACCTGCAGCTTAAC-1    3.933434              3.0                1   \nmidpoint_AAACCTGGTGTGCGTC-1    4.067717              9.0                7   \nmidpoint_AAACCTGGTTGAACTC-1    2.691235              2.0                3   \nmidpoint_AAACGGGAGGATGGTC-1    2.281723              1.0                0   \n\n                             RNA_snn_res.0.3  RNA_snn_res.0.5  n_genes  \\\nmidpoint_AAACCTGCACCCAGTG-1              NaN                1     1042   \nmidpoint_AAACCTGCAGCTTAAC-1              NaN                1     1036   \nmidpoint_AAACCTGGTGTGCGTC-1              NaN                7     2325   \nmidpoint_AAACCTGGTTGAACTC-1              NaN                3     2394   \nmidpoint_AAACGGGAGGATGGTC-1              NaN                0     1505   \n\n                             n_genes_by_counts  total_counts  total_counts_mt  \\\nmidpoint_AAACCTGCACCCAGTG-1               1042        2273.0              0.0   \nmidpoint_AAACCTGCAGCTTAAC-1               1036        2644.0              0.0   \nmidpoint_AAACCTGGTGTGCGTC-1               2325        8506.0              0.0   \nmidpoint_AAACCTGGTTGAACTC-1               2394        8249.0              0.0   \nmidpoint_AAACGGGAGGATGGTC-1               1505        4295.0              0.0   \n\n                             pct_counts_mt  \nmidpoint_AAACCTGCACCCAGTG-1            0.0  \nmidpoint_AAACCTGCAGCTTAAC-1            0.0  \nmidpoint_AAACCTGGTGTGCGTC-1            0.0  \nmidpoint_AAACCTGGTTGAACTC-1            0.0  \nmidpoint_AAACGGGAGGATGGTC-1            0.0  ",
      "text/html": "<div>\n<style scoped>\n    .dataframe tbody tr th:only-of-type {\n        vertical-align: middle;\n    }\n\n    .dataframe tbody tr th {\n        vertical-align: top;\n    }\n\n    .dataframe thead th {\n        text-align: right;\n    }\n</style>\n<table border=\"1\" class=\"dataframe\">\n  <thead>\n    <tr style=\"text-align: right;\">\n      <th></th>\n      <th>orig.ident</th>\n      <th>nCount_RNA</th>\n      <th>nFeature_RNA</th>\n      <th>percent.mt</th>\n      <th>RNA_snn_res.0.2</th>\n      <th>seurat_clusters</th>\n      <th>RNA_snn_res.0.3</th>\n      <th>RNA_snn_res.0.5</th>\n      <th>n_genes</th>\n      <th>n_genes_by_counts</th>\n      <th>total_counts</th>\n      <th>total_counts_mt</th>\n      <th>pct_counts_mt</th>\n    </tr>\n  </thead>\n  <tbody>\n    <tr>\n      <th>midpoint_AAACCTGCACCCAGTG-1</th>\n      <td>midpoint_treated</td>\n      <td>2273</td>\n      <td>1042</td>\n      <td>4.047514</td>\n      <td>3.0</td>\n      <td>1</td>\n      <td>NaN</td>\n      <td>1</td>\n      <td>1042</td>\n      <td>1042</td>\n      <td>2273.0</td>\n      <td>0.0</td>\n      <td>0.0</td>\n    </tr>\n    <tr>\n      <th>midpoint_AAACCTGCAGCTTAAC-1</th>\n      <td>midpoint_treated</td>\n      <td>2644</td>\n      <td>1036</td>\n      <td>3.933434</td>\n      <td>3.0</td>\n      <td>1</td>\n      <td>NaN</td>\n      <td>1</td>\n      <td>1036</td>\n      <td>1036</td>\n      <td>2644.0</td>\n      <td>0.0</td>\n      <td>0.0</td>\n    </tr>\n    <tr>\n      <th>midpoint_AAACCTGGTGTGCGTC-1</th>\n      <td>midpoint_treated</td>\n      <td>8506</td>\n      <td>2325</td>\n      <td>4.067717</td>\n      <td>9.0</td>\n      <td>7</td>\n      <td>NaN</td>\n      <td>7</td>\n      <td>2325</td>\n      <td>2325</td>\n      <td>8506.0</td>\n      <td>0.0</td>\n      <td>0.0</td>\n    </tr>\n    <tr>\n      <th>midpoint_AAACCTGGTTGAACTC-1</th>\n      <td>midpoint_treated</td>\n      <td>8249</td>\n      <td>2394</td>\n      <td>2.691235</td>\n      <td>2.0</td>\n      <td>3</td>\n      <td>NaN</td>\n      <td>3</td>\n      <td>2394</td>\n      <td>2394</td>\n      <td>8249.0</td>\n      <td>0.0</td>\n      <td>0.0</td>\n    </tr>\n    <tr>\n      <th>midpoint_AAACGGGAGGATGGTC-1</th>\n      <td>midpoint_treated</td>\n      <td>4295</td>\n      <td>1505</td>\n      <td>2.281723</td>\n      <td>1.0</td>\n      <td>0</td>\n      <td>NaN</td>\n      <td>0</td>\n      <td>1505</td>\n      <td>1505</td>\n      <td>4295.0</td>\n      <td>0.0</td>\n      <td>0.0</td>\n    </tr>\n  </tbody>\n</table>\n</div>"
     },
     "execution_count": 56,
     "metadata": {},
     "output_type": "execute_result"
    }
   ],
   "source": [
    "adata2.obs.head()"
   ],
   "metadata": {
    "collapsed": false
   }
  },
  {
   "cell_type": "code",
   "execution_count": 53,
   "outputs": [],
   "source": [
    "\n",
    "\n",
    "\n",
    "\n",
    "        if qc_filter==True & normalize==True & log==True:\n",
    "            sc.pp.filter_cells(adata, min_genes=min_genes) # 200\n",
    "            sc.pp.filter_genes(adata, min_cells=min_cells) # 3\n",
    "            # annotate the group of mitochondrial genes as 'mt'\n",
    "            adata.var['mt'] = adata.var_names.str.startswith('MT-')\n",
    "            # calculate QC metrics\n",
    "            sc.pp.calculate_qc_metrics(adata, qc_vars=['mt'], percent_top=None, log1p=False, inplace=True)\n",
    "            # filtration based on QC filtering\n",
    "            adata = adata[adata.obs.pct_counts_mt < percent_mt, :]\n",
    "            sc.pp.normalize_total(adata, target_sum=target_sum)\n",
    "            sc.pp.log1p(adata)\n",
    "        if qc_filter==False & normalize==True & log==True:\n",
    "            # calculate QC metrics\n",
    "            sc.pp.calculate_qc_metrics(adata, qc_vars=['mt'], percent_top=None, log1p=False, inplace=True)\n",
    "            # filtration based on QC filtering\n",
    "            sc.pp.normalize_total(adata, target_sum=target_sum)\n",
    "            sc.pp.log1p(adata)\n",
    "\n",
    "        pd.DataFrame(data=adata.X, index=adata.obs_names, columns=adata.var_names).to_csv('adata_x.csv')\n",
    "        pd.DataFrame(data=adata.obs).to_csv('adata_meta_data.csv')"
   ],
   "metadata": {
    "collapsed": false
   }
  },
  {
   "cell_type": "code",
   "execution_count": 58,
   "outputs": [],
   "source": [],
   "metadata": {
    "collapsed": false
   }
  },
  {
   "cell_type": "code",
   "execution_count": null,
   "outputs": [],
   "source": [],
   "metadata": {
    "collapsed": false
   }
  }
 ],
 "metadata": {
  "kernelspec": {
   "display_name": "Python 3",
   "language": "python",
   "name": "python3"
  },
  "language_info": {
   "codemirror_mode": {
    "name": "ipython",
    "version": 2
   },
   "file_extension": ".py",
   "mimetype": "text/x-python",
   "name": "python",
   "nbconvert_exporter": "python",
   "pygments_lexer": "ipython2",
   "version": "2.7.6"
  }
 },
 "nbformat": 4,
 "nbformat_minor": 0
}

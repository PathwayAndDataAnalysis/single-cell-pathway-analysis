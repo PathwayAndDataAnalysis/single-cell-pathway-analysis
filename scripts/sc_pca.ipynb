{
 "cells": [
  {
   "cell_type": "code",
   "execution_count": 13,
   "metadata": {
    "collapsed": true
   },
   "outputs": [],
   "source": [
    "import pandas as pd\n",
    "import numpy as np"
   ]
  },
  {
   "cell_type": "code",
   "execution_count": 5,
   "outputs": [],
   "source": [
    "from sklearn.decomposition import PCA"
   ],
   "metadata": {
    "collapsed": false
   }
  },
  {
   "cell_type": "code",
   "execution_count": 3,
   "outputs": [],
   "source": [
    "test_data = pd.read_table(\"/home/meric/Downloads/test-data.tsv\",index_col=0)"
   ],
   "metadata": {
    "collapsed": false
   }
  },
  {
   "cell_type": "code",
   "execution_count": 4,
   "outputs": [
    {
     "data": {
      "text/plain": "           C1_0       C1_1       C1_2       C1_3       C1_4       C1_5  \\\nGene                                                                     \nG1_0  10.727042   8.315798   6.063312   5.687848   9.374830  10.380233   \nG1_1  11.184697   8.328764   8.928004   5.978260   8.296328   8.712758   \nG1_2  10.673568   9.595251   7.286249  10.833456  12.708644   8.502129   \nG1_3   5.998427  11.936252  12.113981   9.858911   8.206825   7.702442   \nG1_4   8.688702  10.510972  11.841540  13.105279  10.795819  10.026125   \n\n           C1_6       C1_7       C1_8       C1_9  ...      B_40      B_41  \\\nGene                                              ...                       \nG1_0  13.210917   7.549024   4.743596  11.042742  ...  2.148934  5.765072   \nG1_1  10.512857  10.069351  10.376496   8.968665  ...  5.467242  3.366546   \nG1_2   6.869061  11.439294   8.439351   8.224518  ...  4.161527  5.390796   \nG1_3   8.545305  10.458131  10.239256   9.517474  ...  7.215840  5.928617   \nG1_4  10.301745   9.012321   9.378242   9.046324  ...  1.720287  3.883959   \n\n          B_42      B_43      B_44      B_45      B_46      B_47      B_48  \\\nGene                                                                         \nG1_0  3.293237  3.969615  0.751296  0.713568  2.613277  0.000000  2.263453   \nG1_1  2.007725  1.862509  2.261315  0.000000  3.968883  1.003473  6.644671   \nG1_2  0.941041  0.000000  6.397566  0.116301  3.025528  3.686433  2.348062   \nG1_3  2.665901  2.962025  1.731702  3.834849  0.429191  1.307429  2.991722   \nG1_4  0.000000  0.000000  2.541528  2.702222  3.626690  3.049609  6.063447   \n\n          B_49  \nGene            \nG1_0  5.331783  \nG1_1  2.771534  \nG1_2  0.812386  \nG1_3  0.255414  \nG1_4  1.044988  \n\n[5 rows x 350 columns]",
      "text/html": "<div>\n<style scoped>\n    .dataframe tbody tr th:only-of-type {\n        vertical-align: middle;\n    }\n\n    .dataframe tbody tr th {\n        vertical-align: top;\n    }\n\n    .dataframe thead th {\n        text-align: right;\n    }\n</style>\n<table border=\"1\" class=\"dataframe\">\n  <thead>\n    <tr style=\"text-align: right;\">\n      <th></th>\n      <th>C1_0</th>\n      <th>C1_1</th>\n      <th>C1_2</th>\n      <th>C1_3</th>\n      <th>C1_4</th>\n      <th>C1_5</th>\n      <th>C1_6</th>\n      <th>C1_7</th>\n      <th>C1_8</th>\n      <th>C1_9</th>\n      <th>...</th>\n      <th>B_40</th>\n      <th>B_41</th>\n      <th>B_42</th>\n      <th>B_43</th>\n      <th>B_44</th>\n      <th>B_45</th>\n      <th>B_46</th>\n      <th>B_47</th>\n      <th>B_48</th>\n      <th>B_49</th>\n    </tr>\n    <tr>\n      <th>Gene</th>\n      <th></th>\n      <th></th>\n      <th></th>\n      <th></th>\n      <th></th>\n      <th></th>\n      <th></th>\n      <th></th>\n      <th></th>\n      <th></th>\n      <th></th>\n      <th></th>\n      <th></th>\n      <th></th>\n      <th></th>\n      <th></th>\n      <th></th>\n      <th></th>\n      <th></th>\n      <th></th>\n      <th></th>\n    </tr>\n  </thead>\n  <tbody>\n    <tr>\n      <th>G1_0</th>\n      <td>10.727042</td>\n      <td>8.315798</td>\n      <td>6.063312</td>\n      <td>5.687848</td>\n      <td>9.374830</td>\n      <td>10.380233</td>\n      <td>13.210917</td>\n      <td>7.549024</td>\n      <td>4.743596</td>\n      <td>11.042742</td>\n      <td>...</td>\n      <td>2.148934</td>\n      <td>5.765072</td>\n      <td>3.293237</td>\n      <td>3.969615</td>\n      <td>0.751296</td>\n      <td>0.713568</td>\n      <td>2.613277</td>\n      <td>0.000000</td>\n      <td>2.263453</td>\n      <td>5.331783</td>\n    </tr>\n    <tr>\n      <th>G1_1</th>\n      <td>11.184697</td>\n      <td>8.328764</td>\n      <td>8.928004</td>\n      <td>5.978260</td>\n      <td>8.296328</td>\n      <td>8.712758</td>\n      <td>10.512857</td>\n      <td>10.069351</td>\n      <td>10.376496</td>\n      <td>8.968665</td>\n      <td>...</td>\n      <td>5.467242</td>\n      <td>3.366546</td>\n      <td>2.007725</td>\n      <td>1.862509</td>\n      <td>2.261315</td>\n      <td>0.000000</td>\n      <td>3.968883</td>\n      <td>1.003473</td>\n      <td>6.644671</td>\n      <td>2.771534</td>\n    </tr>\n    <tr>\n      <th>G1_2</th>\n      <td>10.673568</td>\n      <td>9.595251</td>\n      <td>7.286249</td>\n      <td>10.833456</td>\n      <td>12.708644</td>\n      <td>8.502129</td>\n      <td>6.869061</td>\n      <td>11.439294</td>\n      <td>8.439351</td>\n      <td>8.224518</td>\n      <td>...</td>\n      <td>4.161527</td>\n      <td>5.390796</td>\n      <td>0.941041</td>\n      <td>0.000000</td>\n      <td>6.397566</td>\n      <td>0.116301</td>\n      <td>3.025528</td>\n      <td>3.686433</td>\n      <td>2.348062</td>\n      <td>0.812386</td>\n    </tr>\n    <tr>\n      <th>G1_3</th>\n      <td>5.998427</td>\n      <td>11.936252</td>\n      <td>12.113981</td>\n      <td>9.858911</td>\n      <td>8.206825</td>\n      <td>7.702442</td>\n      <td>8.545305</td>\n      <td>10.458131</td>\n      <td>10.239256</td>\n      <td>9.517474</td>\n      <td>...</td>\n      <td>7.215840</td>\n      <td>5.928617</td>\n      <td>2.665901</td>\n      <td>2.962025</td>\n      <td>1.731702</td>\n      <td>3.834849</td>\n      <td>0.429191</td>\n      <td>1.307429</td>\n      <td>2.991722</td>\n      <td>0.255414</td>\n    </tr>\n    <tr>\n      <th>G1_4</th>\n      <td>8.688702</td>\n      <td>10.510972</td>\n      <td>11.841540</td>\n      <td>13.105279</td>\n      <td>10.795819</td>\n      <td>10.026125</td>\n      <td>10.301745</td>\n      <td>9.012321</td>\n      <td>9.378242</td>\n      <td>9.046324</td>\n      <td>...</td>\n      <td>1.720287</td>\n      <td>3.883959</td>\n      <td>0.000000</td>\n      <td>0.000000</td>\n      <td>2.541528</td>\n      <td>2.702222</td>\n      <td>3.626690</td>\n      <td>3.049609</td>\n      <td>6.063447</td>\n      <td>1.044988</td>\n    </tr>\n  </tbody>\n</table>\n<p>5 rows × 350 columns</p>\n</div>"
     },
     "execution_count": 4,
     "metadata": {},
     "output_type": "execute_result"
    }
   ],
   "source": [
    "test_data.head()"
   ],
   "metadata": {
    "collapsed": false
   }
  },
  {
   "cell_type": "code",
   "execution_count": 6,
   "outputs": [],
   "source": [
    "pca = PCA(n_components=5)"
   ],
   "metadata": {
    "collapsed": false
   }
  },
  {
   "cell_type": "code",
   "execution_count": 7,
   "outputs": [
    {
     "data": {
      "text/plain": "PCA(n_components=5)",
      "text/html": "<style>#sk-container-id-1 {color: black;background-color: white;}#sk-container-id-1 pre{padding: 0;}#sk-container-id-1 div.sk-toggleable {background-color: white;}#sk-container-id-1 label.sk-toggleable__label {cursor: pointer;display: block;width: 100%;margin-bottom: 0;padding: 0.3em;box-sizing: border-box;text-align: center;}#sk-container-id-1 label.sk-toggleable__label-arrow:before {content: \"▸\";float: left;margin-right: 0.25em;color: #696969;}#sk-container-id-1 label.sk-toggleable__label-arrow:hover:before {color: black;}#sk-container-id-1 div.sk-estimator:hover label.sk-toggleable__label-arrow:before {color: black;}#sk-container-id-1 div.sk-toggleable__content {max-height: 0;max-width: 0;overflow: hidden;text-align: left;background-color: #f0f8ff;}#sk-container-id-1 div.sk-toggleable__content pre {margin: 0.2em;color: black;border-radius: 0.25em;background-color: #f0f8ff;}#sk-container-id-1 input.sk-toggleable__control:checked~div.sk-toggleable__content {max-height: 200px;max-width: 100%;overflow: auto;}#sk-container-id-1 input.sk-toggleable__control:checked~label.sk-toggleable__label-arrow:before {content: \"▾\";}#sk-container-id-1 div.sk-estimator input.sk-toggleable__control:checked~label.sk-toggleable__label {background-color: #d4ebff;}#sk-container-id-1 div.sk-label input.sk-toggleable__control:checked~label.sk-toggleable__label {background-color: #d4ebff;}#sk-container-id-1 input.sk-hidden--visually {border: 0;clip: rect(1px 1px 1px 1px);clip: rect(1px, 1px, 1px, 1px);height: 1px;margin: -1px;overflow: hidden;padding: 0;position: absolute;width: 1px;}#sk-container-id-1 div.sk-estimator {font-family: monospace;background-color: #f0f8ff;border: 1px dotted black;border-radius: 0.25em;box-sizing: border-box;margin-bottom: 0.5em;}#sk-container-id-1 div.sk-estimator:hover {background-color: #d4ebff;}#sk-container-id-1 div.sk-parallel-item::after {content: \"\";width: 100%;border-bottom: 1px solid gray;flex-grow: 1;}#sk-container-id-1 div.sk-label:hover label.sk-toggleable__label {background-color: #d4ebff;}#sk-container-id-1 div.sk-serial::before {content: \"\";position: absolute;border-left: 1px solid gray;box-sizing: border-box;top: 0;bottom: 0;left: 50%;z-index: 0;}#sk-container-id-1 div.sk-serial {display: flex;flex-direction: column;align-items: center;background-color: white;padding-right: 0.2em;padding-left: 0.2em;position: relative;}#sk-container-id-1 div.sk-item {position: relative;z-index: 1;}#sk-container-id-1 div.sk-parallel {display: flex;align-items: stretch;justify-content: center;background-color: white;position: relative;}#sk-container-id-1 div.sk-item::before, #sk-container-id-1 div.sk-parallel-item::before {content: \"\";position: absolute;border-left: 1px solid gray;box-sizing: border-box;top: 0;bottom: 0;left: 50%;z-index: -1;}#sk-container-id-1 div.sk-parallel-item {display: flex;flex-direction: column;z-index: 1;position: relative;background-color: white;}#sk-container-id-1 div.sk-parallel-item:first-child::after {align-self: flex-end;width: 50%;}#sk-container-id-1 div.sk-parallel-item:last-child::after {align-self: flex-start;width: 50%;}#sk-container-id-1 div.sk-parallel-item:only-child::after {width: 0;}#sk-container-id-1 div.sk-dashed-wrapped {border: 1px dashed gray;margin: 0 0.4em 0.5em 0.4em;box-sizing: border-box;padding-bottom: 0.4em;background-color: white;}#sk-container-id-1 div.sk-label label {font-family: monospace;font-weight: bold;display: inline-block;line-height: 1.2em;}#sk-container-id-1 div.sk-label-container {text-align: center;}#sk-container-id-1 div.sk-container {/* jupyter's `normalize.less` sets `[hidden] { display: none; }` but bootstrap.min.css set `[hidden] { display: none !important; }` so we also need the `!important` here to be able to override the default hidden behavior on the sphinx rendered scikit-learn.org. See: https://github.com/scikit-learn/scikit-learn/issues/21755 */display: inline-block !important;position: relative;}#sk-container-id-1 div.sk-text-repr-fallback {display: none;}</style><div id=\"sk-container-id-1\" class=\"sk-top-container\"><div class=\"sk-text-repr-fallback\"><pre>PCA(n_components=5)</pre><b>In a Jupyter environment, please rerun this cell to show the HTML representation or trust the notebook. <br />On GitHub, the HTML representation is unable to render, please try loading this page with nbviewer.org.</b></div><div class=\"sk-container\" hidden><div class=\"sk-item\"><div class=\"sk-estimator sk-toggleable\"><input class=\"sk-toggleable__control sk-hidden--visually\" id=\"sk-estimator-id-1\" type=\"checkbox\" checked><label for=\"sk-estimator-id-1\" class=\"sk-toggleable__label sk-toggleable__label-arrow\">PCA</label><div class=\"sk-toggleable__content\"><pre>PCA(n_components=5)</pre></div></div></div></div></div>"
     },
     "execution_count": 7,
     "metadata": {},
     "output_type": "execute_result"
    }
   ],
   "source": [
    "pca.fit(test_data)"
   ],
   "metadata": {
    "collapsed": false
   }
  },
  {
   "cell_type": "code",
   "execution_count": 12,
   "outputs": [
    {
     "data": {
      "text/plain": "array([[-0.0599143 , -0.05690744, -0.06651689, ...,  0.06690069,\n         0.0641429 ,  0.0763421 ],\n       [-0.04217925, -0.03823771, -0.04523828, ..., -0.02201733,\n        -0.02823815, -0.03791782],\n       [-0.01786276, -0.02329198,  0.01368761, ...,  0.00934517,\n         0.09585235, -0.01134045],\n       [ 0.03535643, -0.04922376, -0.0477477 , ..., -0.06071704,\n        -0.07411535,  0.01062128],\n       [ 0.07348611,  0.03158192, -0.04235149, ...,  0.04998772,\n         0.05192586, -0.04676202]])"
     },
     "execution_count": 12,
     "metadata": {},
     "output_type": "execute_result"
    }
   ],
   "source": [
    "pca.components_"
   ],
   "metadata": {
    "collapsed": false
   }
  },
  {
   "cell_type": "code",
   "execution_count": 14,
   "outputs": [],
   "source": [
    "df = pd.DataFrame(pca.components_, columns =test_data.columns,index=pcs)"
   ],
   "metadata": {
    "collapsed": false
   }
  },
  {
   "cell_type": "code",
   "execution_count": 41,
   "outputs": [],
   "source": [
    "pcs = []\n",
    "for i in range(1,6):\n",
    "    x = \"PC{0}\".format(i)\n",
    "    pcs.append(x)"
   ],
   "metadata": {
    "collapsed": false
   }
  },
  {
   "cell_type": "code",
   "execution_count": 42,
   "outputs": [
    {
     "data": {
      "text/plain": "['PC1', 'PC2', 'PC3', 'PC4', 'PC5']"
     },
     "execution_count": 42,
     "metadata": {},
     "output_type": "execute_result"
    }
   ],
   "source": [
    "pcs"
   ],
   "metadata": {
    "collapsed": false
   }
  },
  {
   "cell_type": "code",
   "execution_count": 43,
   "outputs": [],
   "source": [
    "df = pd.DataFrame(pca.components_, columns =test_data.columns,index=pcs)\n",
    "df.to_csv()"
   ],
   "metadata": {
    "collapsed": false
   }
  },
  {
   "cell_type": "code",
   "execution_count": 44,
   "outputs": [
    {
     "data": {
      "text/plain": "         C1_0      C1_1      C1_2      C1_3      C1_4      C1_5      C1_6  \\\nPC1 -0.059914 -0.056907 -0.066517 -0.064861 -0.067266 -0.062203 -0.059486   \nPC2 -0.042179 -0.038238 -0.045238 -0.048221 -0.045832 -0.041434 -0.033862   \nPC3 -0.017863 -0.023292  0.013688  0.118818  0.058341  0.032989 -0.130060   \nPC4  0.035356 -0.049224 -0.047748  0.084600 -0.021655  0.043432 -0.056649   \nPC5  0.073486  0.031582 -0.042351  0.120388 -0.012340 -0.117341 -0.028464   \n\n         C1_7      C1_8      C1_9  ...      B_40      B_41      B_42  \\\nPC1 -0.069288 -0.060969 -0.066028  ...  0.055723  0.041354  0.051745   \nPC2 -0.055494 -0.041924 -0.045479  ... -0.029493 -0.037859 -0.031373   \nPC3  0.016114  0.027469 -0.014466  ...  0.003636 -0.034886 -0.049983   \nPC4 -0.022057 -0.053111 -0.046415  ...  0.005985  0.001027 -0.035369   \nPC5 -0.005059 -0.011090  0.038150  ... -0.016464  0.037444  0.004817   \n\n         B_43      B_44      B_45      B_46      B_47      B_48      B_49  \nPC1  0.065362  0.055505  0.064130  0.067840  0.066901  0.064143  0.076342  \nPC2 -0.032823 -0.030317 -0.032542 -0.030590 -0.022017 -0.028238 -0.037918  \nPC3 -0.059948  0.103659  0.023486  0.034854  0.009345  0.095852 -0.011340  \nPC4  0.080548 -0.121961  0.036286 -0.017478 -0.060717 -0.074115  0.010621  \nPC5 -0.040610 -0.032123 -0.073258 -0.031799  0.049988  0.051926 -0.046762  \n\n[5 rows x 350 columns]",
      "text/html": "<div>\n<style scoped>\n    .dataframe tbody tr th:only-of-type {\n        vertical-align: middle;\n    }\n\n    .dataframe tbody tr th {\n        vertical-align: top;\n    }\n\n    .dataframe thead th {\n        text-align: right;\n    }\n</style>\n<table border=\"1\" class=\"dataframe\">\n  <thead>\n    <tr style=\"text-align: right;\">\n      <th></th>\n      <th>C1_0</th>\n      <th>C1_1</th>\n      <th>C1_2</th>\n      <th>C1_3</th>\n      <th>C1_4</th>\n      <th>C1_5</th>\n      <th>C1_6</th>\n      <th>C1_7</th>\n      <th>C1_8</th>\n      <th>C1_9</th>\n      <th>...</th>\n      <th>B_40</th>\n      <th>B_41</th>\n      <th>B_42</th>\n      <th>B_43</th>\n      <th>B_44</th>\n      <th>B_45</th>\n      <th>B_46</th>\n      <th>B_47</th>\n      <th>B_48</th>\n      <th>B_49</th>\n    </tr>\n  </thead>\n  <tbody>\n    <tr>\n      <th>PC1</th>\n      <td>-0.059914</td>\n      <td>-0.056907</td>\n      <td>-0.066517</td>\n      <td>-0.064861</td>\n      <td>-0.067266</td>\n      <td>-0.062203</td>\n      <td>-0.059486</td>\n      <td>-0.069288</td>\n      <td>-0.060969</td>\n      <td>-0.066028</td>\n      <td>...</td>\n      <td>0.055723</td>\n      <td>0.041354</td>\n      <td>0.051745</td>\n      <td>0.065362</td>\n      <td>0.055505</td>\n      <td>0.064130</td>\n      <td>0.067840</td>\n      <td>0.066901</td>\n      <td>0.064143</td>\n      <td>0.076342</td>\n    </tr>\n    <tr>\n      <th>PC2</th>\n      <td>-0.042179</td>\n      <td>-0.038238</td>\n      <td>-0.045238</td>\n      <td>-0.048221</td>\n      <td>-0.045832</td>\n      <td>-0.041434</td>\n      <td>-0.033862</td>\n      <td>-0.055494</td>\n      <td>-0.041924</td>\n      <td>-0.045479</td>\n      <td>...</td>\n      <td>-0.029493</td>\n      <td>-0.037859</td>\n      <td>-0.031373</td>\n      <td>-0.032823</td>\n      <td>-0.030317</td>\n      <td>-0.032542</td>\n      <td>-0.030590</td>\n      <td>-0.022017</td>\n      <td>-0.028238</td>\n      <td>-0.037918</td>\n    </tr>\n    <tr>\n      <th>PC3</th>\n      <td>-0.017863</td>\n      <td>-0.023292</td>\n      <td>0.013688</td>\n      <td>0.118818</td>\n      <td>0.058341</td>\n      <td>0.032989</td>\n      <td>-0.130060</td>\n      <td>0.016114</td>\n      <td>0.027469</td>\n      <td>-0.014466</td>\n      <td>...</td>\n      <td>0.003636</td>\n      <td>-0.034886</td>\n      <td>-0.049983</td>\n      <td>-0.059948</td>\n      <td>0.103659</td>\n      <td>0.023486</td>\n      <td>0.034854</td>\n      <td>0.009345</td>\n      <td>0.095852</td>\n      <td>-0.011340</td>\n    </tr>\n    <tr>\n      <th>PC4</th>\n      <td>0.035356</td>\n      <td>-0.049224</td>\n      <td>-0.047748</td>\n      <td>0.084600</td>\n      <td>-0.021655</td>\n      <td>0.043432</td>\n      <td>-0.056649</td>\n      <td>-0.022057</td>\n      <td>-0.053111</td>\n      <td>-0.046415</td>\n      <td>...</td>\n      <td>0.005985</td>\n      <td>0.001027</td>\n      <td>-0.035369</td>\n      <td>0.080548</td>\n      <td>-0.121961</td>\n      <td>0.036286</td>\n      <td>-0.017478</td>\n      <td>-0.060717</td>\n      <td>-0.074115</td>\n      <td>0.010621</td>\n    </tr>\n    <tr>\n      <th>PC5</th>\n      <td>0.073486</td>\n      <td>0.031582</td>\n      <td>-0.042351</td>\n      <td>0.120388</td>\n      <td>-0.012340</td>\n      <td>-0.117341</td>\n      <td>-0.028464</td>\n      <td>-0.005059</td>\n      <td>-0.011090</td>\n      <td>0.038150</td>\n      <td>...</td>\n      <td>-0.016464</td>\n      <td>0.037444</td>\n      <td>0.004817</td>\n      <td>-0.040610</td>\n      <td>-0.032123</td>\n      <td>-0.073258</td>\n      <td>-0.031799</td>\n      <td>0.049988</td>\n      <td>0.051926</td>\n      <td>-0.046762</td>\n    </tr>\n  </tbody>\n</table>\n<p>5 rows × 350 columns</p>\n</div>"
     },
     "execution_count": 44,
     "metadata": {},
     "output_type": "execute_result"
    }
   ],
   "source": [
    "df.head()"
   ],
   "metadata": {
    "collapsed": false
   }
  },
  {
   "cell_type": "code",
   "execution_count": 61,
   "outputs": [
    {
     "data": {
      "text/plain": "numpy.ndarray"
     },
     "execution_count": 61,
     "metadata": {},
     "output_type": "execute_result"
    }
   ],
   "source": [
    "type(pca.components_)"
   ],
   "metadata": {
    "collapsed": false
   }
  },
  {
   "cell_type": "code",
   "execution_count": 49,
   "outputs": [],
   "source": [
    "df.to_csv(\"principal_components.tsv\",sep='\\t')"
   ],
   "metadata": {
    "collapsed": false
   }
  },
  {
   "cell_type": "code",
   "execution_count": 70,
   "outputs": [],
   "source": [
    "pth = \"/home/meric/Downloads/test-data.tsv\""
   ],
   "metadata": {
    "collapsed": false
   }
  },
  {
   "cell_type": "code",
   "execution_count": 78,
   "outputs": [],
   "source": [
    "def sc_pca (input_path, output_path,n_comp = 5):\n",
    "    input_data = pd.read_table(input_path,index_col=0)\n",
    "    pca = PCA(n_components=n_comp)\n",
    "    pca.fit(input_data)\n",
    "    pca.components_\n",
    "    pcs = []\n",
    "    for i in range(1,n_comp+1):\n",
    "        x = \"PC{0}\".format(i)\n",
    "        pcs.append(x)\n",
    "    pc_df = pd.DataFrame(pca.components_, columns =input_data.columns,index=pcs)\n",
    "    pc_df.to_csv(output_path,sep=\"\\t\")\n",
    "    return (pc_df)"
   ],
   "metadata": {
    "collapsed": false
   }
  },
  {
   "cell_type": "code",
   "execution_count": 79,
   "outputs": [
    {
     "data": {
      "text/plain": "         C1_0      C1_1      C1_2      C1_3      C1_4      C1_5      C1_6  \\\nPC1 -0.059914 -0.056907 -0.066517 -0.064861 -0.067266 -0.062203 -0.059486   \nPC2 -0.042179 -0.038238 -0.045238 -0.048221 -0.045832 -0.041434 -0.033862   \nPC3 -0.017863 -0.023292  0.013688  0.118818  0.058341  0.032989 -0.130060   \nPC4  0.035356 -0.049224 -0.047748  0.084600 -0.021655  0.043432 -0.056649   \nPC5  0.073486  0.031582 -0.042351  0.120388 -0.012340 -0.117341 -0.028464   \n\n         C1_7      C1_8      C1_9  ...      B_40      B_41      B_42  \\\nPC1 -0.069288 -0.060969 -0.066028  ...  0.055723  0.041354  0.051745   \nPC2 -0.055494 -0.041924 -0.045479  ... -0.029493 -0.037859 -0.031373   \nPC3  0.016114  0.027469 -0.014466  ...  0.003636 -0.034886 -0.049983   \nPC4 -0.022057 -0.053111 -0.046415  ...  0.005985  0.001027 -0.035369   \nPC5 -0.005059 -0.011090  0.038150  ... -0.016464  0.037444  0.004817   \n\n         B_43      B_44      B_45      B_46      B_47      B_48      B_49  \nPC1  0.065362  0.055505  0.064130  0.067840  0.066901  0.064143  0.076342  \nPC2 -0.032823 -0.030317 -0.032542 -0.030590 -0.022017 -0.028238 -0.037918  \nPC3 -0.059948  0.103659  0.023486  0.034854  0.009345  0.095852 -0.011340  \nPC4  0.080548 -0.121961  0.036286 -0.017478 -0.060717 -0.074115  0.010621  \nPC5 -0.040610 -0.032123 -0.073258 -0.031799  0.049988  0.051926 -0.046762  \n\n[5 rows x 350 columns]",
      "text/html": "<div>\n<style scoped>\n    .dataframe tbody tr th:only-of-type {\n        vertical-align: middle;\n    }\n\n    .dataframe tbody tr th {\n        vertical-align: top;\n    }\n\n    .dataframe thead th {\n        text-align: right;\n    }\n</style>\n<table border=\"1\" class=\"dataframe\">\n  <thead>\n    <tr style=\"text-align: right;\">\n      <th></th>\n      <th>C1_0</th>\n      <th>C1_1</th>\n      <th>C1_2</th>\n      <th>C1_3</th>\n      <th>C1_4</th>\n      <th>C1_5</th>\n      <th>C1_6</th>\n      <th>C1_7</th>\n      <th>C1_8</th>\n      <th>C1_9</th>\n      <th>...</th>\n      <th>B_40</th>\n      <th>B_41</th>\n      <th>B_42</th>\n      <th>B_43</th>\n      <th>B_44</th>\n      <th>B_45</th>\n      <th>B_46</th>\n      <th>B_47</th>\n      <th>B_48</th>\n      <th>B_49</th>\n    </tr>\n  </thead>\n  <tbody>\n    <tr>\n      <th>PC1</th>\n      <td>-0.059914</td>\n      <td>-0.056907</td>\n      <td>-0.066517</td>\n      <td>-0.064861</td>\n      <td>-0.067266</td>\n      <td>-0.062203</td>\n      <td>-0.059486</td>\n      <td>-0.069288</td>\n      <td>-0.060969</td>\n      <td>-0.066028</td>\n      <td>...</td>\n      <td>0.055723</td>\n      <td>0.041354</td>\n      <td>0.051745</td>\n      <td>0.065362</td>\n      <td>0.055505</td>\n      <td>0.064130</td>\n      <td>0.067840</td>\n      <td>0.066901</td>\n      <td>0.064143</td>\n      <td>0.076342</td>\n    </tr>\n    <tr>\n      <th>PC2</th>\n      <td>-0.042179</td>\n      <td>-0.038238</td>\n      <td>-0.045238</td>\n      <td>-0.048221</td>\n      <td>-0.045832</td>\n      <td>-0.041434</td>\n      <td>-0.033862</td>\n      <td>-0.055494</td>\n      <td>-0.041924</td>\n      <td>-0.045479</td>\n      <td>...</td>\n      <td>-0.029493</td>\n      <td>-0.037859</td>\n      <td>-0.031373</td>\n      <td>-0.032823</td>\n      <td>-0.030317</td>\n      <td>-0.032542</td>\n      <td>-0.030590</td>\n      <td>-0.022017</td>\n      <td>-0.028238</td>\n      <td>-0.037918</td>\n    </tr>\n    <tr>\n      <th>PC3</th>\n      <td>-0.017863</td>\n      <td>-0.023292</td>\n      <td>0.013688</td>\n      <td>0.118818</td>\n      <td>0.058341</td>\n      <td>0.032989</td>\n      <td>-0.130060</td>\n      <td>0.016114</td>\n      <td>0.027469</td>\n      <td>-0.014466</td>\n      <td>...</td>\n      <td>0.003636</td>\n      <td>-0.034886</td>\n      <td>-0.049983</td>\n      <td>-0.059948</td>\n      <td>0.103659</td>\n      <td>0.023486</td>\n      <td>0.034854</td>\n      <td>0.009345</td>\n      <td>0.095852</td>\n      <td>-0.011340</td>\n    </tr>\n    <tr>\n      <th>PC4</th>\n      <td>0.035356</td>\n      <td>-0.049224</td>\n      <td>-0.047748</td>\n      <td>0.084600</td>\n      <td>-0.021655</td>\n      <td>0.043432</td>\n      <td>-0.056649</td>\n      <td>-0.022057</td>\n      <td>-0.053111</td>\n      <td>-0.046415</td>\n      <td>...</td>\n      <td>0.005985</td>\n      <td>0.001027</td>\n      <td>-0.035369</td>\n      <td>0.080548</td>\n      <td>-0.121961</td>\n      <td>0.036286</td>\n      <td>-0.017478</td>\n      <td>-0.060717</td>\n      <td>-0.074115</td>\n      <td>0.010621</td>\n    </tr>\n    <tr>\n      <th>PC5</th>\n      <td>0.073486</td>\n      <td>0.031582</td>\n      <td>-0.042351</td>\n      <td>0.120388</td>\n      <td>-0.012340</td>\n      <td>-0.117341</td>\n      <td>-0.028464</td>\n      <td>-0.005059</td>\n      <td>-0.011090</td>\n      <td>0.038150</td>\n      <td>...</td>\n      <td>-0.016464</td>\n      <td>0.037444</td>\n      <td>0.004817</td>\n      <td>-0.040610</td>\n      <td>-0.032123</td>\n      <td>-0.073258</td>\n      <td>-0.031799</td>\n      <td>0.049988</td>\n      <td>0.051926</td>\n      <td>-0.046762</td>\n    </tr>\n  </tbody>\n</table>\n<p>5 rows × 350 columns</p>\n</div>"
     },
     "execution_count": 79,
     "metadata": {},
     "output_type": "execute_result"
    }
   ],
   "source": [
    "sc_pca(pth,\"out/a.tsv\")"
   ],
   "metadata": {
    "collapsed": false
   }
  },
  {
   "cell_type": "code",
   "execution_count": 50,
   "outputs": [],
   "source": [
    "on = \"a\""
   ],
   "metadata": {
    "collapsed": false
   }
  },
  {
   "cell_type": "code",
   "execution_count": 51,
   "outputs": [
    {
     "data": {
      "text/plain": "'a.csv'"
     },
     "execution_count": 51,
     "metadata": {},
     "output_type": "execute_result"
    }
   ],
   "source": [],
   "metadata": {
    "collapsed": false
   }
  }
 ],
 "metadata": {
  "kernelspec": {
   "display_name": "Python 3",
   "language": "python",
   "name": "python3"
  },
  "language_info": {
   "codemirror_mode": {
    "name": "ipython",
    "version": 2
   },
   "file_extension": ".py",
   "mimetype": "text/x-python",
   "name": "python",
   "nbconvert_exporter": "python",
   "pygments_lexer": "ipython2",
   "version": "2.7.6"
  }
 },
 "nbformat": 4,
 "nbformat_minor": 0
}

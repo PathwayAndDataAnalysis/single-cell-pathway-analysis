{
 "cells": [
  {
   "cell_type": "code",
   "execution_count": null,
   "metadata": {
    "collapsed": true
   },
   "outputs": [],
   "source": [
    "import pandas as pd\n",
    "import numpy as np"
   ]
  },
  {
   "cell_type": "code",
   "execution_count": null,
   "outputs": [],
   "source": [
    "from sklearn.decomposition import PCA"
   ],
   "metadata": {
    "collapsed": false
   }
  },
  {
   "cell_type": "code",
   "execution_count": null,
   "outputs": [],
   "source": [
    "test_data = pd.read_table(\"/home/meric/Downloads/test-data.tsv\",index_col=0)"
   ],
   "metadata": {
    "collapsed": false
   }
  },
  {
   "cell_type": "code",
   "execution_count": null,
   "outputs": [],
   "source": [
    "test_data.head()"
   ],
   "metadata": {
    "collapsed": false
   }
  },
  {
   "cell_type": "code",
   "execution_count": null,
   "outputs": [],
   "source": [
    "pca = PCA(n_components=5)"
   ],
   "metadata": {
    "collapsed": false
   }
  },
  {
   "cell_type": "code",
   "execution_count": null,
   "outputs": [],
   "source": [
    "pca.fit(test_data)"
   ],
   "metadata": {
    "collapsed": false
   }
  },
  {
   "cell_type": "code",
   "execution_count": null,
   "outputs": [],
   "source": [
    "pca.components_"
   ],
   "metadata": {
    "collapsed": false
   }
  },
  {
   "cell_type": "code",
   "execution_count": null,
   "outputs": [],
   "source": [
    "df = pd.DataFrame(pca.components_, columns =test_data.columns,index=pcs)"
   ],
   "metadata": {
    "collapsed": false
   }
  },
  {
   "cell_type": "code",
   "execution_count": null,
   "outputs": [],
   "source": [
    "pcs = []\n",
    "for i in range(1,6):\n",
    "    x = \"PC{0}\".format(i)\n",
    "    pcs.append(x)"
   ],
   "metadata": {
    "collapsed": false
   }
  },
  {
   "cell_type": "code",
   "execution_count": null,
   "outputs": [],
   "source": [
    "pcs"
   ],
   "metadata": {
    "collapsed": false
   }
  },
  {
   "cell_type": "code",
   "execution_count": null,
   "outputs": [],
   "source": [
    "df = pd.DataFrame(pca.components_, columns =test_data.columns,index=pcs)\n",
    "df.to_csv()"
   ],
   "metadata": {
    "collapsed": false
   }
  },
  {
   "cell_type": "code",
   "execution_count": null,
   "outputs": [],
   "source": [
    "df.head()"
   ],
   "metadata": {
    "collapsed": false
   }
  },
  {
   "cell_type": "code",
   "execution_count": null,
   "outputs": [],
   "source": [
    "type(pca.components_)"
   ],
   "metadata": {
    "collapsed": false
   }
  },
  {
   "cell_type": "code",
   "execution_count": null,
   "outputs": [],
   "source": [
    "df.to_csv(\"principal_components.tsv\",sep='\\t')"
   ],
   "metadata": {
    "collapsed": false
   }
  },
  {
   "cell_type": "code",
   "execution_count": null,
   "outputs": [],
   "source": [
    "pth = \"/home/meric/Downloads/test-data.tsv\""
   ],
   "metadata": {
    "collapsed": false
   }
  },
  {
   "cell_type": "code",
   "execution_count": null,
   "outputs": [],
   "source": [
    "def sc_pca (input_path, output_path,n_comp = 5):\n",
    "    input_data = pd.read_table(input_path,index_col=0)\n",
    "    pca = PCA(n_components=n_comp)\n",
    "    pca.fit(input_data)\n",
    "    pca.components_\n",
    "    pcs = []\n",
    "    for i in range(1,n_comp+1):\n",
    "        x = \"PC{0}\".format(i)\n",
    "        pcs.append(x)\n",
    "    pc_df = pd.DataFrame(pca.components_, columns =input_data.columns,index=pcs)\n",
    "    pc_df.to_csv(output_path,sep=\"\\t\")\n",
    "    return (pc_df)"
   ],
   "metadata": {
    "collapsed": false
   }
  },
  {
   "cell_type": "code",
   "execution_count": null,
   "outputs": [],
   "source": [
    "sc_pca(pth,\"out/a.tsv\")"
   ],
   "metadata": {
    "collapsed": false
   }
  },
  {
   "cell_type": "code",
   "execution_count": 6,
   "outputs": [],
   "source": [
    "import pandas as pd\n",
    "import umap\n"
   ],
   "metadata": {
    "collapsed": false
   }
  },
  {
   "cell_type": "code",
   "execution_count": 23,
   "outputs": [],
   "source": [
    "# input path should be output of sc_PCA function\n",
    "def sc_umap (input_path, output_path):\n",
    "    input_data = pd.read_table(input_path,index_col=0)\n",
    "    input_T = input_data.T\n",
    "    um = umap.UMAP()\n",
    "    X_fit = um.fit(input_T)\n",
    "    X_umap = um.transform(input_T)\n",
    "    umap_df = pd.DataFrame(data = X_umap, columns = ['umap comp. 1', 'umap comp. 2'])\n",
    "    umap_df.to_csv(output_path,sep=\"\\t\")\n",
    "    return (umap_df)"
   ],
   "metadata": {
    "collapsed": false
   }
  },
  {
   "cell_type": "code",
   "execution_count": 24,
   "outputs": [
    {
     "data": {
      "text/plain": "     umap comp. 1  umap comp. 2\n0       11.568132      2.369307\n1        9.529893      2.650928\n2       10.230000      0.096711\n3       12.426225      0.842449\n4       10.897599      0.109111\n..            ...           ...\n345     14.154822      9.191556\n346     14.797130      8.635431\n347     15.487749      7.630912\n348     15.941669      8.019256\n349     14.218534      8.486976\n\n[350 rows x 2 columns]",
      "text/html": "<div>\n<style scoped>\n    .dataframe tbody tr th:only-of-type {\n        vertical-align: middle;\n    }\n\n    .dataframe tbody tr th {\n        vertical-align: top;\n    }\n\n    .dataframe thead th {\n        text-align: right;\n    }\n</style>\n<table border=\"1\" class=\"dataframe\">\n  <thead>\n    <tr style=\"text-align: right;\">\n      <th></th>\n      <th>umap comp. 1</th>\n      <th>umap comp. 2</th>\n    </tr>\n  </thead>\n  <tbody>\n    <tr>\n      <th>0</th>\n      <td>11.568132</td>\n      <td>2.369307</td>\n    </tr>\n    <tr>\n      <th>1</th>\n      <td>9.529893</td>\n      <td>2.650928</td>\n    </tr>\n    <tr>\n      <th>2</th>\n      <td>10.230000</td>\n      <td>0.096711</td>\n    </tr>\n    <tr>\n      <th>3</th>\n      <td>12.426225</td>\n      <td>0.842449</td>\n    </tr>\n    <tr>\n      <th>4</th>\n      <td>10.897599</td>\n      <td>0.109111</td>\n    </tr>\n    <tr>\n      <th>...</th>\n      <td>...</td>\n      <td>...</td>\n    </tr>\n    <tr>\n      <th>345</th>\n      <td>14.154822</td>\n      <td>9.191556</td>\n    </tr>\n    <tr>\n      <th>346</th>\n      <td>14.797130</td>\n      <td>8.635431</td>\n    </tr>\n    <tr>\n      <th>347</th>\n      <td>15.487749</td>\n      <td>7.630912</td>\n    </tr>\n    <tr>\n      <th>348</th>\n      <td>15.941669</td>\n      <td>8.019256</td>\n    </tr>\n    <tr>\n      <th>349</th>\n      <td>14.218534</td>\n      <td>8.486976</td>\n    </tr>\n  </tbody>\n</table>\n<p>350 rows × 2 columns</p>\n</div>"
     },
     "execution_count": 24,
     "metadata": {},
     "output_type": "execute_result"
    }
   ],
   "source": [
    "sc_umap(\"out/a.tsv\",\"umap_coords.tsv\")"
   ],
   "metadata": {
    "collapsed": false
   }
  },
  {
   "cell_type": "code",
   "execution_count": 4,
   "outputs": [],
   "source": [
    "pca_out = pd.read_table(\"out/a.tsv\",index_col=0)"
   ],
   "metadata": {
    "collapsed": false
   }
  },
  {
   "cell_type": "code",
   "execution_count": 5,
   "outputs": [
    {
     "data": {
      "text/plain": "         C1_0      C1_1      C1_2      C1_3      C1_4      C1_5      C1_6  \\\nPC1 -0.059914 -0.056907 -0.066517 -0.064861 -0.067266 -0.062203 -0.059486   \nPC2 -0.042179 -0.038238 -0.045238 -0.048221 -0.045832 -0.041434 -0.033862   \nPC3 -0.017863 -0.023292  0.013688  0.118818  0.058341  0.032989 -0.130060   \nPC4  0.035356 -0.049224 -0.047748  0.084600 -0.021655  0.043432 -0.056649   \nPC5  0.073486  0.031582 -0.042351  0.120388 -0.012340 -0.117341 -0.028464   \n\n         C1_7      C1_8      C1_9  ...      B_40      B_41      B_42  \\\nPC1 -0.069288 -0.060969 -0.066028  ...  0.055723  0.041354  0.051745   \nPC2 -0.055494 -0.041924 -0.045479  ... -0.029493 -0.037859 -0.031373   \nPC3  0.016114  0.027469 -0.014466  ...  0.003636 -0.034886 -0.049983   \nPC4 -0.022057 -0.053111 -0.046415  ...  0.005985  0.001027 -0.035369   \nPC5 -0.005059 -0.011090  0.038150  ... -0.016464  0.037444  0.004817   \n\n         B_43      B_44      B_45      B_46      B_47      B_48      B_49  \nPC1  0.065362  0.055505  0.064130  0.067840  0.066901  0.064143  0.076342  \nPC2 -0.032823 -0.030317 -0.032542 -0.030590 -0.022017 -0.028238 -0.037918  \nPC3 -0.059948  0.103659  0.023486  0.034854  0.009345  0.095852 -0.011340  \nPC4  0.080548 -0.121961  0.036286 -0.017478 -0.060717 -0.074115  0.010621  \nPC5 -0.040610 -0.032123 -0.073258 -0.031799  0.049988  0.051926 -0.046762  \n\n[5 rows x 350 columns]",
      "text/html": "<div>\n<style scoped>\n    .dataframe tbody tr th:only-of-type {\n        vertical-align: middle;\n    }\n\n    .dataframe tbody tr th {\n        vertical-align: top;\n    }\n\n    .dataframe thead th {\n        text-align: right;\n    }\n</style>\n<table border=\"1\" class=\"dataframe\">\n  <thead>\n    <tr style=\"text-align: right;\">\n      <th></th>\n      <th>C1_0</th>\n      <th>C1_1</th>\n      <th>C1_2</th>\n      <th>C1_3</th>\n      <th>C1_4</th>\n      <th>C1_5</th>\n      <th>C1_6</th>\n      <th>C1_7</th>\n      <th>C1_8</th>\n      <th>C1_9</th>\n      <th>...</th>\n      <th>B_40</th>\n      <th>B_41</th>\n      <th>B_42</th>\n      <th>B_43</th>\n      <th>B_44</th>\n      <th>B_45</th>\n      <th>B_46</th>\n      <th>B_47</th>\n      <th>B_48</th>\n      <th>B_49</th>\n    </tr>\n  </thead>\n  <tbody>\n    <tr>\n      <th>PC1</th>\n      <td>-0.059914</td>\n      <td>-0.056907</td>\n      <td>-0.066517</td>\n      <td>-0.064861</td>\n      <td>-0.067266</td>\n      <td>-0.062203</td>\n      <td>-0.059486</td>\n      <td>-0.069288</td>\n      <td>-0.060969</td>\n      <td>-0.066028</td>\n      <td>...</td>\n      <td>0.055723</td>\n      <td>0.041354</td>\n      <td>0.051745</td>\n      <td>0.065362</td>\n      <td>0.055505</td>\n      <td>0.064130</td>\n      <td>0.067840</td>\n      <td>0.066901</td>\n      <td>0.064143</td>\n      <td>0.076342</td>\n    </tr>\n    <tr>\n      <th>PC2</th>\n      <td>-0.042179</td>\n      <td>-0.038238</td>\n      <td>-0.045238</td>\n      <td>-0.048221</td>\n      <td>-0.045832</td>\n      <td>-0.041434</td>\n      <td>-0.033862</td>\n      <td>-0.055494</td>\n      <td>-0.041924</td>\n      <td>-0.045479</td>\n      <td>...</td>\n      <td>-0.029493</td>\n      <td>-0.037859</td>\n      <td>-0.031373</td>\n      <td>-0.032823</td>\n      <td>-0.030317</td>\n      <td>-0.032542</td>\n      <td>-0.030590</td>\n      <td>-0.022017</td>\n      <td>-0.028238</td>\n      <td>-0.037918</td>\n    </tr>\n    <tr>\n      <th>PC3</th>\n      <td>-0.017863</td>\n      <td>-0.023292</td>\n      <td>0.013688</td>\n      <td>0.118818</td>\n      <td>0.058341</td>\n      <td>0.032989</td>\n      <td>-0.130060</td>\n      <td>0.016114</td>\n      <td>0.027469</td>\n      <td>-0.014466</td>\n      <td>...</td>\n      <td>0.003636</td>\n      <td>-0.034886</td>\n      <td>-0.049983</td>\n      <td>-0.059948</td>\n      <td>0.103659</td>\n      <td>0.023486</td>\n      <td>0.034854</td>\n      <td>0.009345</td>\n      <td>0.095852</td>\n      <td>-0.011340</td>\n    </tr>\n    <tr>\n      <th>PC4</th>\n      <td>0.035356</td>\n      <td>-0.049224</td>\n      <td>-0.047748</td>\n      <td>0.084600</td>\n      <td>-0.021655</td>\n      <td>0.043432</td>\n      <td>-0.056649</td>\n      <td>-0.022057</td>\n      <td>-0.053111</td>\n      <td>-0.046415</td>\n      <td>...</td>\n      <td>0.005985</td>\n      <td>0.001027</td>\n      <td>-0.035369</td>\n      <td>0.080548</td>\n      <td>-0.121961</td>\n      <td>0.036286</td>\n      <td>-0.017478</td>\n      <td>-0.060717</td>\n      <td>-0.074115</td>\n      <td>0.010621</td>\n    </tr>\n    <tr>\n      <th>PC5</th>\n      <td>0.073486</td>\n      <td>0.031582</td>\n      <td>-0.042351</td>\n      <td>0.120388</td>\n      <td>-0.012340</td>\n      <td>-0.117341</td>\n      <td>-0.028464</td>\n      <td>-0.005059</td>\n      <td>-0.011090</td>\n      <td>0.038150</td>\n      <td>...</td>\n      <td>-0.016464</td>\n      <td>0.037444</td>\n      <td>0.004817</td>\n      <td>-0.040610</td>\n      <td>-0.032123</td>\n      <td>-0.073258</td>\n      <td>-0.031799</td>\n      <td>0.049988</td>\n      <td>0.051926</td>\n      <td>-0.046762</td>\n    </tr>\n  </tbody>\n</table>\n<p>5 rows × 350 columns</p>\n</div>"
     },
     "execution_count": 5,
     "metadata": {},
     "output_type": "execute_result"
    }
   ],
   "source": [
    "pca_out.head()"
   ],
   "metadata": {
    "collapsed": false
   }
  },
  {
   "cell_type": "code",
   "execution_count": 12,
   "outputs": [],
   "source": [
    "tt = pca_out.T"
   ],
   "metadata": {
    "collapsed": false
   }
  },
  {
   "cell_type": "code",
   "execution_count": 7,
   "outputs": [],
   "source": [
    "um = umap.UMAP()"
   ],
   "metadata": {
    "collapsed": false
   }
  },
  {
   "cell_type": "code",
   "execution_count": 20,
   "outputs": [],
   "source": [
    "X_fit = um.fit(tt)"
   ],
   "metadata": {
    "collapsed": false
   }
  },
  {
   "cell_type": "code",
   "execution_count": null,
   "outputs": [],
   "source": [
    "import matplotlib.pyplot as plt\n",
    "from mpl_toolkits.mplot3d import Axes3D\n",
    "import seaborn as sns"
   ],
   "metadata": {
    "collapsed": false
   }
  },
  {
   "cell_type": "code",
   "execution_count": 21,
   "outputs": [
    {
     "name": "stdout",
     "output_type": "stream",
     "text": [
      "(350, 2)\n"
     ]
    },
    {
     "data": {
      "text/plain": "   umap comp. 1  umap comp. 2\n0     11.037499      6.024118\n1     11.214242      3.650086\n2     13.553104      4.978936\n3     12.303544      7.004903\n4     13.551064      5.636672",
      "text/html": "<div>\n<style scoped>\n    .dataframe tbody tr th:only-of-type {\n        vertical-align: middle;\n    }\n\n    .dataframe tbody tr th {\n        vertical-align: top;\n    }\n\n    .dataframe thead th {\n        text-align: right;\n    }\n</style>\n<table border=\"1\" class=\"dataframe\">\n  <thead>\n    <tr style=\"text-align: right;\">\n      <th></th>\n      <th>umap comp. 1</th>\n      <th>umap comp. 2</th>\n    </tr>\n  </thead>\n  <tbody>\n    <tr>\n      <th>0</th>\n      <td>11.037499</td>\n      <td>6.024118</td>\n    </tr>\n    <tr>\n      <th>1</th>\n      <td>11.214242</td>\n      <td>3.650086</td>\n    </tr>\n    <tr>\n      <th>2</th>\n      <td>13.553104</td>\n      <td>4.978936</td>\n    </tr>\n    <tr>\n      <th>3</th>\n      <td>12.303544</td>\n      <td>7.004903</td>\n    </tr>\n    <tr>\n      <th>4</th>\n      <td>13.551064</td>\n      <td>5.636672</td>\n    </tr>\n  </tbody>\n</table>\n</div>"
     },
     "execution_count": 21,
     "metadata": {},
     "output_type": "execute_result"
    }
   ],
   "source": [
    "\n",
    "         # we'll use X_fit later\n",
    "X_umap = um.transform(tt)\n",
    "\n",
    "# Convert to data frame\n",
    "umap_df = pd.DataFrame(data = X_umap, columns = ['umap comp. 1', 'umap comp. 2'])\n",
    "\n",
    "# Shape and preview\n",
    "print(umap_df.shape)\n",
    "umap_df.head()"
   ],
   "metadata": {
    "collapsed": false
   }
  },
  {
   "cell_type": "code",
   "execution_count": 17,
   "outputs": [
    {
     "name": "stdout",
     "output_type": "stream",
     "text": [
      "Requirement already satisfied: holoviews in /home/meric/Desktop/single-cell-pathway-analysis/venv/lib/python3.8/site-packages (1.15.2)\r\n",
      "Requirement already satisfied: param<2.0,>=1.9.3 in /home/meric/Desktop/single-cell-pathway-analysis/venv/lib/python3.8/site-packages (from holoviews) (1.12.2)\r\n",
      "Requirement already satisfied: packaging in /home/meric/Desktop/single-cell-pathway-analysis/venv/lib/python3.8/site-packages (from holoviews) (21.3)\r\n",
      "Requirement already satisfied: numpy>=1.0 in /home/meric/Desktop/single-cell-pathway-analysis/venv/lib/python3.8/site-packages (from holoviews) (1.23.4)\r\n",
      "Requirement already satisfied: pandas>=0.20.0 in /home/meric/Desktop/single-cell-pathway-analysis/venv/lib/python3.8/site-packages (from holoviews) (1.5.1)\r\n",
      "Requirement already satisfied: colorcet in /home/meric/Desktop/single-cell-pathway-analysis/venv/lib/python3.8/site-packages (from holoviews) (3.0.1)\r\n",
      "Requirement already satisfied: pyviz-comms>=0.7.4 in /home/meric/Desktop/single-cell-pathway-analysis/venv/lib/python3.8/site-packages (from holoviews) (2.2.1)\r\n",
      "Requirement already satisfied: panel>=0.13.1 in /home/meric/Desktop/single-cell-pathway-analysis/venv/lib/python3.8/site-packages (from holoviews) (0.14.1)\r\n",
      "Requirement already satisfied: python-dateutil>=2.8.1 in /home/meric/Desktop/single-cell-pathway-analysis/venv/lib/python3.8/site-packages (from pandas>=0.20.0->holoviews) (2.8.2)\r\n",
      "Requirement already satisfied: pytz>=2020.1 in /home/meric/Desktop/single-cell-pathway-analysis/venv/lib/python3.8/site-packages (from pandas>=0.20.0->holoviews) (2022.6)\r\n",
      "Requirement already satisfied: requests in /home/meric/Desktop/single-cell-pathway-analysis/venv/lib/python3.8/site-packages (from panel>=0.13.1->holoviews) (2.28.1)\r\n",
      "Requirement already satisfied: markdown in /home/meric/Desktop/single-cell-pathway-analysis/venv/lib/python3.8/site-packages (from panel>=0.13.1->holoviews) (3.4.1)\r\n",
      "Requirement already satisfied: bokeh<2.5.0,>=2.4.0 in /home/meric/Desktop/single-cell-pathway-analysis/venv/lib/python3.8/site-packages (from panel>=0.13.1->holoviews) (2.4.3)\r\n",
      "Requirement already satisfied: typing-extensions in /home/meric/Desktop/single-cell-pathway-analysis/venv/lib/python3.8/site-packages (from panel>=0.13.1->holoviews) (4.4.0)\r\n",
      "Requirement already satisfied: bleach in /home/meric/Desktop/single-cell-pathway-analysis/venv/lib/python3.8/site-packages (from panel>=0.13.1->holoviews) (5.0.1)\r\n",
      "Requirement already satisfied: tqdm>=4.48.0 in /home/meric/Desktop/single-cell-pathway-analysis/venv/lib/python3.8/site-packages (from panel>=0.13.1->holoviews) (4.64.1)\r\n",
      "Requirement already satisfied: pyct>=0.4.4 in /home/meric/Desktop/single-cell-pathway-analysis/venv/lib/python3.8/site-packages (from panel>=0.13.1->holoviews) (0.4.8)\r\n",
      "Requirement already satisfied: setuptools in /home/meric/Desktop/single-cell-pathway-analysis/venv/lib/python3.8/site-packages (from panel>=0.13.1->holoviews) (60.2.0)\r\n",
      "Requirement already satisfied: pyparsing!=3.0.5,>=2.0.2 in /home/meric/Desktop/single-cell-pathway-analysis/venv/lib/python3.8/site-packages (from packaging->holoviews) (3.0.9)\r\n",
      "Requirement already satisfied: Jinja2>=2.9 in /home/meric/Desktop/single-cell-pathway-analysis/venv/lib/python3.8/site-packages (from bokeh<2.5.0,>=2.4.0->panel>=0.13.1->holoviews) (3.1.2)\r\n",
      "Requirement already satisfied: pillow>=7.1.0 in /home/meric/Desktop/single-cell-pathway-analysis/venv/lib/python3.8/site-packages (from bokeh<2.5.0,>=2.4.0->panel>=0.13.1->holoviews) (9.3.0)\r\n",
      "Requirement already satisfied: PyYAML>=3.10 in /home/meric/Desktop/single-cell-pathway-analysis/venv/lib/python3.8/site-packages (from bokeh<2.5.0,>=2.4.0->panel>=0.13.1->holoviews) (6.0)\r\n",
      "Requirement already satisfied: tornado>=5.1 in /home/meric/Desktop/single-cell-pathway-analysis/venv/lib/python3.8/site-packages (from bokeh<2.5.0,>=2.4.0->panel>=0.13.1->holoviews) (6.1)\r\n",
      "Requirement already satisfied: six>=1.5 in /home/meric/Desktop/single-cell-pathway-analysis/venv/lib/python3.8/site-packages (from python-dateutil>=2.8.1->pandas>=0.20.0->holoviews) (1.16.0)\r\n",
      "Requirement already satisfied: webencodings in /home/meric/Desktop/single-cell-pathway-analysis/venv/lib/python3.8/site-packages (from bleach->panel>=0.13.1->holoviews) (0.5.1)\r\n",
      "Requirement already satisfied: importlib-metadata>=4.4 in /home/meric/Desktop/single-cell-pathway-analysis/venv/lib/python3.8/site-packages (from markdown->panel>=0.13.1->holoviews) (5.0.0)\r\n",
      "Requirement already satisfied: charset-normalizer<3,>=2 in /home/meric/Desktop/single-cell-pathway-analysis/venv/lib/python3.8/site-packages (from requests->panel>=0.13.1->holoviews) (2.1.1)\r\n",
      "Requirement already satisfied: urllib3<1.27,>=1.21.1 in /home/meric/Desktop/single-cell-pathway-analysis/venv/lib/python3.8/site-packages (from requests->panel>=0.13.1->holoviews) (1.26.12)\r\n",
      "Requirement already satisfied: idna<4,>=2.5 in /home/meric/Desktop/single-cell-pathway-analysis/venv/lib/python3.8/site-packages (from requests->panel>=0.13.1->holoviews) (3.4)\r\n",
      "Requirement already satisfied: certifi>=2017.4.17 in /home/meric/Desktop/single-cell-pathway-analysis/venv/lib/python3.8/site-packages (from requests->panel>=0.13.1->holoviews) (2022.9.24)\r\n",
      "Requirement already satisfied: zipp>=0.5 in /home/meric/Desktop/single-cell-pathway-analysis/venv/lib/python3.8/site-packages (from importlib-metadata>=4.4->markdown->panel>=0.13.1->holoviews) (3.10.0)\r\n",
      "Requirement already satisfied: MarkupSafe>=2.0 in /home/meric/Desktop/single-cell-pathway-analysis/venv/lib/python3.8/site-packages (from Jinja2>=2.9->bokeh<2.5.0,>=2.4.0->panel>=0.13.1->holoviews) (2.1.1)\r\n",
      "\u001B[33mWARNING: You are using pip version 21.3.1; however, version 22.3 is available.\r\n",
      "You should consider upgrading via the '/home/meric/Desktop/single-cell-pathway-analysis/venv/bin/python -m pip install --upgrade pip' command.\u001B[0m\r\n",
      "Requirement already satisfied: datashader in /home/meric/Desktop/single-cell-pathway-analysis/venv/lib/python3.8/site-packages (0.14.2)\r\n",
      "Requirement already satisfied: requests in /home/meric/Desktop/single-cell-pathway-analysis/venv/lib/python3.8/site-packages (from datashader) (2.28.1)\r\n",
      "Requirement already satisfied: xarray>=0.9.6 in /home/meric/Desktop/single-cell-pathway-analysis/venv/lib/python3.8/site-packages (from datashader) (2022.10.0)\r\n",
      "Requirement already satisfied: pandas>=0.24.1 in /home/meric/Desktop/single-cell-pathway-analysis/venv/lib/python3.8/site-packages (from datashader) (1.5.1)\r\n",
      "Requirement already satisfied: datashape>=0.5.1 in /home/meric/Desktop/single-cell-pathway-analysis/venv/lib/python3.8/site-packages (from datashader) (0.5.2)\r\n",
      "Requirement already satisfied: param>=1.6.1 in /home/meric/Desktop/single-cell-pathway-analysis/venv/lib/python3.8/site-packages (from datashader) (1.12.2)\r\n",
      "Requirement already satisfied: numba>=0.51 in /home/meric/Desktop/single-cell-pathway-analysis/venv/lib/python3.8/site-packages (from datashader) (0.56.3)\r\n",
      "Requirement already satisfied: pyct>=0.4.5 in /home/meric/Desktop/single-cell-pathway-analysis/venv/lib/python3.8/site-packages (from datashader) (0.4.8)\r\n",
      "Requirement already satisfied: scipy in /home/meric/Desktop/single-cell-pathway-analysis/venv/lib/python3.8/site-packages (from datashader) (1.9.3)\r\n",
      "Requirement already satisfied: pillow>=3.1.1 in /home/meric/Desktop/single-cell-pathway-analysis/venv/lib/python3.8/site-packages (from datashader) (9.3.0)\r\n",
      "Requirement already satisfied: colorcet>=0.9.0 in /home/meric/Desktop/single-cell-pathway-analysis/venv/lib/python3.8/site-packages (from datashader) (3.0.1)\r\n",
      "Requirement already satisfied: dask[complete] in /home/meric/Desktop/single-cell-pathway-analysis/venv/lib/python3.8/site-packages (from datashader) (2022.10.2)\r\n",
      "Requirement already satisfied: numpy>=1.7 in /home/meric/Desktop/single-cell-pathway-analysis/venv/lib/python3.8/site-packages (from datashape>=0.5.1->datashader) (1.23.4)\r\n",
      "Requirement already satisfied: multipledispatch>=0.4.7 in /home/meric/Desktop/single-cell-pathway-analysis/venv/lib/python3.8/site-packages (from datashape>=0.5.1->datashader) (0.6.0)\r\n",
      "Requirement already satisfied: python-dateutil in /home/meric/Desktop/single-cell-pathway-analysis/venv/lib/python3.8/site-packages (from datashape>=0.5.1->datashader) (2.8.2)\r\n",
      "Requirement already satisfied: llvmlite<0.40,>=0.39.0dev0 in /home/meric/Desktop/single-cell-pathway-analysis/venv/lib/python3.8/site-packages (from numba>=0.51->datashader) (0.39.1)\r\n",
      "Requirement already satisfied: importlib-metadata in /home/meric/Desktop/single-cell-pathway-analysis/venv/lib/python3.8/site-packages (from numba>=0.51->datashader) (5.0.0)\r\n",
      "Requirement already satisfied: setuptools in /home/meric/Desktop/single-cell-pathway-analysis/venv/lib/python3.8/site-packages (from numba>=0.51->datashader) (60.2.0)\r\n",
      "Requirement already satisfied: pytz>=2020.1 in /home/meric/Desktop/single-cell-pathway-analysis/venv/lib/python3.8/site-packages (from pandas>=0.24.1->datashader) (2022.6)\r\n",
      "Requirement already satisfied: packaging>=21.0 in /home/meric/Desktop/single-cell-pathway-analysis/venv/lib/python3.8/site-packages (from xarray>=0.9.6->datashader) (21.3)\r\n",
      "Requirement already satisfied: cloudpickle>=1.1.1 in /home/meric/Desktop/single-cell-pathway-analysis/venv/lib/python3.8/site-packages (from dask[complete]->datashader) (2.2.0)\r\n",
      "Requirement already satisfied: fsspec>=0.6.0 in /home/meric/Desktop/single-cell-pathway-analysis/venv/lib/python3.8/site-packages (from dask[complete]->datashader) (2022.10.0)\r\n",
      "Requirement already satisfied: toolz>=0.8.2 in /home/meric/Desktop/single-cell-pathway-analysis/venv/lib/python3.8/site-packages (from dask[complete]->datashader) (0.12.0)\r\n",
      "Requirement already satisfied: click>=7.0 in /home/meric/Desktop/single-cell-pathway-analysis/venv/lib/python3.8/site-packages (from dask[complete]->datashader) (8.1.3)\r\n",
      "Requirement already satisfied: pyyaml>=5.3.1 in /home/meric/Desktop/single-cell-pathway-analysis/venv/lib/python3.8/site-packages (from dask[complete]->datashader) (6.0)\r\n",
      "Requirement already satisfied: partd>=0.3.10 in /home/meric/Desktop/single-cell-pathway-analysis/venv/lib/python3.8/site-packages (from dask[complete]->datashader) (1.3.0)\r\n",
      "Requirement already satisfied: jinja2 in /home/meric/Desktop/single-cell-pathway-analysis/venv/lib/python3.8/site-packages (from dask[complete]->datashader) (3.1.2)\r\n",
      "Requirement already satisfied: distributed==2022.10.2 in /home/meric/Desktop/single-cell-pathway-analysis/venv/lib/python3.8/site-packages (from dask[complete]->datashader) (2022.10.2)\r\n",
      "Requirement already satisfied: bokeh<3,>=2.4.2 in /home/meric/Desktop/single-cell-pathway-analysis/venv/lib/python3.8/site-packages (from dask[complete]->datashader) (2.4.3)\r\n",
      "Requirement already satisfied: msgpack>=0.6.0 in /home/meric/Desktop/single-cell-pathway-analysis/venv/lib/python3.8/site-packages (from distributed==2022.10.2->dask[complete]->datashader) (1.0.4)\r\n",
      "Requirement already satisfied: zict>=0.1.3 in /home/meric/Desktop/single-cell-pathway-analysis/venv/lib/python3.8/site-packages (from distributed==2022.10.2->dask[complete]->datashader) (2.2.0)\r\n",
      "Requirement already satisfied: locket>=1.0.0 in /home/meric/Desktop/single-cell-pathway-analysis/venv/lib/python3.8/site-packages (from distributed==2022.10.2->dask[complete]->datashader) (1.0.0)\r\n",
      "Requirement already satisfied: psutil>=5.0 in /home/meric/Desktop/single-cell-pathway-analysis/venv/lib/python3.8/site-packages (from distributed==2022.10.2->dask[complete]->datashader) (5.9.3)\r\n",
      "Requirement already satisfied: tblib>=1.6.0 in /home/meric/Desktop/single-cell-pathway-analysis/venv/lib/python3.8/site-packages (from distributed==2022.10.2->dask[complete]->datashader) (1.7.0)\r\n",
      "Requirement already satisfied: urllib3 in /home/meric/Desktop/single-cell-pathway-analysis/venv/lib/python3.8/site-packages (from distributed==2022.10.2->dask[complete]->datashader) (1.26.12)\r\n",
      "Requirement already satisfied: sortedcontainers!=2.0.0,!=2.0.1 in /home/meric/Desktop/single-cell-pathway-analysis/venv/lib/python3.8/site-packages (from distributed==2022.10.2->dask[complete]->datashader) (2.4.0)\r\n",
      "Requirement already satisfied: tornado<6.2,>=6.0.3 in /home/meric/Desktop/single-cell-pathway-analysis/venv/lib/python3.8/site-packages (from distributed==2022.10.2->dask[complete]->datashader) (6.1)\r\n",
      "Requirement already satisfied: idna<4,>=2.5 in /home/meric/Desktop/single-cell-pathway-analysis/venv/lib/python3.8/site-packages (from requests->datashader) (3.4)\r\n",
      "Requirement already satisfied: certifi>=2017.4.17 in /home/meric/Desktop/single-cell-pathway-analysis/venv/lib/python3.8/site-packages (from requests->datashader) (2022.9.24)\r\n",
      "Requirement already satisfied: charset-normalizer<3,>=2 in /home/meric/Desktop/single-cell-pathway-analysis/venv/lib/python3.8/site-packages (from requests->datashader) (2.1.1)\r\n",
      "Requirement already satisfied: typing-extensions>=3.10.0 in /home/meric/Desktop/single-cell-pathway-analysis/venv/lib/python3.8/site-packages (from bokeh<3,>=2.4.2->dask[complete]->datashader) (4.4.0)\r\n",
      "Requirement already satisfied: MarkupSafe>=2.0 in /home/meric/Desktop/single-cell-pathway-analysis/venv/lib/python3.8/site-packages (from jinja2->dask[complete]->datashader) (2.1.1)\r\n",
      "Requirement already satisfied: six in /home/meric/Desktop/single-cell-pathway-analysis/venv/lib/python3.8/site-packages (from multipledispatch>=0.4.7->datashape>=0.5.1->datashader) (1.16.0)\r\n",
      "Requirement already satisfied: pyparsing!=3.0.5,>=2.0.2 in /home/meric/Desktop/single-cell-pathway-analysis/venv/lib/python3.8/site-packages (from packaging>=21.0->xarray>=0.9.6->datashader) (3.0.9)\r\n",
      "Requirement already satisfied: zipp>=0.5 in /home/meric/Desktop/single-cell-pathway-analysis/venv/lib/python3.8/site-packages (from importlib-metadata->numba>=0.51->datashader) (3.10.0)\r\n",
      "Requirement already satisfied: heapdict in /home/meric/Desktop/single-cell-pathway-analysis/venv/lib/python3.8/site-packages (from zict>=0.1.3->distributed==2022.10.2->dask[complete]->datashader) (1.0.1)\r\n",
      "\u001B[33mWARNING: You are using pip version 21.3.1; however, version 22.3 is available.\r\n",
      "You should consider upgrading via the '/home/meric/Desktop/single-cell-pathway-analysis/venv/bin/python -m pip install --upgrade pip' command.\u001B[0m\r\n"
     ]
    }
   ],
   "source": [
    "!pip install holoviews\n",
    "!pip install datashader\n",
    "import datashader\n",
    "import bokeh\n",
    "import holoviews\n",
    "import matplotlib\n"
   ],
   "metadata": {
    "collapsed": false
   }
  },
  {
   "cell_type": "code",
   "execution_count": 18,
   "outputs": [],
   "source": [
    "import umap.plot"
   ],
   "metadata": {
    "collapsed": false
   }
  },
  {
   "cell_type": "code",
   "execution_count": 22,
   "outputs": [
    {
     "name": "stderr",
     "output_type": "stream",
     "text": [
      "*c* argument looks like a single numeric RGB or RGBA sequence, which should be avoided as value-mapping will have precedence in case its length matches with *x* & *y*.  Please use the *color* keyword-argument or provide a 2D array with a single row if you intend to specify the same RGB or RGBA value for all points.\n"
     ]
    },
    {
     "data": {
      "text/plain": "<AxesSubplot: >"
     },
     "execution_count": 22,
     "metadata": {},
     "output_type": "execute_result"
    },
    {
     "data": {
      "text/plain": "<Figure size 800x800 with 1 Axes>",
      "image/png": "[encoded data removed]"
     },
     "metadata": {},
     "output_type": "display_data"
    }
   ],
   "source": [
    "umap.plot.points(X_fit)"
   ],
   "metadata": {
    "collapsed": false
   }
  },
  {
   "cell_type": "code",
   "execution_count": null,
   "outputs": [],
   "source": [],
   "metadata": {
    "collapsed": false
   }
  }
 ],
 "metadata": {
  "kernelspec": {
   "display_name": "Python 3",
   "language": "python",
   "name": "python3"
  },
  "language_info": {
   "codemirror_mode": {
    "name": "ipython",
    "version": 2
   },
   "file_extension": ".py",
   "mimetype": "text/x-python",
   "name": "python",
   "nbconvert_exporter": "python",
   "pygments_lexer": "ipython2",
   "version": "2.7.6"
  }
 },
 "nbformat": 4,
 "nbformat_minor": 0
}
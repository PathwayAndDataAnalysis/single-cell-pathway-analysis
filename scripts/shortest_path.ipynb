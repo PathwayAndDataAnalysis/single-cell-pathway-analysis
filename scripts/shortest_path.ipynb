{
 "cells": [
  {
   "cell_type": "code",
   "execution_count": 1,
   "metadata": {
    "collapsed": true
   },
   "outputs": [],
   "source": [
    "import pandas as pd\n",
    "import numpy as np\n",
    "import math\n",
    "import shortest_path as sp\n",
    "import sc_pca\n",
    "import random"
   ]
  },
  {
   "cell_type": "code",
   "execution_count": 2,
   "outputs": [],
   "source": [
    "dir = \"/home/ozgunbabur/Data/Josh/\"\n",
    "data_file = dir + \"expression_matrix_log_transformed.tsv\"\n",
    "pca_file = dir + \"pca.tsv\"\n",
    "dist_file = dir + \"dist.tsv\"\n",
    "diffexp_file = dir + \"diffexp.tsv\""
   ],
   "metadata": {
    "collapsed": false
   }
  },
  {
   "cell_type": "code",
   "execution_count": 3,
   "outputs": [],
   "source": [
    "\n",
    "sc_pca.sc_pca(data_file, pca_file, 10)\n",
    "sp.write_distance_matrix(pca_file, dist_file)"
   ],
   "metadata": {
    "collapsed": false,
    "pycharm": {
     "name": "#%%\n"
    }
   }
  },
  {
   "cell_type": "code",
   "execution_count": 4,
   "outputs": [
    {
     "name": "stdout",
     "output_type": "stream",
     "text": [
      "['tumor_ATCGAGTCAAGCTGGA.1', 'tumor_GGATGTTGTGTTGAGG.1', 'tumor_CGCGGTAGTTGTGGCC.1', 'tumor_ATGGGAGAGGCTAGGT.1', 'tumor_TCAGGTATCAATAAGG.1']\n"
     ]
    }
   ],
   "source": [
    "traj, time = sp.get_traj_and_time(dist_file, \"tumor_ATCGAGTCAAGCTGGA.1\", \"tumor_TCAGGTATCAATAAGG.1\")\n",
    "\n",
    "print(traj)\n",
    "sp.write_changes(data_file, traj, time, diffexp_file)"
   ],
   "metadata": {
    "collapsed": false,
    "pycharm": {
     "name": "#%%\n"
    }
   }
  }
 ],
 "metadata": {
  "kernelspec": {
   "display_name": "Python 3",
   "language": "python",
   "name": "python3"
  },
  "language_info": {
   "codemirror_mode": {
    "name": "ipython",
    "version": 2
   },
   "file_extension": ".py",
   "mimetype": "text/x-python",
   "name": "python",
   "nbconvert_exporter": "python",
   "pygments_lexer": "ipython2",
   "version": "2.7.6"
  }
 },
 "nbformat": 4,
 "nbformat_minor": 0
}
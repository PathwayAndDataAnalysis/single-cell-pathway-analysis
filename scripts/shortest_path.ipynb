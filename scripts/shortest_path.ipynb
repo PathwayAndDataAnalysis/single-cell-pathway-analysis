{
 "cells": [
  {
   "cell_type": "code",
   "execution_count": 1,
   "metadata": {
    "collapsed": true
   },
   "outputs": [],
   "source": [
    "import pandas as pd\n",
    "import numpy as np\n",
    "import math\n",
    "import shortest_path as sp\n",
    "import sc_pca\n",
    "import random\n",
    "import check_coords"
   ]
  },
  {
   "cell_type": "code",
   "execution_count": 4,
   "outputs": [],
   "source": [
    "dir = \"/home/ozgun/Data/Josh/\"\n",
    "data_file = dir + \"normalized_mat.tsv\"\n",
    "data_file_denoised = dir + \"normalized_denoised_mat.tsv\"\n",
    "pca_pre_file = dir + \"pca_coords.tsv\"\n",
    "pca_file = dir + \"pca_8.tsv\"\n",
    "dist_file = dir + \"dist.tsv\"\n",
    "cos_dist_file = dir + \"dist_cosine.tsv\"\n",
    "um_dist_file = dir + \"dist_umap.tsv\"\n",
    "diffexp_file = dir + \"diffexp_cosine.tsv\""
   ],
   "metadata": {
    "collapsed": false
   }
  },
  {
   "cell_type": "code",
   "execution_count": 25,
   "outputs": [],
   "source": [
    "\n",
    "#sc_pca.sc_pca(data_file, pca_file, 10)\n",
    "#sp.write_distance_matrix(pca_file, dist_file)\n",
    "#sp.write_cosine_distance_matrix(pca_file, cos_dist_file)\n",
    "sp.write_distance_matrix(dir + \"umap_coords_transposed.tsv\", dir + \"dist_umap.tsv\")"
   ],
   "metadata": {
    "collapsed": false
   }
  },
  {
   "cell_type": "code",
   "execution_count": 3,
   "outputs": [
    {
     "name": "stdout",
     "output_type": "stream",
     "text": [
      "['tumor_ATCGAGTCAAGCTGGA-1', 'tumor_TTCTCAACACCAGATT-1', 'tumor_CCTACACCACAGACTT-1', 'tumor_CTCGAGGCACACCGAC-1', 'tumor_TCTATTGGTAAACACA-1', 'tumor_CACAGGCTCAATCACG-1', 'tumor_CTCTGGTTCCGAAGAG-1', 'tumor_ATTGGACCAAGAAGAG-1', 'tumor_CCCAGTTTCCCATTAT-1', 'tumor_CTGGTCTAGCTGCCCA-1', 'tumor_GTGCAGCGTTGAGTTC-1', 'tumor_CTCGAGGCAGGATTGG-1', 'tumor_CGACTTCAGCTCTCGG-1', 'tumor_ATCCACCTCTGTCCGT-1', 'tumor_ACGCAGCTCAGGCAAG-1', 'tumor_AGCCTAAAGCTAGTGG-1', 'tumor_GTGCTTCTCTTGTCAT-1', 'tumor_AGATCTGCATCGATTG-1', 'tumor_TTCTCAACACACGCTG-1', 'tumor_TCAGGTATCTCGTTTA-1', 'tumor_TGGTTCCGTTCTGTTT-1', 'tumor_ACACTGAGTTCGCGAC-1', 'tumor_AGCGGTCAGTGGTAGC-1', 'tumor_GAAGCAGAGCGATAGC-1', 'tumor_TACAGTGAGGTGATTA-1', 'midpoint_AGAGCTTGTGTTGAGG-1', 'tumor_TTCTCAACAGACACTT-1', 'tumor_GCGGGTTTCGTGGGAA-1', 'tumor_CTACCCAAGGAGTTTA-1', 'tumor_TTGAACGGTAGGCTGA-1', 'tumor_ACAGCTACACTGCCAG-1', 'tumor_GGGCATCCAACTGCGC-1', 'tumor_CCCATACCAGGTGGAT-1', 'tumor_CGATCGGCAGGAACGT-1', 'tumor_ACTGATGTCACTTCAT-1', 'tumor_TTAGGCATCCGATATG-1', 'tumor_GATCGATCATCTACGA-1', 'tumor_TGAGCCGGTACTCTCC-1', 'tumor_AGTTGGTTCGTTACAG-1', 'tumor_GGATGTTAGCACAGGT-1', 'tumor_AGCTCCTCAGATAATG-1', 'tumor_GCGCCAATCGGATGGA-1', 'tumor_GCGCAACTCCGCAAGC-1', 'tumor_TGCTGCTGTTAAGATG-1', 'tumor_CAGAGAGAGAGTAAGG-1', 'tumor_ACATACGCAGCCAATT-1', 'tumor_ATGGGAGAGCGCCTCA-1', 'tumor_CCATGTCTCTCTGTCG-1', 'tumor_GGGTTGCTCTGCAGTA-1', 'tumor_GGATTACCAACACCTA-1', 'tumor_GGGACCTTCATAGCAC-1', 'tumor_CCACCTATCCGAATGT-1', 'tumor_TAAGTGCAGCGTAATA-1', 'tumor_TAAACCGAGCCGATTT-1', 'tumor_TGCGGGTAGAATAGGG-1', 'tumor_CTAGAGTAGCTTCGCG-1', 'tumor_ACATACGCAGCTCGCA-1', 'tumor_GTCACGGTCAACACCA-1', 'tumor_AACGTTGCATCAGTAC-1', 'tumor_CTTGGCTTCTGCCAGG-1', 'tumor_GTGAAGGCACTGTTAG-1', 'tumor_TCAATCTCACGGTGTC-1', 'tumor_AGCATACCAGATGGCA-1', 'tumor_GACGGCTCAATGAAAC-1', 'tumor_TCACAAGAGGGTATCG-1', 'tumor_CGTTGGGTCCTAGAAC-1', 'tumor_CGAACATCACAGCCCA-1', 'tumor_TCAGGTATCAATAAGG-1']\n"
     ]
    },
    {
     "data": {
      "text/plain": "                             UMAP_1    UMAP_2\ncell_ID                                      \ntumor_ATCGAGTCAAGCTGGA-1 -11.791385  1.255611\ntumor_TTCTCAACACCAGATT-1 -11.830850  1.337023\ntumor_CCTACACCACAGACTT-1 -11.850818  1.390959\ntumor_CTCGAGGCACACCGAC-1 -11.794748  1.520846\ntumor_TCTATTGGTAAACACA-1 -11.849222  1.633338\n...                             ...       ...\ntumor_GACGGCTCAATGAAAC-1  -6.022050  3.978444\ntumor_TCACAAGAGGGTATCG-1  -5.991089  4.012311\ntumor_CGTTGGGTCCTAGAAC-1  -5.893780  4.065837\ntumor_CGAACATCACAGCCCA-1  -5.581723  4.143604\ntumor_TCAGGTATCAATAAGG-1  -5.347269  4.108276\n\n[68 rows x 2 columns]",
      "text/html": "<div>\n<style scoped>\n    .dataframe tbody tr th:only-of-type {\n        vertical-align: middle;\n    }\n\n    .dataframe tbody tr th {\n        vertical-align: top;\n    }\n\n    .dataframe thead th {\n        text-align: right;\n    }\n</style>\n<table border=\"1\" class=\"dataframe\">\n  <thead>\n    <tr style=\"text-align: right;\">\n      <th></th>\n      <th>UMAP_1</th>\n      <th>UMAP_2</th>\n    </tr>\n    <tr>\n      <th>cell_ID</th>\n      <th></th>\n      <th></th>\n    </tr>\n  </thead>\n  <tbody>\n    <tr>\n      <th>tumor_ATCGAGTCAAGCTGGA-1</th>\n      <td>-11.791385</td>\n      <td>1.255611</td>\n    </tr>\n    <tr>\n      <th>tumor_TTCTCAACACCAGATT-1</th>\n      <td>-11.830850</td>\n      <td>1.337023</td>\n    </tr>\n    <tr>\n      <th>tumor_CCTACACCACAGACTT-1</th>\n      <td>-11.850818</td>\n      <td>1.390959</td>\n    </tr>\n    <tr>\n      <th>tumor_CTCGAGGCACACCGAC-1</th>\n      <td>-11.794748</td>\n      <td>1.520846</td>\n    </tr>\n    <tr>\n      <th>tumor_TCTATTGGTAAACACA-1</th>\n      <td>-11.849222</td>\n      <td>1.633338</td>\n    </tr>\n    <tr>\n      <th>...</th>\n      <td>...</td>\n      <td>...</td>\n    </tr>\n    <tr>\n      <th>tumor_GACGGCTCAATGAAAC-1</th>\n      <td>-6.022050</td>\n      <td>3.978444</td>\n    </tr>\n    <tr>\n      <th>tumor_TCACAAGAGGGTATCG-1</th>\n      <td>-5.991089</td>\n      <td>4.012311</td>\n    </tr>\n    <tr>\n      <th>tumor_CGTTGGGTCCTAGAAC-1</th>\n      <td>-5.893780</td>\n      <td>4.065837</td>\n    </tr>\n    <tr>\n      <th>tumor_CGAACATCACAGCCCA-1</th>\n      <td>-5.581723</td>\n      <td>4.143604</td>\n    </tr>\n    <tr>\n      <th>tumor_TCAGGTATCAATAAGG-1</th>\n      <td>-5.347269</td>\n      <td>4.108276</td>\n    </tr>\n  </tbody>\n</table>\n<p>68 rows × 2 columns</p>\n</div>"
     },
     "execution_count": 3,
     "metadata": {},
     "output_type": "execute_result"
    }
   ],
   "source": [
    "traj, time = sp.get_traj_and_time(dir + \"dist_umap.tsv\", \"tumor_ATCGAGTCAAGCTGGA-1\", \"tumor_TCAGGTATCAATAAGG-1\")\n",
    "\n",
    "print(traj)\n",
    "check_coords.check_coords(traj, dir + \"umap_coords.tsv\")\n",
    "\n",
    "\n",
    "#sp.write_changes(data_file_denoised, traj, time, diffexp_file)"
   ],
   "metadata": {
    "collapsed": false
   }
  },
  {
   "cell_type": "code",
   "execution_count": 24,
   "outputs": [],
   "source": [
    "sp.transpose_table(dir + \"umap_coords.tsv\", dir + \"umap_coords_transposed.tsv\")"
   ],
   "metadata": {
    "collapsed": false
   }
  },
  {
   "cell_type": "code",
   "execution_count": 14,
   "outputs": [],
   "source": [
    "sp.k_rank_svd(data_file, 8, data_file_denoised)"
   ],
   "metadata": {
    "collapsed": false
   }
  },
  {
   "cell_type": "code",
   "execution_count": 18,
   "outputs": [
    {
     "data": {
      "text/plain": "'midpoint_TCTGGAAGTGTAAGTA-1'"
     },
     "execution_count": 18,
     "metadata": {},
     "output_type": "execute_result"
    }
   ],
   "source": [
    "centers = pd.read_table(dir + \"cell_selections.txt\")\n",
    "centers.iloc[1][1]"
   ],
   "metadata": {
    "collapsed": false
   }
  },
  {
   "cell_type": "code",
   "execution_count": 11,
   "outputs": [
    {
     "data": {
      "text/plain": "array(['midpoint_TCTGGAAGTGTAAGTA-1',\n       '[-1.77192308229959, 10.0623317198924]'], dtype=object)"
     },
     "execution_count": 11,
     "metadata": {},
     "output_type": "execute_result"
    }
   ],
   "source": [
    "centers.iloc[1]"
   ],
   "metadata": {
    "collapsed": false
   }
  },
  {
   "cell_type": "markdown",
   "source": [],
   "metadata": {
    "collapsed": false
   }
  },
  {
   "cell_type": "code",
   "execution_count": null,
   "outputs": [],
   "source": [
    "centers = pd.read_table(dir + \"cell_selections_subset.txt\")\n",
    "\n",
    "for i in range(6):\n",
    "    for j in range(6):\n",
    "        if not i == j:\n",
    "            source = centers.iloc[i][1]\n",
    "            sInd = centers.iloc[i][0]\n",
    "            target = centers.iloc[j][1]\n",
    "            tInd = centers.iloc[j][0]\n",
    "            traj, time = sp.get_traj_and_time(um_dist_file, source, target)\n",
    "            sp.write_changes(data_file_denoised, traj, time, dir + \"/diffexp/\" + str(sInd) + \"-to-\" + str(tInd) + \".tsv\")"
   ],
   "metadata": {
    "collapsed": false,
    "pycharm": {
     "is_executing": true
    }
   }
  }
 ],
 "metadata": {
  "kernelspec": {
   "display_name": "Python 3",
   "language": "python",
   "name": "python3"
  },
  "language_info": {
   "codemirror_mode": {
    "name": "ipython",
    "version": 2
   },
   "file_extension": ".py",
   "mimetype": "text/x-python",
   "name": "python",
   "nbconvert_exporter": "python",
   "pygments_lexer": "ipython2",
   "version": "2.7.6"
  }
 },
 "nbformat": 4,
 "nbformat_minor": 0
}

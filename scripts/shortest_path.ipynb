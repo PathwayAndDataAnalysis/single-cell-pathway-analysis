{
 "cells": [
  {
   "cell_type": "code",
   "execution_count": 17,
   "metadata": {
    "collapsed": true,
    "pycharm": {
     "name": "#%%\n"
    }
   },
   "outputs": [
    {
     "ename": "AttributeError",
     "evalue": "'numpy.ndarray' object has no attribute 'subtract'",
     "output_type": "error",
     "traceback": [
      "\u001B[0;31m---------------------------------------------------------------------------\u001B[0m",
      "\u001B[0;31mAttributeError\u001B[0m                            Traceback (most recent call last)",
      "\u001B[0;32m/tmp/ipykernel_853300/3083143388.py\u001B[0m in \u001B[0;36m<module>\u001B[0;34m\u001B[0m\n\u001B[1;32m      7\u001B[0m \u001B[0msc_pca\u001B[0m\u001B[0;34m.\u001B[0m\u001B[0msc_pca\u001B[0m\u001B[0;34m(\u001B[0m\u001B[0;34m\"/home/ozgunbabur/Downloads/temp/test-data.tsv\"\u001B[0m\u001B[0;34m,\u001B[0m \u001B[0;34m\"/home/ozgunbabur/Downloads/temp/test-data-pca.tsv\"\u001B[0m\u001B[0;34m,\u001B[0m \u001B[0;36m10\u001B[0m\u001B[0;34m)\u001B[0m\u001B[0;34m\u001B[0m\u001B[0;34m\u001B[0m\u001B[0m\n\u001B[1;32m      8\u001B[0m \u001B[0;34m\u001B[0m\u001B[0m\n\u001B[0;32m----> 9\u001B[0;31m \u001B[0msp\u001B[0m\u001B[0;34m.\u001B[0m\u001B[0mwrite_distance_matrix\u001B[0m\u001B[0;34m(\u001B[0m\u001B[0;34m\"/home/ozgunbabur/Downloads/temp/test-data-pca.tsv\"\u001B[0m\u001B[0;34m,\u001B[0m \u001B[0;34m\"/home/ozgunbabur/Downloads/temp/test-data-dist.tsv\"\u001B[0m\u001B[0;34m)\u001B[0m\u001B[0;34m\u001B[0m\u001B[0;34m\u001B[0m\u001B[0m\n\u001B[0m\u001B[1;32m     10\u001B[0m \u001B[0;34m\u001B[0m\u001B[0m\n\u001B[1;32m     11\u001B[0m \u001B[0mtrj\u001B[0m\u001B[0;34m,\u001B[0m \u001B[0mdist\u001B[0m \u001B[0;34m=\u001B[0m \u001B[0msp\u001B[0m\u001B[0;34m.\u001B[0m\u001B[0mget_traj_and_time\u001B[0m\u001B[0;34m(\u001B[0m\u001B[0;34m\"/home/ozgunbabur/Downloads/temp/test-data-dist.tsv\"\u001B[0m\u001B[0;34m,\u001B[0m \u001B[0;34m\"C1_1\"\u001B[0m\u001B[0;34m,\u001B[0m \u001B[0;34m\"C2_1\"\u001B[0m\u001B[0;34m)\u001B[0m\u001B[0;34m\u001B[0m\u001B[0;34m\u001B[0m\u001B[0m\n",
      "\u001B[0;32m~/Code/single-cell-pathway-analysis/scripts/shortest_path.py\u001B[0m in \u001B[0;36mwrite_distance_matrix\u001B[0;34m(input_file, output_file)\u001B[0m\n\u001B[1;32m     89\u001B[0m \u001B[0;32mdef\u001B[0m \u001B[0mwrite_distance_matrix\u001B[0m\u001B[0;34m(\u001B[0m\u001B[0minput_file\u001B[0m\u001B[0;34m,\u001B[0m \u001B[0moutput_file\u001B[0m\u001B[0;34m)\u001B[0m\u001B[0;34m:\u001B[0m\u001B[0;34m\u001B[0m\u001B[0;34m\u001B[0m\u001B[0m\n\u001B[1;32m     90\u001B[0m     \u001B[0mdataF\u001B[0m \u001B[0;34m=\u001B[0m \u001B[0mpd\u001B[0m\u001B[0;34m.\u001B[0m\u001B[0mread_table\u001B[0m\u001B[0;34m(\u001B[0m\u001B[0minput_file\u001B[0m\u001B[0;34m,\u001B[0m \u001B[0mindex_col\u001B[0m\u001B[0;34m=\u001B[0m\u001B[0;36m0\u001B[0m\u001B[0;34m)\u001B[0m\u001B[0;34m\u001B[0m\u001B[0;34m\u001B[0m\u001B[0m\n\u001B[0;32m---> 91\u001B[0;31m     \u001B[0mdist\u001B[0m \u001B[0;34m=\u001B[0m \u001B[0mget_distance_matrix\u001B[0m\u001B[0;34m(\u001B[0m\u001B[0mdataF\u001B[0m\u001B[0;34m)\u001B[0m\u001B[0;34m\u001B[0m\u001B[0;34m\u001B[0m\u001B[0m\n\u001B[0m\u001B[1;32m     92\u001B[0m     \u001B[0mcols\u001B[0m \u001B[0;34m=\u001B[0m \u001B[0mdataF\u001B[0m\u001B[0;34m.\u001B[0m\u001B[0mcolumns\u001B[0m\u001B[0;34m.\u001B[0m\u001B[0mvalues\u001B[0m\u001B[0;34m.\u001B[0m\u001B[0mtolist\u001B[0m\u001B[0;34m(\u001B[0m\u001B[0;34m)\u001B[0m\u001B[0;34m\u001B[0m\u001B[0;34m\u001B[0m\u001B[0m\n\u001B[1;32m     93\u001B[0m     \u001B[0mdistF\u001B[0m \u001B[0;34m=\u001B[0m \u001B[0mpd\u001B[0m\u001B[0;34m.\u001B[0m\u001B[0mDataFrame\u001B[0m\u001B[0;34m(\u001B[0m\u001B[0mdata\u001B[0m\u001B[0;34m=\u001B[0m\u001B[0mdist\u001B[0m\u001B[0;34m,\u001B[0m \u001B[0mindex\u001B[0m \u001B[0;34m=\u001B[0m \u001B[0mcols\u001B[0m\u001B[0;34m,\u001B[0m \u001B[0mcolumns\u001B[0m \u001B[0;34m=\u001B[0m \u001B[0mcols\u001B[0m\u001B[0;34m)\u001B[0m\u001B[0;34m\u001B[0m\u001B[0;34m\u001B[0m\u001B[0m\n",
      "\u001B[0;32m~/Code/single-cell-pathway-analysis/scripts/shortest_path.py\u001B[0m in \u001B[0;36mget_distance_matrix\u001B[0;34m(dataF)\u001B[0m\n\u001B[1;32m     79\u001B[0m         \u001B[0;32mfor\u001B[0m \u001B[0mj\u001B[0m \u001B[0;32min\u001B[0m \u001B[0mrange\u001B[0m\u001B[0;34m(\u001B[0m\u001B[0mi\u001B[0m \u001B[0;34m+\u001B[0m \u001B[0;36m1\u001B[0m\u001B[0;34m,\u001B[0m \u001B[0mnCol\u001B[0m\u001B[0;34m)\u001B[0m\u001B[0;34m:\u001B[0m\u001B[0;34m\u001B[0m\u001B[0;34m\u001B[0m\u001B[0m\n\u001B[1;32m     80\u001B[0m             \u001B[0mv2\u001B[0m \u001B[0;34m=\u001B[0m \u001B[0mdataF\u001B[0m\u001B[0;34m.\u001B[0m\u001B[0miloc\u001B[0m\u001B[0;34m[\u001B[0m\u001B[0;34m:\u001B[0m\u001B[0;34m,\u001B[0m \u001B[0mj\u001B[0m\u001B[0;34m]\u001B[0m\u001B[0;34m.\u001B[0m\u001B[0mto_numpy\u001B[0m\u001B[0;34m(\u001B[0m\u001B[0;34m)\u001B[0m\u001B[0;34m\u001B[0m\u001B[0;34m\u001B[0m\u001B[0m\n\u001B[0;32m---> 81\u001B[0;31m             \u001B[0mdif\u001B[0m \u001B[0;34m=\u001B[0m \u001B[0mv1\u001B[0m \u001B[0;34m-\u001B[0m \u001B[0mv2\u001B[0m\u001B[0;34m\u001B[0m\u001B[0;34m\u001B[0m\u001B[0m\n\u001B[0m\u001B[1;32m     82\u001B[0m             \u001B[0md\u001B[0m \u001B[0;34m=\u001B[0m \u001B[0mnp\u001B[0m\u001B[0;34m.\u001B[0m\u001B[0mdot\u001B[0m\u001B[0;34m(\u001B[0m\u001B[0mdif\u001B[0m\u001B[0;34m,\u001B[0m \u001B[0mdif\u001B[0m\u001B[0;34m)\u001B[0m\u001B[0;34m\u001B[0m\u001B[0;34m\u001B[0m\u001B[0m\n\u001B[1;32m     83\u001B[0m             \u001B[0mdist_mat\u001B[0m\u001B[0;34m[\u001B[0m\u001B[0mi\u001B[0m\u001B[0;34m]\u001B[0m\u001B[0;34m[\u001B[0m\u001B[0mj\u001B[0m\u001B[0;34m]\u001B[0m \u001B[0;34m=\u001B[0m \u001B[0md\u001B[0m\u001B[0;34m\u001B[0m\u001B[0;34m\u001B[0m\u001B[0m\n",
      "\u001B[0;31mAttributeError\u001B[0m: 'numpy.ndarray' object has no attribute 'subtract'"
     ]
    }
   ],
   "source": [
    "import pandas as pd\n",
    "import numpy as np\n",
    "import math\n",
    "import shortest_path as sp\n",
    "import sc_pca\n",
    "\n",
    "sc_pca.sc_pca(\"/home/ozgunbabur/Downloads/temp/test-data.tsv\", \"/home/ozgunbabur/Downloads/temp/test-data-pca.tsv\", 3)\n",
    "\n",
    "sp.write_distance_matrix(\"/home/ozgunbabur/Downloads/temp/test-data-pca.tsv\", \"/home/ozgunbabur/Downloads/temp/test-data-dist.tsv\")\n",
    "\n",
    "trj, dist = sp.get_traj_and_time(\"/home/ozgunbabur/Downloads/temp/test-data-dist.tsv\", \"C1_1\", \"C2_1\")\n",
    "\n",
    "trj"
   ]
  }
 ],
 "metadata": {
  "kernelspec": {
   "display_name": "Python 3",
   "language": "python",
   "name": "python3"
  },
  "language_info": {
   "codemirror_mode": {
    "name": "ipython",
    "version": 2
   },
   "file_extension": ".py",
   "mimetype": "text/x-python",
   "name": "python",
   "nbconvert_exporter": "python",
   "pygments_lexer": "ipython2",
   "version": "2.7.6"
  }
 },
 "nbformat": 4,
 "nbformat_minor": 0
}
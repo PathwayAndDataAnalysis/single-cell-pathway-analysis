{
 "cells": [
  {
   "cell_type": "code",
   "execution_count": 1,
   "metadata": {
    "collapsed": true
   },
   "outputs": [],
   "source": [
    "import pandas as pd\n",
    "import numpy as np\n",
    "import math\n",
    "import shortest_path as sp\n",
    "import sc_pca"
   ]
  },
  {
   "cell_type": "code",
   "execution_count": 2,
   "outputs": [],
   "source": [
    "\n",
    "sc_pca.sc_pca(\"/home/ozgun/Downloads/test-data.tsv\", \"/home/ozgun/Downloads/test-data-pca.tsv\", 3)\n",
    "\n",
    "sp.write_distance_matrix(\"/home/ozgun/Downloads/test-data-pca.tsv\", \"/home/ozgun/Downloads/test-data-dist.tsv\")\n",
    "\n",
    "traj, time = sp.get_traj_and_time(\"/home/ozgun/Downloads/test-data-dist.tsv\", \"C1_1\", \"C2_1\")"
   ],
   "metadata": {
    "collapsed": false
   }
  },
  {
   "cell_type": "code",
   "execution_count": 3,
   "outputs": [],
   "source": [
    "\n",
    "sp.write_changes(\"/home/ozgun/Downloads/test-data.tsv\", traj, time, \"/home/ozgun/Downloads/test-data-diffexp.tsv\")\n"
   ],
   "metadata": {
    "collapsed": false
   }
  }
 ],
 "metadata": {
  "kernelspec": {
   "display_name": "Python 3",
   "language": "python",
   "name": "python3"
  },
  "language_info": {
   "codemirror_mode": {
    "name": "ipython",
    "version": 2
   },
   "file_extension": ".py",
   "mimetype": "text/x-python",
   "name": "python",
   "nbconvert_exporter": "python",
   "pygments_lexer": "ipython2",
   "version": "2.7.6"
  }
 },
 "nbformat": 4,
 "nbformat_minor": 0
}

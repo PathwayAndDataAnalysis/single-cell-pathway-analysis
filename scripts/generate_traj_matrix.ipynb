{
 "cells": [
  {
   "cell_type": "code",
   "execution_count": 6,
   "metadata": {
    "collapsed": true
   },
   "outputs": [],
   "source": [
    "import pandas as pd\n",
    "import numpy as np\n",
    "import matplotlib.pyplot as plt\n",
    "import matplotlib.animation as animation\n",
    "from scipy.spatial import distance\n",
    "from sc_pca import sc_pca\n",
    "import random_walk_helper_functions as rwf"
   ]
  },
  {
   "cell_type": "code",
   "execution_count": 8,
   "outputs": [],
   "source": [
    "norm_mat_dir = \"/home/meric/Desktop/josh_data_june/take3/normalized_mat.tsv\"\n",
    "pca_out_dir = \"/home/meric/Desktop/josh_data_june/take3/take3_pca5.tsv\"\n",
    "meta_data_dir = \"/home/meric/Desktop/josh_data_june/take3/meta_data.tsv\""
   ],
   "metadata": {
    "collapsed": false
   }
  },
  {
   "cell_type": "code",
   "execution_count": 15,
   "outputs": [],
   "source": [
    "pca_df = pd.read_csv(pca_out_dir,sep=\"\\t\",index_col=0)"
   ],
   "metadata": {
    "collapsed": false
   }
  },
  {
   "cell_type": "code",
   "execution_count": 16,
   "outputs": [
    {
     "data": {
      "text/plain": "     BPK.12x.4NQO_AAACCTGCACCCAGTG.1  BPK.12x.4NQO_AAACCTGCAGCTTAAC.1  \\\nPC1                         0.009320                         0.009564   \nPC2                         0.007400                         0.014067   \nPC3                         0.006146                         0.009379   \nPC4                         0.003487                         0.011956   \nPC5                        -0.005839                         0.002493   \n\n     BPK.12x.4NQO_AAACCTGGTGTGCGTC.1  BPK.12x.4NQO_AAACCTGGTTGAACTC.1  \\\nPC1                         0.011092                         0.011141   \nPC2                        -0.004678                        -0.011669   \nPC3                        -0.012685                        -0.001540   \nPC4                         0.005597                        -0.001083   \nPC5                        -0.017087                         0.024034   \n\n     BPK.12x.4NQO_AAACGGGAGGATGGTC.1  BPK.12x.4NQO_AAACGGGAGGGCTCTC.1  \\\nPC1                         0.010670                         0.010564   \nPC2                        -0.009653                        -0.010301   \nPC3                        -0.009769                        -0.009327   \nPC4                         0.009533                         0.009889   \nPC5                         0.002256                        -0.007460   \n\n     BPK.12x.4NQO_AAACGGGAGTAACCCT.1  BPK.12x.4NQO_AAACGGGCATGGGACA.1  \\\nPC1                         0.010805                         0.009802   \nPC2                        -0.010588                        -0.005251   \nPC3                        -0.008781                         0.010694   \nPC4                         0.009532                        -0.006379   \nPC5                         0.002115                         0.008089   \n\n     BPK.12x.4NQO_AAACGGGGTCTGCAAT.1  BPK.12x.4NQO_AAACGGGTCAATCTCT.1  ...  \\\nPC1                         0.010849                         0.010894  ...   \nPC2                        -0.005756                        -0.011256  ...   \nPC3                        -0.010868                        -0.008382  ...   \nPC4                         0.005755                         0.004976  ...   \nPC5                        -0.007385                         0.005417  ...   \n\n     BPK.12x.vehicle_TTTGTCACAATGAAAC.1  BPK.12x.vehicle_TTTGTCACAGCTGTAT.1  \\\nPC1                            0.011105                            0.010496   \nPC2                           -0.009864                            0.014117   \nPC3                           -0.008345                            0.011594   \nPC4                            0.009633                            0.010643   \nPC5                            0.000234                            0.004331   \n\n     BPK.12x.vehicle_TTTGTCAGTAGTACCT.1  BPK.12x.vehicle_TTTGTCAGTCAATGTC.1  \\\nPC1                            0.010344                            0.010518   \nPC2                            0.013435                            0.016412   \nPC3                            0.005820                            0.008785   \nPC4                            0.007915                            0.010349   \nPC5                           -0.024929                            0.018405   \n\n     BPK.12x.vehicle_TTTGTCAGTTCTCATT.1  BPK.12x.vehicle_TTTGTCAGTTCTGAAC.1  \\\nPC1                            0.009587                            0.010609   \nPC2                            0.013011                           -0.003801   \nPC3                            0.004098                           -0.007786   \nPC4                            0.014128                            0.003902   \nPC5                            0.013496                           -0.030882   \n\n     BPK.12x.vehicle_TTTGTCATCAGGATCT.1  BPK.12x.vehicle_TTTGTCATCATCATTC.1  \\\nPC1                            0.010944                            0.008512   \nPC2                           -0.007861                            0.001922   \nPC3                            0.003119                           -0.004213   \nPC4                            0.000189                           -0.001898   \nPC5                           -0.010431                           -0.011020   \n\n     BPK.12x.vehicle_TTTGTCATCATGCATG.1  BPK.12x.vehicle_TTTGTCATCTTGCATT.1  \nPC1                            0.010259                            0.010288  \nPC2                           -0.009354                            0.009591  \nPC3                           -0.002642                           -0.002350  \nPC4                            0.007532                            0.002525  \nPC5                           -0.011348                           -0.002073  \n\n[5 rows x 9089 columns]",
      "text/html": "<div>\n<style scoped>\n    .dataframe tbody tr th:only-of-type {\n        vertical-align: middle;\n    }\n\n    .dataframe tbody tr th {\n        vertical-align: top;\n    }\n\n    .dataframe thead th {\n        text-align: right;\n    }\n</style>\n<table border=\"1\" class=\"dataframe\">\n  <thead>\n    <tr style=\"text-align: right;\">\n      <th></th>\n      <th>BPK.12x.4NQO_AAACCTGCACCCAGTG.1</th>\n      <th>BPK.12x.4NQO_AAACCTGCAGCTTAAC.1</th>\n      <th>BPK.12x.4NQO_AAACCTGGTGTGCGTC.1</th>\n      <th>BPK.12x.4NQO_AAACCTGGTTGAACTC.1</th>\n      <th>BPK.12x.4NQO_AAACGGGAGGATGGTC.1</th>\n      <th>BPK.12x.4NQO_AAACGGGAGGGCTCTC.1</th>\n      <th>BPK.12x.4NQO_AAACGGGAGTAACCCT.1</th>\n      <th>BPK.12x.4NQO_AAACGGGCATGGGACA.1</th>\n      <th>BPK.12x.4NQO_AAACGGGGTCTGCAAT.1</th>\n      <th>BPK.12x.4NQO_AAACGGGTCAATCTCT.1</th>\n      <th>...</th>\n      <th>BPK.12x.vehicle_TTTGTCACAATGAAAC.1</th>\n      <th>BPK.12x.vehicle_TTTGTCACAGCTGTAT.1</th>\n      <th>BPK.12x.vehicle_TTTGTCAGTAGTACCT.1</th>\n      <th>BPK.12x.vehicle_TTTGTCAGTCAATGTC.1</th>\n      <th>BPK.12x.vehicle_TTTGTCAGTTCTCATT.1</th>\n      <th>BPK.12x.vehicle_TTTGTCAGTTCTGAAC.1</th>\n      <th>BPK.12x.vehicle_TTTGTCATCAGGATCT.1</th>\n      <th>BPK.12x.vehicle_TTTGTCATCATCATTC.1</th>\n      <th>BPK.12x.vehicle_TTTGTCATCATGCATG.1</th>\n      <th>BPK.12x.vehicle_TTTGTCATCTTGCATT.1</th>\n    </tr>\n  </thead>\n  <tbody>\n    <tr>\n      <th>PC1</th>\n      <td>0.009320</td>\n      <td>0.009564</td>\n      <td>0.011092</td>\n      <td>0.011141</td>\n      <td>0.010670</td>\n      <td>0.010564</td>\n      <td>0.010805</td>\n      <td>0.009802</td>\n      <td>0.010849</td>\n      <td>0.010894</td>\n      <td>...</td>\n      <td>0.011105</td>\n      <td>0.010496</td>\n      <td>0.010344</td>\n      <td>0.010518</td>\n      <td>0.009587</td>\n      <td>0.010609</td>\n      <td>0.010944</td>\n      <td>0.008512</td>\n      <td>0.010259</td>\n      <td>0.010288</td>\n    </tr>\n    <tr>\n      <th>PC2</th>\n      <td>0.007400</td>\n      <td>0.014067</td>\n      <td>-0.004678</td>\n      <td>-0.011669</td>\n      <td>-0.009653</td>\n      <td>-0.010301</td>\n      <td>-0.010588</td>\n      <td>-0.005251</td>\n      <td>-0.005756</td>\n      <td>-0.011256</td>\n      <td>...</td>\n      <td>-0.009864</td>\n      <td>0.014117</td>\n      <td>0.013435</td>\n      <td>0.016412</td>\n      <td>0.013011</td>\n      <td>-0.003801</td>\n      <td>-0.007861</td>\n      <td>0.001922</td>\n      <td>-0.009354</td>\n      <td>0.009591</td>\n    </tr>\n    <tr>\n      <th>PC3</th>\n      <td>0.006146</td>\n      <td>0.009379</td>\n      <td>-0.012685</td>\n      <td>-0.001540</td>\n      <td>-0.009769</td>\n      <td>-0.009327</td>\n      <td>-0.008781</td>\n      <td>0.010694</td>\n      <td>-0.010868</td>\n      <td>-0.008382</td>\n      <td>...</td>\n      <td>-0.008345</td>\n      <td>0.011594</td>\n      <td>0.005820</td>\n      <td>0.008785</td>\n      <td>0.004098</td>\n      <td>-0.007786</td>\n      <td>0.003119</td>\n      <td>-0.004213</td>\n      <td>-0.002642</td>\n      <td>-0.002350</td>\n    </tr>\n    <tr>\n      <th>PC4</th>\n      <td>0.003487</td>\n      <td>0.011956</td>\n      <td>0.005597</td>\n      <td>-0.001083</td>\n      <td>0.009533</td>\n      <td>0.009889</td>\n      <td>0.009532</td>\n      <td>-0.006379</td>\n      <td>0.005755</td>\n      <td>0.004976</td>\n      <td>...</td>\n      <td>0.009633</td>\n      <td>0.010643</td>\n      <td>0.007915</td>\n      <td>0.010349</td>\n      <td>0.014128</td>\n      <td>0.003902</td>\n      <td>0.000189</td>\n      <td>-0.001898</td>\n      <td>0.007532</td>\n      <td>0.002525</td>\n    </tr>\n    <tr>\n      <th>PC5</th>\n      <td>-0.005839</td>\n      <td>0.002493</td>\n      <td>-0.017087</td>\n      <td>0.024034</td>\n      <td>0.002256</td>\n      <td>-0.007460</td>\n      <td>0.002115</td>\n      <td>0.008089</td>\n      <td>-0.007385</td>\n      <td>0.005417</td>\n      <td>...</td>\n      <td>0.000234</td>\n      <td>0.004331</td>\n      <td>-0.024929</td>\n      <td>0.018405</td>\n      <td>0.013496</td>\n      <td>-0.030882</td>\n      <td>-0.010431</td>\n      <td>-0.011020</td>\n      <td>-0.011348</td>\n      <td>-0.002073</td>\n    </tr>\n  </tbody>\n</table>\n<p>5 rows × 9089 columns</p>\n</div>"
     },
     "execution_count": 16,
     "metadata": {},
     "output_type": "execute_result"
    }
   ],
   "source": [
    "pca_df.head()"
   ],
   "metadata": {
    "collapsed": false
   }
  },
  {
   "cell_type": "code",
   "execution_count": 17,
   "outputs": [],
   "source": [
    "# Find PCA coordinates\n",
    "#pca_df = sc_pca(input_path=norm_mat_dir,output_path=pca_out_dir,n_comp=5)\n",
    "pca_df.columns = pca_df.columns.str.replace('\\.','-', regex=True)"
   ],
   "metadata": {
    "collapsed": false
   }
  },
  {
   "cell_type": "code",
   "execution_count": 4,
   "outputs": [
    {
     "data": {
      "text/plain": "     BPK-12x-4NQO_AAACCTGCACCCAGTG-1  BPK-12x-4NQO_AAACCTGCAGCTTAAC-1  \\\nPC1                         0.009320                         0.009564   \nPC2                         0.007400                         0.014067   \nPC3                         0.006146                         0.009379   \nPC4                         0.003487                         0.011956   \nPC5                        -0.005839                         0.002493   \n\n     BPK-12x-4NQO_AAACCTGGTGTGCGTC-1  BPK-12x-4NQO_AAACCTGGTTGAACTC-1  \\\nPC1                         0.011092                         0.011141   \nPC2                        -0.004678                        -0.011669   \nPC3                        -0.012685                        -0.001540   \nPC4                         0.005597                        -0.001083   \nPC5                        -0.017087                         0.024034   \n\n     BPK-12x-4NQO_AAACGGGAGGATGGTC-1  BPK-12x-4NQO_AAACGGGAGGGCTCTC-1  \\\nPC1                         0.010670                         0.010564   \nPC2                        -0.009653                        -0.010301   \nPC3                        -0.009769                        -0.009327   \nPC4                         0.009533                         0.009889   \nPC5                         0.002256                        -0.007460   \n\n     BPK-12x-4NQO_AAACGGGAGTAACCCT-1  BPK-12x-4NQO_AAACGGGCATGGGACA-1  \\\nPC1                         0.010805                         0.009802   \nPC2                        -0.010588                        -0.005251   \nPC3                        -0.008781                         0.010694   \nPC4                         0.009532                        -0.006379   \nPC5                         0.002115                         0.008089   \n\n     BPK-12x-4NQO_AAACGGGGTCTGCAAT-1  BPK-12x-4NQO_AAACGGGTCAATCTCT-1  ...  \\\nPC1                         0.010849                         0.010894  ...   \nPC2                        -0.005756                        -0.011256  ...   \nPC3                        -0.010868                        -0.008382  ...   \nPC4                         0.005755                         0.004976  ...   \nPC5                        -0.007385                         0.005417  ...   \n\n     BPK-12x-vehicle_TTTGTCACAATGAAAC-1  BPK-12x-vehicle_TTTGTCACAGCTGTAT-1  \\\nPC1                            0.011105                            0.010496   \nPC2                           -0.009864                            0.014117   \nPC3                           -0.008345                            0.011594   \nPC4                            0.009633                            0.010643   \nPC5                            0.000234                            0.004331   \n\n     BPK-12x-vehicle_TTTGTCAGTAGTACCT-1  BPK-12x-vehicle_TTTGTCAGTCAATGTC-1  \\\nPC1                            0.010344                            0.010518   \nPC2                            0.013435                            0.016412   \nPC3                            0.005820                            0.008785   \nPC4                            0.007915                            0.010349   \nPC5                           -0.024929                            0.018405   \n\n     BPK-12x-vehicle_TTTGTCAGTTCTCATT-1  BPK-12x-vehicle_TTTGTCAGTTCTGAAC-1  \\\nPC1                            0.009587                            0.010609   \nPC2                            0.013011                           -0.003801   \nPC3                            0.004098                           -0.007786   \nPC4                            0.014128                            0.003902   \nPC5                            0.013496                           -0.030882   \n\n     BPK-12x-vehicle_TTTGTCATCAGGATCT-1  BPK-12x-vehicle_TTTGTCATCATCATTC-1  \\\nPC1                            0.010944                            0.008512   \nPC2                           -0.007861                            0.001922   \nPC3                            0.003119                           -0.004213   \nPC4                            0.000189                           -0.001898   \nPC5                           -0.010431                           -0.011020   \n\n     BPK-12x-vehicle_TTTGTCATCATGCATG-1  BPK-12x-vehicle_TTTGTCATCTTGCATT-1  \nPC1                            0.010259                            0.010288  \nPC2                           -0.009354                            0.009591  \nPC3                           -0.002642                           -0.002350  \nPC4                            0.007532                            0.002525  \nPC5                           -0.011348                           -0.002073  \n\n[5 rows x 9089 columns]",
      "text/html": "<div>\n<style scoped>\n    .dataframe tbody tr th:only-of-type {\n        vertical-align: middle;\n    }\n\n    .dataframe tbody tr th {\n        vertical-align: top;\n    }\n\n    .dataframe thead th {\n        text-align: right;\n    }\n</style>\n<table border=\"1\" class=\"dataframe\">\n  <thead>\n    <tr style=\"text-align: right;\">\n      <th></th>\n      <th>BPK-12x-4NQO_AAACCTGCACCCAGTG-1</th>\n      <th>BPK-12x-4NQO_AAACCTGCAGCTTAAC-1</th>\n      <th>BPK-12x-4NQO_AAACCTGGTGTGCGTC-1</th>\n      <th>BPK-12x-4NQO_AAACCTGGTTGAACTC-1</th>\n      <th>BPK-12x-4NQO_AAACGGGAGGATGGTC-1</th>\n      <th>BPK-12x-4NQO_AAACGGGAGGGCTCTC-1</th>\n      <th>BPK-12x-4NQO_AAACGGGAGTAACCCT-1</th>\n      <th>BPK-12x-4NQO_AAACGGGCATGGGACA-1</th>\n      <th>BPK-12x-4NQO_AAACGGGGTCTGCAAT-1</th>\n      <th>BPK-12x-4NQO_AAACGGGTCAATCTCT-1</th>\n      <th>...</th>\n      <th>BPK-12x-vehicle_TTTGTCACAATGAAAC-1</th>\n      <th>BPK-12x-vehicle_TTTGTCACAGCTGTAT-1</th>\n      <th>BPK-12x-vehicle_TTTGTCAGTAGTACCT-1</th>\n      <th>BPK-12x-vehicle_TTTGTCAGTCAATGTC-1</th>\n      <th>BPK-12x-vehicle_TTTGTCAGTTCTCATT-1</th>\n      <th>BPK-12x-vehicle_TTTGTCAGTTCTGAAC-1</th>\n      <th>BPK-12x-vehicle_TTTGTCATCAGGATCT-1</th>\n      <th>BPK-12x-vehicle_TTTGTCATCATCATTC-1</th>\n      <th>BPK-12x-vehicle_TTTGTCATCATGCATG-1</th>\n      <th>BPK-12x-vehicle_TTTGTCATCTTGCATT-1</th>\n    </tr>\n  </thead>\n  <tbody>\n    <tr>\n      <th>PC1</th>\n      <td>0.009320</td>\n      <td>0.009564</td>\n      <td>0.011092</td>\n      <td>0.011141</td>\n      <td>0.010670</td>\n      <td>0.010564</td>\n      <td>0.010805</td>\n      <td>0.009802</td>\n      <td>0.010849</td>\n      <td>0.010894</td>\n      <td>...</td>\n      <td>0.011105</td>\n      <td>0.010496</td>\n      <td>0.010344</td>\n      <td>0.010518</td>\n      <td>0.009587</td>\n      <td>0.010609</td>\n      <td>0.010944</td>\n      <td>0.008512</td>\n      <td>0.010259</td>\n      <td>0.010288</td>\n    </tr>\n    <tr>\n      <th>PC2</th>\n      <td>0.007400</td>\n      <td>0.014067</td>\n      <td>-0.004678</td>\n      <td>-0.011669</td>\n      <td>-0.009653</td>\n      <td>-0.010301</td>\n      <td>-0.010588</td>\n      <td>-0.005251</td>\n      <td>-0.005756</td>\n      <td>-0.011256</td>\n      <td>...</td>\n      <td>-0.009864</td>\n      <td>0.014117</td>\n      <td>0.013435</td>\n      <td>0.016412</td>\n      <td>0.013011</td>\n      <td>-0.003801</td>\n      <td>-0.007861</td>\n      <td>0.001922</td>\n      <td>-0.009354</td>\n      <td>0.009591</td>\n    </tr>\n    <tr>\n      <th>PC3</th>\n      <td>0.006146</td>\n      <td>0.009379</td>\n      <td>-0.012685</td>\n      <td>-0.001540</td>\n      <td>-0.009769</td>\n      <td>-0.009327</td>\n      <td>-0.008781</td>\n      <td>0.010694</td>\n      <td>-0.010868</td>\n      <td>-0.008382</td>\n      <td>...</td>\n      <td>-0.008345</td>\n      <td>0.011594</td>\n      <td>0.005820</td>\n      <td>0.008785</td>\n      <td>0.004098</td>\n      <td>-0.007786</td>\n      <td>0.003119</td>\n      <td>-0.004213</td>\n      <td>-0.002642</td>\n      <td>-0.002350</td>\n    </tr>\n    <tr>\n      <th>PC4</th>\n      <td>0.003487</td>\n      <td>0.011956</td>\n      <td>0.005597</td>\n      <td>-0.001083</td>\n      <td>0.009533</td>\n      <td>0.009889</td>\n      <td>0.009532</td>\n      <td>-0.006379</td>\n      <td>0.005755</td>\n      <td>0.004976</td>\n      <td>...</td>\n      <td>0.009633</td>\n      <td>0.010643</td>\n      <td>0.007915</td>\n      <td>0.010349</td>\n      <td>0.014128</td>\n      <td>0.003902</td>\n      <td>0.000189</td>\n      <td>-0.001898</td>\n      <td>0.007532</td>\n      <td>0.002525</td>\n    </tr>\n    <tr>\n      <th>PC5</th>\n      <td>-0.005839</td>\n      <td>0.002493</td>\n      <td>-0.017087</td>\n      <td>0.024034</td>\n      <td>0.002256</td>\n      <td>-0.007460</td>\n      <td>0.002115</td>\n      <td>0.008089</td>\n      <td>-0.007385</td>\n      <td>0.005417</td>\n      <td>...</td>\n      <td>0.000234</td>\n      <td>0.004331</td>\n      <td>-0.024929</td>\n      <td>0.018405</td>\n      <td>0.013496</td>\n      <td>-0.030882</td>\n      <td>-0.010431</td>\n      <td>-0.011020</td>\n      <td>-0.011348</td>\n      <td>-0.002073</td>\n    </tr>\n  </tbody>\n</table>\n<p>5 rows × 9089 columns</p>\n</div>"
     },
     "execution_count": 4,
     "metadata": {},
     "output_type": "execute_result"
    }
   ],
   "source": [
    "pca_df.head()"
   ],
   "metadata": {
    "collapsed": false
   }
  },
  {
   "cell_type": "code",
   "execution_count": 5,
   "outputs": [],
   "source": [
    "# Convert it to numpy array to calculate the similarity matrix\n",
    "pca_np = pca_df.to_numpy()"
   ],
   "metadata": {
    "collapsed": false
   }
  },
  {
   "cell_type": "code",
   "execution_count": 28,
   "outputs": [
    {
     "data": {
      "text/plain": "array(['midpoint_treated', 'FVB50_tumor', 's4_treated_het'], dtype=object)"
     },
     "execution_count": 28,
     "metadata": {},
     "output_type": "execute_result"
    }
   ],
   "source": [
    "# Treatments\n",
    "meta_data = pd.read_table(meta_data_dir, index_col=0)\n",
    "pd.unique(meta_data[\"orig.ident\"])"
   ],
   "metadata": {
    "collapsed": false
   }
  },
  {
   "cell_type": "code",
   "execution_count": 29,
   "outputs": [
    {
     "data": {
      "text/plain": "                                       orig.ident  nCount_RNA  nFeature_RNA  \\\nBPK-12x-4NQO_AAACCTGCACCCAGTG-1  midpoint_treated        2273          1042   \nBPK-12x-4NQO_AAACCTGCAGCTTAAC-1  midpoint_treated        2644          1036   \nBPK-12x-4NQO_AAACCTGGTGTGCGTC-1  midpoint_treated        8506          2325   \nBPK-12x-4NQO_AAACCTGGTTGAACTC-1  midpoint_treated        8249          2394   \nBPK-12x-4NQO_AAACGGGAGGATGGTC-1  midpoint_treated        4295          1505   \n\n                                 percent.mt  RNA_snn_res.0.2  seurat_clusters  \\\nBPK-12x-4NQO_AAACCTGCACCCAGTG-1    4.047514              3.0               24   \nBPK-12x-4NQO_AAACCTGCAGCTTAAC-1    3.933434              3.0                1   \nBPK-12x-4NQO_AAACCTGGTGTGCGTC-1    4.067717              9.0               23   \nBPK-12x-4NQO_AAACCTGGTTGAACTC-1    2.691235              2.0                5   \nBPK-12x-4NQO_AAACGGGAGGATGGTC-1    2.281723              1.0                2   \n\n                                       sample  RNA_snn_res.0.3  RNA_snn_res.2  \nBPK-12x-4NQO_AAACCTGCACCCAGTG-1  BPK 12x 4NQO              NaN             24  \nBPK-12x-4NQO_AAACCTGCAGCTTAAC-1  BPK 12x 4NQO              NaN              1  \nBPK-12x-4NQO_AAACCTGGTGTGCGTC-1  BPK 12x 4NQO              NaN             23  \nBPK-12x-4NQO_AAACCTGGTTGAACTC-1  BPK 12x 4NQO              NaN              5  \nBPK-12x-4NQO_AAACGGGAGGATGGTC-1  BPK 12x 4NQO              NaN              2  ",
      "text/html": "<div>\n<style scoped>\n    .dataframe tbody tr th:only-of-type {\n        vertical-align: middle;\n    }\n\n    .dataframe tbody tr th {\n        vertical-align: top;\n    }\n\n    .dataframe thead th {\n        text-align: right;\n    }\n</style>\n<table border=\"1\" class=\"dataframe\">\n  <thead>\n    <tr style=\"text-align: right;\">\n      <th></th>\n      <th>orig.ident</th>\n      <th>nCount_RNA</th>\n      <th>nFeature_RNA</th>\n      <th>percent.mt</th>\n      <th>RNA_snn_res.0.2</th>\n      <th>seurat_clusters</th>\n      <th>sample</th>\n      <th>RNA_snn_res.0.3</th>\n      <th>RNA_snn_res.2</th>\n    </tr>\n  </thead>\n  <tbody>\n    <tr>\n      <th>BPK-12x-4NQO_AAACCTGCACCCAGTG-1</th>\n      <td>midpoint_treated</td>\n      <td>2273</td>\n      <td>1042</td>\n      <td>4.047514</td>\n      <td>3.0</td>\n      <td>24</td>\n      <td>BPK 12x 4NQO</td>\n      <td>NaN</td>\n      <td>24</td>\n    </tr>\n    <tr>\n      <th>BPK-12x-4NQO_AAACCTGCAGCTTAAC-1</th>\n      <td>midpoint_treated</td>\n      <td>2644</td>\n      <td>1036</td>\n      <td>3.933434</td>\n      <td>3.0</td>\n      <td>1</td>\n      <td>BPK 12x 4NQO</td>\n      <td>NaN</td>\n      <td>1</td>\n    </tr>\n    <tr>\n      <th>BPK-12x-4NQO_AAACCTGGTGTGCGTC-1</th>\n      <td>midpoint_treated</td>\n      <td>8506</td>\n      <td>2325</td>\n      <td>4.067717</td>\n      <td>9.0</td>\n      <td>23</td>\n      <td>BPK 12x 4NQO</td>\n      <td>NaN</td>\n      <td>23</td>\n    </tr>\n    <tr>\n      <th>BPK-12x-4NQO_AAACCTGGTTGAACTC-1</th>\n      <td>midpoint_treated</td>\n      <td>8249</td>\n      <td>2394</td>\n      <td>2.691235</td>\n      <td>2.0</td>\n      <td>5</td>\n      <td>BPK 12x 4NQO</td>\n      <td>NaN</td>\n      <td>5</td>\n    </tr>\n    <tr>\n      <th>BPK-12x-4NQO_AAACGGGAGGATGGTC-1</th>\n      <td>midpoint_treated</td>\n      <td>4295</td>\n      <td>1505</td>\n      <td>2.281723</td>\n      <td>1.0</td>\n      <td>2</td>\n      <td>BPK 12x 4NQO</td>\n      <td>NaN</td>\n      <td>2</td>\n    </tr>\n  </tbody>\n</table>\n</div>"
     },
     "execution_count": 29,
     "metadata": {},
     "output_type": "execute_result"
    }
   ],
   "source": [
    "meta_data.index = meta_data.index.str.replace(' ','-', regex=True)\n",
    "meta_data.head()"
   ],
   "metadata": {
    "collapsed": false
   }
  },
  {
   "cell_type": "code",
   "execution_count": 8,
   "outputs": [],
   "source": [
    "meta_column_dict = dict(zip(meta_data[\"seurat_clusters\"].index, meta_data[\"seurat_clusters\"].values))"
   ],
   "metadata": {
    "collapsed": false
   }
  },
  {
   "cell_type": "code",
   "execution_count": 9,
   "outputs": [],
   "source": [
    "source_cluster = [k for k, v in meta_column_dict.items() if v == 3]\n",
    "target_cluster = [k for k, v in meta_column_dict.items() if v == 5]"
   ],
   "metadata": {
    "collapsed": false
   }
  },
  {
   "cell_type": "code",
   "execution_count": 10,
   "outputs": [],
   "source": [
    "# Get the cell names and size\n",
    "cols = pca_df.columns.values.tolist()\n",
    "size = len(cols)"
   ],
   "metadata": {
    "collapsed": false
   }
  },
  {
   "cell_type": "code",
   "execution_count": 11,
   "outputs": [
    {
     "data": {
      "text/plain": "9089"
     },
     "execution_count": 11,
     "metadata": {},
     "output_type": "execute_result"
    }
   ],
   "source": [
    "size"
   ],
   "metadata": {
    "collapsed": false
   }
  },
  {
   "cell_type": "code",
   "execution_count": 12,
   "outputs": [
    {
     "data": {
      "text/plain": "(['BPK-12x-4NQO_AAACCTGCAGCTTAAC-1', 'BPK-12x-4NQO_AAACCTGGTGTGCGTC-1'],\n ['BPK-12x-4NQO_AAAGTAGTCTACCAGA-1', 'BPK-12x-4NQO_AACCGCGAGCGAGAAA-1'])"
     },
     "execution_count": 12,
     "metadata": {},
     "output_type": "execute_result"
    }
   ],
   "source": [
    "cols[1:3],source_cluster[1:3]"
   ],
   "metadata": {
    "collapsed": false
   }
  },
  {
   "cell_type": "code",
   "execution_count": 13,
   "outputs": [
    {
     "data": {
      "text/plain": "array([  12,   31,   58,   76,   80,  100,  152,  157,  169,  176,  203,\n        211,  216,  253,  256,  261,  284,  301,  313,  328,  348,  378,\n        435,  437,  443,  451,  458,  461,  476,  482,  500,  506,  521,\n        523,  530,  549,  553,  582,  600,  607,  632,  633,  643,  659,\n        666,  670,  679,  711,  727,  770,  771,  788,  804,  816,  817,\n        844,  845,  871,  881,  898,  942,  949,  964,  974,  985, 1007,\n       1033, 1041, 1078, 1102, 1105, 1110, 1163, 1171, 1191, 1193, 1209,\n       1217, 1235, 1245, 1252, 1271, 1315, 1320, 1328, 1370, 1396, 1397,\n       1434, 1450, 1457, 1468, 1473, 1519, 1528, 1530, 1564, 1567, 1570,\n       1573, 1581, 1601, 1612, 1621, 1630, 1646, 1648, 1672, 1683, 1713,\n       1724, 1725, 1743, 1752, 1756, 1760, 1782, 1783, 1811, 1819, 1830,\n       1846, 1852, 1869, 1879, 1891, 1915, 1918, 1930, 1931, 1934, 1940,\n       1949, 1952, 1959, 1966, 1969, 1992, 2010, 2020, 2033, 2035, 2045,\n       2091, 2095, 2096, 2104, 2145, 2164, 2171, 2180, 2187, 2189, 2203,\n       2207, 2234, 2244, 2245, 2252, 2262, 2273, 2274, 2287, 2296, 2299,\n       2306, 2307, 2312, 2316, 2335, 2358, 2363, 2392, 2418, 2439, 2444,\n       2487, 2498, 2515, 2519, 2531, 2535, 2538, 2558, 2583, 2595, 2608,\n       2611, 2618, 2628, 2630, 2651, 2662, 2704, 2706, 2725, 2776, 2777,\n       2780, 2827, 2831, 2852, 2857, 2858, 2864, 2865, 2930, 2932, 2933,\n       2971, 2972, 2975, 2984, 3016, 3026, 3045, 3048, 3049, 3055, 3063,\n       3076, 3101, 3118, 3138, 3144, 3168, 3175, 3180, 3193, 3196, 3214,\n       3225, 3239, 3244, 3247, 3252, 3283, 3316, 3322, 3328, 3331, 3351,\n       3354, 3369, 3401, 3413, 3482, 3495, 3521, 3530, 3531, 3534, 3541,\n       3554, 3572, 3575, 3576, 3580, 3584, 3594, 3640, 4364, 4741, 4755,\n       4776, 4788, 4792, 4817, 4819, 4821, 4835, 4861, 4879, 4882, 4884,\n       4925, 4933, 4976, 4980, 4982, 5000, 5003, 5005, 5006, 5008, 5011,\n       5020, 5047, 5061, 5068, 5078, 5083, 5089, 5091, 5092, 5117, 5125,\n       5128, 5129, 5138, 5142, 5146, 5155, 5161, 5175, 5177, 5180, 5190,\n       5191, 5194, 5201, 5211, 5217, 5224, 5226, 5235, 5238, 5241, 5246,\n       5248, 5257, 5264, 5267, 5269, 5278, 5284, 5285, 5294, 5297, 5302,\n       5307, 5322, 5338, 5340, 5341, 5343, 5345, 5353, 5356, 5358, 5372,\n       5375, 5414, 5428, 5429, 5437, 5440, 5441, 5451, 5452, 5463, 5470,\n       5473, 5474, 5493, 5495, 5505, 5518, 5541, 5551, 5552, 5556, 5557,\n       5558, 5565, 5578, 5582, 5591, 5592, 5621, 5624, 5625, 5629, 5634,\n       5646, 5653, 5655, 5664, 5681, 5689, 5703, 5721, 5724, 5730, 5731,\n       5735, 5739, 5746, 5759, 5760, 5763, 5773, 5786, 5802, 5804, 5819,\n       5825, 5835, 5838, 5841, 5863, 5867, 5876, 5884, 5897, 5905, 5907,\n       5918, 5919, 5921, 5931, 5935, 5938, 5942, 5943, 5949, 5985, 5992,\n       5998, 6009, 6017, 6021, 6022, 6025, 6028, 6031, 6039, 6049, 6077,\n       6079, 6081, 6082, 6089, 6095, 6100, 6103, 6105, 6107, 6114, 6123,\n       6135, 6154, 6156, 6165, 6168, 6171, 6172, 6173, 6175, 6176, 6182,\n       6201, 6204, 6220, 6221, 6235, 6250, 6253, 6264, 6271, 6279, 6281,\n       6290, 6291, 6294, 6300, 6302, 6316, 6319, 6323, 6349, 6351, 6352,\n       6357, 6368, 6375, 6378, 6382, 6389, 6391, 6395, 6420, 6422, 6436,\n       6445, 6446, 6451, 6462, 6470, 6478, 6484, 6486, 6492, 6526, 6530,\n       6537, 6539, 6543, 6544, 6557, 6565, 6568, 6571, 6575, 6581, 6585,\n       6592, 6594, 6601, 6614, 6631, 6634, 6636, 6643, 6650, 6663, 6664,\n       6670, 6682, 6690, 6696, 6701, 6702, 6704, 6705, 6707, 6714, 6730,\n       6732, 6740, 6747, 6749, 6763, 6765, 6766, 6784, 6786, 6793, 6796,\n       6804, 6815, 6822, 6844, 6847, 6853, 6859, 6890, 6893, 6913, 6918,\n       6920, 6928, 6932, 6933, 6948, 6974, 6985, 6990, 7003, 7008, 7012,\n       7013, 7024, 7038, 7046, 7048, 7057, 7065, 7070, 7071, 7074, 7103,\n       7104, 7113, 7114, 7118, 7127, 7152, 7159, 7169, 7178, 7184, 7185,\n       7191, 7196, 7200, 7219, 7235, 7238, 7240, 7245, 7254, 7262, 7263,\n       7276, 7277, 7291, 7293, 7300, 7303, 7305, 7313, 7318, 7328, 7336,\n       7348, 7353, 7355, 7356, 7357, 7368, 7369, 7396, 7409, 7430, 7431,\n       7438, 7449, 7450, 7457, 7477, 7478, 7485, 7493, 7495, 7499, 7504,\n       7515, 7518, 7528, 7529, 7530, 7536, 7556, 7561, 7569, 7574, 7580,\n       7585, 7590, 7602, 7617, 7630, 7636, 7653, 7655, 7656, 7670, 7674,\n       7679, 7683, 7702, 7716, 7720, 7727, 7733, 7747, 7748, 7761, 7768,\n       7772, 7781, 7783, 7788, 7809, 7827, 7828, 7845, 7861, 7864, 7871,\n       7886, 7897, 7904, 7905, 7912, 7924, 7926, 7931, 7935, 7970, 7971,\n       7996, 8036, 8041, 8061, 8069, 8080, 8084, 8085, 8088, 8089, 8090,\n       8105, 8124, 8125, 8132, 8133, 8159, 8168, 8173, 8179, 8181, 8187,\n       8199, 8205, 8212, 8221, 8223, 8239, 8256, 8264, 8274, 8277, 8281,\n       8289, 8290, 8292, 8310, 8312, 8322, 8324, 8331, 8333, 8347, 8348,\n       8353, 8355, 8377, 8378, 8381, 8395, 8396, 8399, 8402, 8418, 8419,\n       8420, 8424, 8430, 8431, 8441, 8442, 8454, 8455, 8468, 8469, 8470,\n       8475, 8484, 8495, 8497, 8501, 8503, 8522, 8530, 8537, 8542, 8544,\n       8552, 8553, 8563, 8564, 8574, 8578, 8582, 8584, 8585, 8588, 8590,\n       8593, 8594, 8595, 8599, 8608, 8628, 8635, 8636, 8662, 8669, 8686,\n       8690, 8694, 8698, 8701, 8706, 8711, 8712, 8724, 8743, 8748, 8753,\n       8757, 8766, 8771, 8783, 8798, 8804, 8815, 8820, 8826, 8831, 8835,\n       8836, 8840, 8853, 8858, 8863, 8865, 8874, 8885, 8892, 8896, 8908,\n       8920, 8943, 8963, 8965, 8970, 8974, 8978, 8981, 8999, 9009, 9010,\n       9011, 9021, 9034, 9047, 9048, 9052, 9058, 9067, 9070])"
     },
     "execution_count": 13,
     "metadata": {},
     "output_type": "execute_result"
    }
   ],
   "source": [
    "source_index = np.where(np.isin(cols,source_cluster))\n",
    "target_index = np.where(np.isin(cols,target_cluster))\n",
    "source_index[0]\n",
    "#target_index[0]"
   ],
   "metadata": {
    "collapsed": false
   }
  },
  {
   "cell_type": "code",
   "execution_count": 14,
   "outputs": [],
   "source": [
    "# Generate the boolean arrays that mark source and target cells\n",
    "source_indicator = np.full(size, False)\n",
    "source_indicator[source_index] = True\n",
    "target_indicator = np.full(size, False)\n",
    "target_indicator[target_index] = True"
   ],
   "metadata": {
    "collapsed": false
   }
  },
  {
   "cell_type": "code",
   "execution_count": 15,
   "outputs": [],
   "source": [
    "sim = rwf.get_similarity_matrix(pca_np, sigmasq=30)"
   ],
   "metadata": {
    "collapsed": false
   }
  },
  {
   "cell_type": "code",
   "execution_count": 16,
   "outputs": [],
   "source": [
    "p_mat = rwf.get_probability_matrix(sim)"
   ],
   "metadata": {
    "collapsed": false
   }
  },
  {
   "cell_type": "code",
   "execution_count": 18,
   "outputs": [],
   "source": [
    "p_mat[target_indicator,:] = 0"
   ],
   "metadata": {
    "collapsed": false
   }
  },
  {
   "cell_type": "code",
   "execution_count": 20,
   "outputs": [],
   "source": [
    "# Decide how many steps the simulation will be\n",
    "simulation_length = 50\n",
    "\n",
    "# Simulate the heat distribution\n",
    "flows, sinks = rwf.generate_flow_matrices(p_mat, source_indicator, target_indicator, simulation_length)\n"
   ],
   "metadata": {
    "collapsed": false
   }
  },
  {
   "cell_type": "code",
   "execution_count": 21,
   "outputs": [
    {
     "name": "stderr",
     "output_type": "stream",
     "text": [
      "/home/meric/Desktop/single-cell-pathway-analysis/scripts/random_walk_helper_functions.py:126: RuntimeWarning: invalid value encountered in divide\n",
      "  ratios = weights / outflow_sums\n"
     ]
    }
   ],
   "source": [
    "# Using the flows, get the distribution of the heat (at each step) that reaches the target at the end of the simulation or earlier. Weight: Heat that reaches the target during the simulation.\n",
    "sub_flow = rwf.generate_cumulative_weights(flows, target_indicator, -1)\n"
   ],
   "metadata": {
    "collapsed": false
   }
  },
  {
   "cell_type": "code",
   "execution_count": 22,
   "outputs": [
    {
     "data": {
      "text/plain": "array([[0.00012187, 0.00012187, 0.00012186, ..., 0.00012187, 0.00012187,\n        0.00012187],\n       [0.00012187, 0.00012187, 0.00012186, ..., 0.00012186, 0.00012186,\n        0.00012187],\n       [0.00012186, 0.00012186, 0.00012187, ..., 0.00012187, 0.00012187,\n        0.00012187],\n       ...,\n       [0.00012187, 0.00012186, 0.00012187, ..., 0.00012187, 0.00012187,\n        0.00012187],\n       [0.00012187, 0.00012186, 0.00012187, ..., 0.00012187, 0.00012187,\n        0.00012187],\n       [0.00012187, 0.00012187, 0.00012187, ..., 0.00012187, 0.00012187,\n        0.00012187]])"
     },
     "execution_count": 22,
     "metadata": {},
     "output_type": "execute_result"
    }
   ],
   "source": [
    "sub_flow"
   ],
   "metadata": {
    "collapsed": false
   }
  },
  {
   "cell_type": "code",
   "execution_count": 40,
   "outputs": [],
   "source": [
    "def generate_sub_flow(source_cells,target_cells,pca_df,simulation_length = 50):\n",
    "\n",
    "    # Convert data frame to numpy array\n",
    "    pca_matrix = pca_df.to_numpy()\n",
    "\n",
    "    # Get the cell names and size\n",
    "    #cols = meta_data.columns.values.tolist()\n",
    "    cols = pca_df.columns.values.tolist()\n",
    "    size = len(cols)\n",
    "\n",
    "    # Get index of the cells\n",
    "    source_ind = np.where(np.isin(cols,source_cells))\n",
    "    target_ind = np.where(np.isin(cols,target_cells))\n",
    "\n",
    "    # Generate the boolean arrays that mark source and target cells\n",
    "    source_indicator = np.full(size, False)\n",
    "    source_indicator[source_ind] = True\n",
    "    target_indicator = np.full(size, False)\n",
    "    target_indicator[target_ind] = True\n",
    "\n",
    "    # Generate the similarity matrix based on distances on the data\n",
    "    sim = rwf.get_similarity_matrix(pca_matrix, sigmasq=30)\n",
    "\n",
    "    # Generate the transition probabilities based on the distances\n",
    "    p_mat = rwf.get_probability_matrix(sim)\n",
    "    # Target cells absorb the heat. They don't transmit any of it. They are sinks in the system.\n",
    "    p_mat[target_indicator,:] = 0\n",
    "\n",
    "    # Decide how many steps the simulation will be\n",
    "    #simulation_length = 50\n",
    "\n",
    "    # Simulate the heat distribution\n",
    "    flows, sinks = rwf.generate_flow_matrices(p_mat, source_indicator, target_indicator, simulation_length)\n",
    "\n",
    "    # Using the flows, get the distribution of the heat (at each step) that reaches the target at the end of the simulation or earlier. Weight: Heat that reaches the target during the simulation.\n",
    "    sub_flow = rwf.generate_cumulative_weights(flows, target_indicator, -1)\n",
    "\n",
    "\n",
    "\n",
    "    return sub_flow"
   ],
   "metadata": {
    "collapsed": false
   }
  },
  {
   "cell_type": "code",
   "execution_count": 41,
   "outputs": [
    {
     "name": "stderr",
     "output_type": "stream",
     "text": [
      "/home/meric/Desktop/single-cell-pathway-analysis/scripts/random_walk_helper_functions.py:126: RuntimeWarning: invalid value encountered in divide\n",
      "  ratios = weights / outflow_sums\n"
     ]
    },
    {
     "data": {
      "text/plain": "array([[0.00019307, 0.00019306, 0.00019306, ..., 0.00019306, 0.00019306,\n        0.00019306],\n       [0.00019306, 0.00019307, 0.00019305, ..., 0.00019306, 0.00019306,\n        0.00019306],\n       [0.00019306, 0.00019306, 0.00019307, ..., 0.00019307, 0.00019307,\n        0.00019307],\n       ...,\n       [0.00019307, 0.00019306, 0.00019307, ..., 0.00019307, 0.00019307,\n        0.00019307],\n       [0.00019307, 0.00019306, 0.00019306, ..., 0.00019307, 0.00019307,\n        0.00019306],\n       [0.00019306, 0.00019306, 0.00019307, ..., 0.00019307, 0.00019307,\n        0.00019307]])"
     },
     "execution_count": 41,
     "metadata": {},
     "output_type": "execute_result"
    }
   ],
   "source": [
    "generate_sub_flow(source_cells=source_cluster,target_cells=target_cluster,pca_df=pca_sub, simulation_length = 5)"
   ],
   "metadata": {
    "collapsed": false
   }
  },
  {
   "cell_type": "code",
   "execution_count": 32,
   "outputs": [],
   "source": [
    "pca_sub = pca_df.iloc[:,1:50]\n",
    "# Convert it to numpy array to calculate the similarity matrix\n",
    "pca_np_sub = pca_sub.to_numpy()"
   ],
   "metadata": {
    "collapsed": false
   }
  },
  {
   "cell_type": "code",
   "execution_count": 21,
   "outputs": [
    {
     "data": {
      "text/plain": "Index(['BPK-12x-4NQO_AAACCTGCAGCTTAAC-1', 'BPK-12x-4NQO_AAACCTGGTGTGCGTC-1',\n       'BPK-12x-4NQO_AAACCTGGTTGAACTC-1', 'BPK-12x-4NQO_AAACGGGAGGATGGTC-1',\n       'BPK-12x-4NQO_AAACGGGAGGGCTCTC-1', 'BPK-12x-4NQO_AAACGGGAGTAACCCT-1',\n       'BPK-12x-4NQO_AAACGGGCATGGGACA-1', 'BPK-12x-4NQO_AAACGGGGTCTGCAAT-1',\n       'BPK-12x-4NQO_AAACGGGTCAATCTCT-1', 'BPK-12x-4NQO_AAACGGGTCAGGCCCA-1',\n       'BPK-12x-4NQO_AAAGATGAGAGCCTAG-1', 'BPK-12x-4NQO_AAAGATGAGATCCCGC-1',\n       'BPK-12x-4NQO_AAAGATGAGCGATGAC-1', 'BPK-12x-4NQO_AAAGATGAGTGGAGTC-1',\n       'BPK-12x-4NQO_AAAGATGCATGTTGAC-1', 'BPK-12x-4NQO_AAAGATGGTGCAACGA-1',\n       'BPK-12x-4NQO_AAAGATGTCGCTAGCG-1', 'BPK-12x-4NQO_AAAGATGTCTGCTGCT-1',\n       'BPK-12x-4NQO_AAAGATGTCTGTTGAG-1', 'BPK-12x-4NQO_AAAGCAACAAGGTTCT-1',\n       'BPK-12x-4NQO_AAAGCAACACGGCCAT-1', 'BPK-12x-4NQO_AAAGCAACATGCAACT-1',\n       'BPK-12x-4NQO_AAAGCAAGTCCAGTAT-1', 'BPK-12x-4NQO_AAAGCAATCATGTCCC-1',\n       'BPK-12x-4NQO_AAAGCAATCTCTGAGA-1', 'BPK-12x-4NQO_AAAGTAGGTAAGAGAG-1',\n       'BPK-12x-4NQO_AAAGTAGGTAGCTCCG-1', 'BPK-12x-4NQO_AAAGTAGGTGAACCTT-1',\n       'BPK-12x-4NQO_AAAGTAGGTTACGCGC-1', 'BPK-12x-4NQO_AAAGTAGTCCTGTAGA-1',\n       'BPK-12x-4NQO_AAAGTAGTCTACCAGA-1', 'BPK-12x-4NQO_AAATGCCAGTCACGCC-1',\n       'BPK-12x-4NQO_AAATGCCAGTCGCCGT-1', 'BPK-12x-4NQO_AAATGCCCACAACGCC-1',\n       'BPK-12x-4NQO_AAATGCCCAGTAGAGC-1', 'BPK-12x-4NQO_AAATGCCGTCATATCG-1',\n       'BPK-12x-4NQO_AAATGCCTCTAACTTC-1', 'BPK-12x-4NQO_AACACGTAGAAACCGC-1',\n       'BPK-12x-4NQO_AACACGTAGGATCGCA-1', 'BPK-12x-4NQO_AACACGTAGTGAACAT-1',\n       'BPK-12x-4NQO_AACACGTCAATGGATA-1', 'BPK-12x-4NQO_AACACGTCAGCGTCCA-1',\n       'BPK-12x-4NQO_AACACGTGTGCCTGCA-1', 'BPK-12x-4NQO_AACACGTGTTCTCATT-1',\n       'BPK-12x-4NQO_AACACGTTCGGCGCTA-1', 'BPK-12x-4NQO_AACACGTTCTACCTGC-1',\n       'BPK-12x-4NQO_AACCATGAGAAACCAT-1', 'BPK-12x-4NQO_AACCATGAGCTTTGGT-1',\n       'BPK-12x-4NQO_AACCATGCACCATGTA-1'],\n      dtype='object')"
     },
     "execution_count": 21,
     "metadata": {},
     "output_type": "execute_result"
    }
   ],
   "source": [
    "pca_sub.columns"
   ],
   "metadata": {
    "collapsed": false
   }
  },
  {
   "cell_type": "code",
   "execution_count": 22,
   "outputs": [],
   "source": [
    "source_cluster = ['BPK-12x-4NQO_AAAGTAGTCTACCAGA-1', 'BPK-12x-4NQO_AAATGCCAGTCACGCC-1']\n",
    "target_cluster = ['BPK-12x-4NQO_AACACGTGTGCCTGCA-1', 'BPK-12x-4NQO_AACACGTGTTCTCATT-1']"
   ],
   "metadata": {
    "collapsed": false
   }
  }
 ],
 "metadata": {
  "kernelspec": {
   "display_name": "Python 3",
   "language": "python",
   "name": "python3"
  },
  "language_info": {
   "codemirror_mode": {
    "name": "ipython",
    "version": 2
   },
   "file_extension": ".py",
   "mimetype": "text/x-python",
   "name": "python",
   "nbconvert_exporter": "python",
   "pygments_lexer": "ipython2",
   "version": "2.7.6"
  }
 },
 "nbformat": 4,
 "nbformat_minor": 0
}

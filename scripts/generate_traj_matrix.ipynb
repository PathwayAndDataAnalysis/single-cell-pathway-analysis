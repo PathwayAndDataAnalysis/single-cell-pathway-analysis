{
 "cells": [
  {
   "cell_type": "code",
   "execution_count": 1,
   "metadata": {
    "collapsed": true
   },
   "outputs": [],
   "source": [
    "import pandas as pd\n",
    "import numpy as np\n",
    "import matplotlib.pyplot as plt\n",
    "import matplotlib.animation as animation\n",
    "from scipy.spatial import distance\n",
    "from sc_pca import sc_pca\n",
    "from random_walk_helper_functions import get_similarity_matrix"
   ]
  },
  {
   "cell_type": "code",
   "execution_count": 3,
   "outputs": [],
   "source": [
    "norm_mat_dir = \"~/Desktop/breast_tumor_project/br2_normalized_mat.tsv\"\n",
    "pca_out_dir = \"~/Desktop/breast_tumor_project/br2_pca.tsv\""
   ],
   "metadata": {
    "collapsed": false
   }
  },
  {
   "cell_type": "code",
   "execution_count": 4,
   "outputs": [],
   "source": [
    "# Find PCA coordinates\n",
    "pca_df = sc_pca(input_path=norm_mat_dir,output_path=pca_out_dir,n_comp=5)"
   ],
   "metadata": {
    "collapsed": false
   }
  },
  {
   "cell_type": "code",
   "execution_count": 5,
   "outputs": [],
   "source": [
    "# Convert it to numpy array to calculate the similarity matrix\n",
    "pca_np = pca_df.to_numpy()"
   ],
   "metadata": {
    "collapsed": false
   }
  },
  {
   "cell_type": "code",
   "execution_count": null,
   "outputs": [],
   "source": [
    "# get meta data and source target cells"
   ],
   "metadata": {
    "collapsed": false
   }
  },
  {
   "cell_type": "code",
   "execution_count": 6,
   "outputs": [
    {
     "data": {
      "text/plain": "array([[1.        , 0.99997958, 0.99999809, ..., 0.99988314, 0.9998827 ,\n        0.99989396],\n       [0.99997958, 1.        , 0.99997214, ..., 0.99983331, 0.99986544,\n        0.99989583],\n       [0.99999809, 0.99997214, 1.        , ..., 0.99986544, 0.99986011,\n        0.9998717 ],\n       ...,\n       [0.99988314, 0.99983331, 0.99986544, ..., 1.        , 0.99998636,\n        0.99996581],\n       [0.9998827 , 0.99986544, 0.99986011, ..., 0.99998636, 1.        ,\n        0.99999357],\n       [0.99989396, 0.99989583, 0.9998717 , ..., 0.99996581, 0.99999357,\n        1.        ]])"
     },
     "execution_count": 6,
     "metadata": {},
     "output_type": "execute_result"
    }
   ],
   "source": [
    "get_similarity_matrix(pca_np, sigmasq=30)"
   ],
   "metadata": {
    "collapsed": false
   }
  },
  {
   "cell_type": "code",
   "execution_count": null,
   "outputs": [],
   "source": [],
   "metadata": {
    "collapsed": false
   }
  }
 ],
 "metadata": {
  "kernelspec": {
   "display_name": "Python 3",
   "language": "python",
   "name": "python3"
  },
  "language_info": {
   "codemirror_mode": {
    "name": "ipython",
    "version": 2
   },
   "file_extension": ".py",
   "mimetype": "text/x-python",
   "name": "python",
   "nbconvert_exporter": "python",
   "pygments_lexer": "ipython2",
   "version": "2.7.6"
  }
 },
 "nbformat": 4,
 "nbformat_minor": 0
}

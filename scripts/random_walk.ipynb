{
 "cells": [
  {
   "cell_type": "code",
   "execution_count": 2,
   "metadata": {
    "collapsed": true
   },
   "outputs": [],
   "source": [
    "# This script simulates random walk (heat diffusion) on RNAseq data. Users need to determine a source and a target node. The result is visualization of the diffusion of the heat that reaches the target cell.\n",
    "import math\n",
    "\n",
    "import pandas as pd\n",
    "import numpy as np\n",
    "import matplotlib.pyplot as plt\n",
    "import matplotlib.animation as animation\n",
    "from scipy.spatial import distance\n",
    "from scipy.stats import gmean\n",
    "\n",
    "# dir = \"/Users/ozgun/Data/Josh/\"\n",
    "dir = \"/home/ozgunbabur/Data/Josh/temp/\"\n",
    "\n",
    "data_file = dir + \"normalized_mat.tsv\"\n",
    "\n",
    "pca_pre_file = dir + \"pca_coords_8.tsv\"\n",
    "pca_file = dir + \"pca_8.tsv\"\n",
    "\n",
    "umap_coords = dir + \"times_umap_coords.tsv\"\n",
    "# umap_coords = dir + \"umap_coords.tsv\"\n",
    "# umap_file = dir + \"umap_coords_transposed.tsv\"\n",
    "#umap_file = dir + \"umap.tsv\"\n",
    "dist_euc_file = dir + \"dist_euclidean.tsv\"\n",
    "dist_cos_file = dir + \"dist_cosine.tsv\"\n",
    "dist_cos_asis_file = dir + \"dist_cosine_asis.tsv\"\n",
    "dist_um_file = dir + \"dist_umap.tsv\"\n",
    "\n"
   ]
  },
  {
   "cell_type": "code",
   "execution_count": 3,
   "outputs": [],
   "source": [
    "\n",
    "def get_distance_matrix(m:np.array):\n",
    "    nRow, nCol = m.shape\n",
    "    dist_mat = np.full((nCol, nCol), math.inf)\n",
    "\n",
    "    for i in range(0, nCol):\n",
    "        for j in range(i, nCol):\n",
    "\n",
    "            # Squared Euclidean distance\n",
    "            dif = m[:, i] - m[:, j]\n",
    "            d = np.dot(dif, dif)\n",
    "\n",
    "            dist_mat[i][j] = d\n",
    "            dist_mat[j][i] = d\n",
    "\n",
    "    return dist_mat\n",
    "\n",
    "# Calculates the similarity matrix based on distances\n",
    "def get_similarity_matrix(dist_mat:np.array, sigmasq:float):\n",
    "    if sigmasq < 0:\n",
    "        sigmasq = search_for_a_good_sigmasq(dist_mat, 0.3, 0.1)\n",
    "\n",
    "    return np.exp(-dist_mat / sigmasq)\n",
    "\n",
    "def search_for_a_good_sigmasq(dist_mat:np.array, target_retain_ratio:float, acceptable_difference:float):\n",
    "    sigmasq = 1\n",
    "    upper_limmit = -1\n",
    "    lower_limit = 0\n",
    "    sim_mat = get_similarity_matrix(dist_mat, sigmasq)\n",
    "    p_mat = get_probability_matrix(sim_mat)\n",
    "    retain_rat = get_mean_retain_ratio(p_mat)\n",
    "    print(\"retain rat = \" + str(retain_rat))\n",
    "    diff = target_retain_ratio - retain_rat\n",
    "    while abs(diff) > acceptable_difference:\n",
    "        if diff > 0:\n",
    "            upper_limmit = sigmasq\n",
    "            sigmasq = (sigmasq + lower_limit) / 2\n",
    "        else:\n",
    "            lower_limit = sigmasq\n",
    "            if upper_limmit < 0:\n",
    "                sigmasq *= 2\n",
    "            else:\n",
    "                sigmasq = (sigmasq + upper_limmit) / 2\n",
    "\n",
    "        print('Trying sigmasq = ' + str(sigmasq))\n",
    "\n",
    "        sim_mat = get_similarity_matrix(dist_mat, sigmasq)\n",
    "        p_mat = get_probability_matrix(sim_mat)\n",
    "        retain_rat = get_mean_retain_ratio(p_mat)\n",
    "        print(\"retain rat = \" + str(retain_rat))\n",
    "        diff = target_retain_ratio - retain_rat\n",
    "\n",
    "    return sigmasq\n",
    "\n",
    "# Generates transition probabilities from the similarities\n",
    "def get_probability_matrix(sim_mat):\n",
    "    sums = np.sum(sim_mat, axis=1)\n",
    "    p_mat = (sim_mat.T / sums).T\n",
    "    return p_mat\n",
    "\n",
    "def get_mean_retain_ratio(p_matrix):\n",
    "    return gmean(np.diagonal(p_matrix))\n",
    "\n",
    "# Generates the flows between pairs of cells using transition probabilities\n",
    "# and the current heat distribution\n",
    "def get_flow_matrix(p_matrix, heat):\n",
    "    return (heat * p_matrix.T).T\n",
    "\n",
    "# Next round of heat distribution is determined by the incoming fow to each cell\n",
    "def get_next_heat(flow):\n",
    "    return np.sum(flow, axis=0)\n",
    "\n",
    "# Generates flow matrices for k rounds of heat distribution.\n",
    "# Also returns how much heat has arrived at targets on each round (sink_list)\n",
    "def generate_flow_matrices(p_matrix, source_indicator, target_indicator, k:int):\n",
    "    # Heat flow at each step\n",
    "    flow_list = []\n",
    "\n",
    "    # Heat that arrives to the target(s) at each step. That heat is absorbed by target(s),\n",
    "    # hence we say the heat sinks.\n",
    "    sink_list = []\n",
    "\n",
    "    # Heat of cells\n",
    "    heat = np.zeros(len(source_indicator))\n",
    "\n",
    "    # Source cells are hot (1), all other cells are cold (0).\n",
    "    heat[source_indicator] = 1\n",
    "\n",
    "    # The differential sinking heat in last step. If the parameter k (total number of steps) is given as -1, then the simulation goes on until this differential becomes negative.\n",
    "    diff = 1\n",
    "\n",
    "    while (k < 0 < diff) or (k > len(flow_list)):\n",
    "        # Get the next flows using the probability matrix and current heat distribution\n",
    "        flow = get_flow_matrix(p_matrix, heat)\n",
    "        flow_list.append(flow)\n",
    "\n",
    "        # Calculate the new heat distribution based on the new flows\n",
    "        heat = get_next_heat(flow)\n",
    "\n",
    "        # Record how much of this flow reached target(s), and sank\n",
    "        sink_list.append(np.sum(heat[target_indicator]))\n",
    "\n",
    "        # Check the trend in sinking heat\n",
    "        if len(sink_list) > 1:\n",
    "            diff = sink_list[-1] - sink_list[-2]\n",
    "\n",
    "    return flow_list, sink_list\n",
    "\n",
    "# For the heat that has arrived at iteration k, this function generates the list of heat distribution at each step. It also returns a cumulative flow matrix that focuses on the heat that arrived to target.\n",
    "def generate_weights(flow_matrices, target_indicator, arrive_index:int):\n",
    "    if arrive_index == -1:\n",
    "        arrive_index = len(flow_matrices) - 1\n",
    "\n",
    "    # Part of the flow that arrives to target\n",
    "    sub_flow = np.zeros(flow_matrices[0].shape)\n",
    "\n",
    "    # Number of cells\n",
    "    cell_size = len(target_indicator)\n",
    "\n",
    "    # The weights matrix where each row is for one turn of heat distribution\n",
    "    # Weight: The heat that will arrive to the target(s)\n",
    "    weights_mat = np.zeros((arrive_index + 2, cell_size))\n",
    "\n",
    "    # The ratios array indicates how much of the in-flow will arrive to the target(s)\n",
    "    ratios = np.zeros(cell_size)\n",
    "\n",
    "    # The last step in-flow to the targets will arrive to targets in full, so their ratios are 1\n",
    "    ratios[target_indicator] = 1\n",
    "\n",
    "    # The array of in-flows to each cell\n",
    "    inflow_sums = np.sum(flow_matrices[arrive_index], axis = 0)\n",
    "\n",
    "    # Weights at the last step is in-flows to the targets and zero for everything else\n",
    "    weights = inflow_sums * ratios\n",
    "    print(\"max weight = \" + str(np.max(weights)))\n",
    "\n",
    "    # Put this weights array to the last row of weights matrix\n",
    "    weights_mat[arrive_index + 1, :] = weights\n",
    "\n",
    "    # Now we will calculate the rest of the weight arrays by going backwards in time\n",
    "    index = arrive_index\n",
    "\n",
    "    while index >= 0:\n",
    "        # Calculate prior weights\n",
    "        weights = np.matmul(flow_matrices[index], ratios.T)\n",
    "\n",
    "        # Identify the components of flows at this step that arrived to the target(s) at arrive_index\n",
    "        # Add those flows to the cumulative matrix\n",
    "        sub_flow += flow_matrices[index] * ratios\n",
    "\n",
    "        # Find out-flows for each cell\n",
    "        outflow_sums = np.sum(flow_matrices[index], axis = 1)\n",
    "\n",
    "        # Calculate the new ratios of emitted heat that arrive at the target(s)\n",
    "        ratios = weights / outflow_sums\n",
    "\n",
    "        # Targets have zero outflows. That generates nans in the previous division. We replace them with zeros here.\n",
    "        ratios[np.isnan(ratios)] = 0\n",
    "\n",
    "        # Save new weights\n",
    "        weights_mat[index, :] = weights\n",
    "\n",
    "        # Go one back in time\n",
    "        index = index - 1\n",
    "\n",
    "    return weights_mat, sub_flow\n",
    "\n",
    "# This is the cumulative version of the above function. It is for the heat that arrived at iteration k or earlier.\n",
    "def generate_cumulative_weights(flow_matrices, target_indicator, max_arrive_index):\n",
    "\n",
    "    # If arrive_index is negative, use the last flow matrix\n",
    "    if max_arrive_index < 0:\n",
    "        max_arrive_index = len(flow_matrices) - 1\n",
    "\n",
    "    # This is the double cumulative sub-flow matrix\n",
    "    sub_flow_cum = np.zeros(flow_matrices[0].shape)\n",
    "\n",
    "    # We will generate weight arrays for the heat that arrives at arrive index, then for the heat that arrives at arrive_index-1 and so on.\n",
    "    index = max_arrive_index\n",
    "    m_list = []\n",
    "    while index >= 0:\n",
    "        # Get the weight arrays and sub-flow matrix for the heat that arrives to target(s) at step \"index\"\n",
    "        w, f = generate_weights(flow_matrices, target_indicator, index)\n",
    "\n",
    "        # Save the weight matrix\n",
    "        m_list.append(w)\n",
    "\n",
    "        # Add the cumulative sub-flows to the double-cumulative sub-flow matrix\n",
    "        sub_flow_cum += f\n",
    "\n",
    "        # Go back in arrival time\n",
    "        index -= 1\n",
    "\n",
    "    # Initialize cumulative weights\n",
    "    weights = np.zeros(m_list[0].shape)\n",
    "\n",
    "    # Integrate the weight matrices. After integration, weights are the heat on these cells that will arrive at the target(s) at step arrive_index or earlier\n",
    "    for i in range(len(weights)):\n",
    "        for j in range(min(max_arrive_index - i + 2, max_arrive_index + 1)):\n",
    "            weights[i] += m_list[j][i]\n",
    "\n",
    "    return weights, sub_flow_cum\n",
    "\n",
    "# This function is used by the plot animator to update the colors.\n",
    "def update_plot(i, data, scat):\n",
    "    scat.set_array(data[i])\n",
    "    return scat\n",
    "\n",
    "# The plot will use the most intense color for heat value 1. This method determines the total heat on the plot at any time so that the flow can be visualized clearly. Optimal value depends on the specific dataset.\n",
    "def rescale_weights(weights, total_heat):\n",
    "    maximum = np.sum(weights[0])\n",
    "    factor = total_heat / maximum\n",
    "    return weights * factor\n",
    "\n",
    "# Gets the pairs of cells sorted to the detected sub-flow\n",
    "def get_sorted_pairs(sub_flow):\n",
    "    flow_map = {}\n",
    "    for i in range(len(sub_flow)):\n",
    "        for j in range(len(sub_flow[i])):\n",
    "            flow_map[(i, j)] = sub_flow[i, j]\n",
    "\n",
    "    return sorted(flow_map.items(), key=lambda x:x[1], reverse=True)\n",
    "\n",
    "# Takes a sub-flow and a partial trajectory, completes the trajectory so that\n",
    "# it starts with src_ind and ends with trg_ind\n",
    "def build_trajectory(sub_flow, traj, src_ind, trg_ind):\n",
    "\n",
    "    # Check if the partial trajectory is valid\n",
    "    # if not set(src_ind).isdisjoint(traj) and not traj[0] in src_ind:\n",
    "    #     raise Exception(\"Partial trajectory has the src_index but it not at the start\")\n",
    "    # if not set(trg_ind).isdisjoint(traj) and not traj[-1] in trg_ind:\n",
    "    #     raise Exception(\"Partial trajectory has the trg_index but it not at the end\")\n",
    "\n",
    "    # The trajectory will grow with other cells that are not on the trajectory yet\n",
    "    candidates = [x for x in range(len(sub_flow)) if x not in traj]\n",
    "\n",
    "    # Grow the trajectory backward using the highest flow coming to the first cell in the current trajectory.\n",
    "    # Stop when source cell is reached\n",
    "    while not traj[0] in src_ind:\n",
    "        left = traj[0]\n",
    "        vec = sub_flow[:, left]\n",
    "\n",
    "        max_ind = -1\n",
    "        max_val = -1\n",
    "        for i in candidates:\n",
    "            if i != left and vec[i] > max_val:\n",
    "                max_val = vec[i]\n",
    "                max_ind = i\n",
    "\n",
    "        traj.insert(0, max_ind)\n",
    "        candidates.remove(max_ind)\n",
    "\n",
    "    # Grow the trajectory forward using the highest flow from the last cell on the trajectory.\n",
    "    # Stop when target cell is reached\n",
    "    while not traj[-1] in trg_ind:\n",
    "        right = traj[-1]\n",
    "        vec = sub_flow[right, :]\n",
    "\n",
    "        max_ind = -1\n",
    "        max_val = -1\n",
    "        for i in candidates:\n",
    "            if i != right and vec[i] > max_val:\n",
    "                max_val = vec[i]\n",
    "                max_ind = i\n",
    "\n",
    "        traj.append(max_ind)\n",
    "        candidates.remove(max_ind)\n",
    "\n",
    "    return traj\n",
    "\n",
    "# Checks if a given pair of cells is already an edge in one of the trajectories\n",
    "def already_part_of_a_trajectory(s, t, trajs):\n",
    "    for traj in trajs:\n",
    "        if s in traj:\n",
    "            ind = traj.index(s)\n",
    "            if ind != len(traj) - 1 and traj[ind + 1] == t:\n",
    "                return True\n",
    "    return False\n",
    "\n",
    "# This method finds the ratios of the inflow each cell received actually arrives at the destination.\n",
    "# The last parameter max_arrival_index must be the same max_arrival_index that was used to prepare the sub_flow_matrix.\n",
    "# Otherwise, the computation would be incorrect.\n",
    "def get_ultimate_arrival_ratios(flow_matrices:np.array, subflow_matrix:np.array, max_arrival_index):\n",
    "    # A negative max_arrival_index means it is the last flow matrix\n",
    "    if max_arrival_index < 0:\n",
    "        max_arrival_index = len(flow_matrices) - 1\n",
    "\n",
    "    # Calculate total inflows for each cell during the simulation\n",
    "    tot_inflows = np.zeros(len(subflow_matrix))\n",
    "    for i in range(max_arrival_index + 1):\n",
    "        tot_inflows += np.sum(flow_matrices[i], axis=0)\n",
    "\n",
    "    # Calculate total inflows that arrive to targets\n",
    "    sub_inflows = np.sum(subflow_matrix, axis=0)\n",
    "\n",
    "    # Get their ratios\n",
    "    ratios = sub_inflows / tot_inflows\n",
    "\n",
    "    return ratios\n",
    "\n",
    "# Gets the ultimate ratios of those cells on a given trajectory\n",
    "def get_ratios_over_trajectory(ratios:np.array, traj):\n",
    "    return ratios[traj]\n",
    "\n",
    "# Pseudotime is calculated based on euclidean distances\n",
    "def get_pseudotime_of_trajectory(mat:np.array, traj):\n",
    "    time = np.zeros(len(traj))\n",
    "    for i in range(1, len(traj)):\n",
    "        c1 = traj[i-1]\n",
    "        c2 = traj[i]\n",
    "        d = distance.euclidean(mat[:, c1], mat[:, c2])\n",
    "        time[i] = time[i-1] + d\n",
    "    return time\n"
   ],
   "metadata": {
    "collapsed": false
   }
  },
  {
   "cell_type": "code",
   "execution_count": 4,
   "outputs": [
    {
     "name": "stdout",
     "output_type": "stream",
     "text": [
      "[   1   11   17 ... 9080 9082 9083]\n",
      "[   7   12   18 ... 9064 9067 9070]\n"
     ]
    }
   ],
   "source": [
    "# Load the data matrix\n",
    "dataF = pd.read_table(umap_coords, index_col=0).transpose()\n",
    "dataF.columns = dataF.columns.str.replace(\" \", \"-\")\n",
    "# dataF = pd.read_table(pca_file, index_col=0)\n",
    "dataF.head()\n",
    "\n",
    "# Get the cell names and size\n",
    "cols = dataF.columns.values.tolist()\n",
    "\n",
    "size = len(cols)\n",
    "\n",
    "# Determine source and target indices\n",
    "\n",
    "# src_ind = cols.index('tumor_GGGCATCAGTGTACCT-1') #45 tumor\n",
    "# src_ind = cols.index('midpoint_AACACGTTCGGCGCTA-1') #892 luminal\n",
    "# trg_ind = cols.index('midpoint_TGGTTCCTCACTATTC-1') #1 basal\n",
    "# trg_ind = cols.index('midpoint_AACACGTTCGGCGCTA-1') #892 luminal\n",
    "\n",
    "# N=np.where(np.isin(L,R))\n",
    "\n",
    "src_ind = np.where(np.isin(cols, pd.read_csv(dir + \"Basal_source_cluster.tsv\")[\"Cells\"].tolist()))[0] # temp data basal\n",
    "trg_ind = np.where(np.isin(cols, pd.read_csv(dir + \"LP_target_cluster.tsv\")[\"Cells\"].tolist()))[0] # temp data LP\n",
    "\n",
    "print(src_ind)\n",
    "print(trg_ind)"
   ],
   "metadata": {
    "collapsed": false
   }
  },
  {
   "cell_type": "code",
   "execution_count": 56,
   "outputs": [
    {
     "name": "stdout",
     "output_type": "stream",
     "text": [
      "-4.6644687163092\n"
     ]
    }
   ],
   "source": [
    "cell = \"BPK-12x-4NQO_AACACGTGTGCCTGCA-1\"\n",
    "print(dataF[cell][0])\n",
    "\n",
    "for cell in pd.read_csv(dir + \"LP_target_cluster.tsv\")[\"Cells\"].tolist():\n",
    "    if dataF[cell][0] < 0 : print(cell + \" -- \" + str(dataF[cell][0]))"
   ],
   "metadata": {
    "collapsed": false,
    "pycharm": {
     "name": "#%%\n"
    }
   }
  },
  {
   "cell_type": "code",
   "execution_count": 5,
   "outputs": [],
   "source": [
    "\n",
    "\n",
    "# Generate the boolean arrays that mark source and target cells\n",
    "source_indicator = np.full(size, False)\n",
    "source_indicator[src_ind] = True\n",
    "target_indicator = np.full(size, False)\n",
    "target_indicator[trg_ind] = True\n"
   ],
   "metadata": {
    "collapsed": false,
    "pycharm": {
     "name": "#%%\n"
    }
   }
  },
  {
   "cell_type": "code",
   "execution_count": 6,
   "outputs": [],
   "source": [
    "\n",
    "# Calculate pairwise squared euclidean distances\n",
    "dist = get_distance_matrix(dataF.to_numpy())"
   ],
   "metadata": {
    "collapsed": false,
    "pycharm": {
     "name": "#%%\n"
    }
   }
  },
  {
   "cell_type": "code",
   "execution_count": 7,
   "outputs": [
    {
     "name": "stdout",
     "output_type": "stream",
     "text": [
      "Probabilities set\n",
      "flows length = 25\n"
     ]
    },
    {
     "data": {
      "text/plain": "<Figure size 360x360 with 1 Axes>",
      "image/png": "[encoded data removed]"
     },
     "metadata": {
      "needs_background": "light"
     },
     "output_type": "display_data"
    }
   ],
   "source": [
    "\n",
    "# Generate the similarity matrix based on distances on the data\n",
    "sim = get_similarity_matrix(dist, sigmasq=0.5)\n",
    "\n",
    "# Generate the transition probabilities based on the distances\n",
    "p_mat = get_probability_matrix(sim)\n",
    "\n",
    "# Target cells absorb the heat. They don't transmit any of it. They are sinks in the system.\n",
    "p_mat[target_indicator,:] = 0\n",
    "\n",
    "print(\"Probabilities set\")\n",
    "\n",
    "# Decide how many steps the simulation will be\n",
    "simulation_length = 25\n",
    "\n",
    "# Simulate the heat distribution\n",
    "flows, sinks = generate_flow_matrices(p_mat, source_indicator, target_indicator, simulation_length)\n",
    "\n",
    "print(\"flows length = \" + str(len(flows)))\n",
    "\n",
    "# Plot how the heat sinks at the target(s) at each step\n",
    "plt.figure(figsize=(5, 5))\n",
    "ax = plt.axes()\n",
    "ax.scatter(np.array(range(len(sinks))), sinks, color = 'k')\n",
    "plt.show()"
   ],
   "metadata": {
    "collapsed": false,
    "pycharm": {
     "name": "#%%\n"
    }
   }
  },
  {
   "cell_type": "code",
   "execution_count": 8,
   "outputs": [
    {
     "name": "stdout",
     "output_type": "stream",
     "text": [
      "max weight = 2.0016344549058246e-05\n"
     ]
    },
    {
     "name": "stderr",
     "output_type": "stream",
     "text": [
      "/tmp/ipykernel_3186721/2607080762.py:154: RuntimeWarning: invalid value encountered in true_divide\n",
      "  ratios = weights / outflow_sums\n"
     ]
    },
    {
     "name": "stdout",
     "output_type": "stream",
     "text": [
      "max weight = 1.7247160091069876e-05\n",
      "max weight = 1.4676112557860794e-05\n",
      "max weight = 1.2312154038485275e-05\n",
      "max weight = 1.0162897578674252e-05\n",
      "max weight = 8.234167269668957e-06\n",
      "max weight = 6.529497059735215e-06\n",
      "max weight = 5.049592798704283e-06\n",
      "max weight = 3.7917833108292733e-06\n",
      "max weight = 2.7495015268495663e-06\n",
      "max weight = 1.9118563628764484e-06\n",
      "max weight = 1.263379869726442e-06\n",
      "max weight = 7.84060163455954e-07\n",
      "max weight = 4.497928195571838e-07\n",
      "max weight = 2.333880850352029e-07\n",
      "max weight = 1.062319316679948e-07\n",
      "max weight = 4.057395254492087e-08\n",
      "max weight = 1.2161701757058129e-08\n",
      "max weight = 2.5743980867716416e-09\n",
      "max weight = 3.2249948084508937e-10\n",
      "max weight = 1.7159559799100454e-11\n",
      "max weight = 2.1838873759973173e-13\n",
      "max weight = 3.406086091187213e-16\n",
      "max weight = 1.4957385349679026e-19\n",
      "max weight = 9.315433696060728e-33\n",
      "weights = \n",
      "[[0.00000000e+000 6.33649116e-004 0.00000000e+000 ... 0.00000000e+000\n",
      "  0.00000000e+000 0.00000000e+000]\n",
      " [2.18512628e-004 3.07681298e-004 2.67189817e-015 ... 5.94854141e-013\n",
      "  2.38476593e-125 3.46686481e-001]\n",
      " [1.51623916e-004 1.72858154e-004 5.70981647e-007 ... 4.48181415e-009\n",
      "  7.97633697e-063 1.24670282e+000]\n",
      " ...\n",
      " [3.92785007e-045 1.15537414e-044 1.84218247e-006 ... 3.68713621e-053\n",
      "  9.44832792e-028 5.94063913e-015]\n",
      " [1.28812618e-087 1.96048801e-084 1.63540711e-011 ... 2.62118688e-106\n",
      "  2.07158979e-048 2.29335068e-030]\n",
      " [0.00000000e+000 0.00000000e+000 0.00000000e+000 ... 0.00000000e+000\n",
      "  0.00000000e+000 0.00000000e+000]]\n"
     ]
    }
   ],
   "source": [
    "# Using the flows, get the distribution of the heat (at each step) that reaches the target at the end of the simulation or earlier. Weight: Heat that reaches the target during the simulation.\n",
    "unscaled_weights, sub_flow = generate_cumulative_weights(flows, target_indicator, -1)\n",
    "\n",
    "# Adjust the scale of weights for visualization\n",
    "weights = rescale_weights(unscaled_weights, 500)\n",
    "print(\"weights = \\n\" + str(weights))"
   ],
   "metadata": {
    "collapsed": false
   }
  },
  {
   "cell_type": "code",
   "execution_count": 65,
   "outputs": [
    {
     "name": "stdout",
     "output_type": "stream",
     "text": [
      "0.0002461856558606738\n",
      "0.017851251420840274\n"
     ]
    }
   ],
   "source": [
    "print(np.max(sub_flow))\n",
    "\n",
    "print(np.max(weights))"
   ],
   "metadata": {
    "collapsed": false,
    "pycharm": {
     "name": "#%%\n"
    }
   }
  },
  {
   "cell_type": "code",
   "execution_count": 69,
   "outputs": [
    {
     "name": "stdout",
     "output_type": "stream",
     "text": [
      "Number of pairs = 82609921\n"
     ]
    }
   ],
   "source": [
    "\n",
    "# Generate 5 distinct trajectories that has the pairs with maximal sub-flow\n",
    "pairs = get_sorted_pairs(sub_flow)\n",
    "print(\"Number of pairs = \" + str(len(pairs)))\n"
   ],
   "metadata": {
    "collapsed": false
   }
  },
  {
   "cell_type": "code",
   "execution_count": 83,
   "outputs": [],
   "source": [
    "\n",
    "\n",
    "trajs = []\n",
    "i = 0\n",
    "while len(trajs) < 5:\n",
    "    s = pairs[i][0][0]\n",
    "    t = pairs[i][0][1]\n",
    "\n",
    "    if not already_part_of_a_trajectory(s, t, trajs):\n",
    "        traj = [s, t]\n",
    "        traj = build_trajectory(sub_flow, traj, src_ind, trg_ind)\n",
    "        trajs.append(traj)\n",
    "    i += 1\n"
   ],
   "metadata": {
    "collapsed": false,
    "pycharm": {
     "name": "#%%\n"
    }
   }
  },
  {
   "cell_type": "code",
   "execution_count": 9,
   "outputs": [
    {
     "name": "stdout",
     "output_type": "stream",
     "text": [
      "[7501, 5112, 1114, 6449, 5851, 8242, 5585, 5293, 7974, 3162, 5652, 3357, 1509, 3563, 1368, 2422, 4994, 5846, 1832, 6831, 3309, 1070, 608, 1175, 55, 8590]\n"
     ]
    }
   ],
   "source": [
    "\n",
    "trajs = []\n",
    "\n",
    "mind = np.unravel_index(np.argmax(sub_flow, axis=None), sub_flow.shape)\n",
    "\n",
    "traj = [mind[0], mind[1]]\n",
    "traj = build_trajectory(sub_flow, traj, src_ind, trg_ind)\n",
    "trajs.append(traj)\n",
    "print(traj)"
   ],
   "metadata": {
    "collapsed": false,
    "pycharm": {
     "name": "#%%\n"
    }
   }
  },
  {
   "cell_type": "code",
   "execution_count": 10,
   "outputs": [
    {
     "data": {
      "text/plain": "<Figure size 1080x1080 with 1 Axes>",
      "image/png": "[encoded data removed]"
     },
     "metadata": {
      "needs_background": "light"
     },
     "output_type": "display_data"
    }
   ],
   "source": [
    "\n",
    "# Calculate ranks based on maximum weights\n",
    "maxes = np.max(weights, axis=0)\n",
    "ranks = maxes.argsort().argsort()\n",
    "\n",
    "# Read UMAP coordinates of the cells\n",
    "table = pd.read_table(umap_coords, index_col=0).transpose()\n",
    "mat = table.to_numpy()\n",
    "\n",
    "# Convert cell trajectories to line paths to plot\n",
    "paths = []\n",
    "for i in range(len(trajs)):\n",
    "    path = mat[:, trajs[i]]\n",
    "    paths.append(path)\n",
    "\n",
    "# Order dots (cells) so that darker ones painted later\n",
    "colors = np.zeros((len(weights), len(weights[0])))\n",
    "pos = np.zeros(mat.shape)\n",
    "for i in range(len(ranks)):\n",
    "    pos[:, ranks[i]] = mat[:, i]\n",
    "    for j in range(len(weights)):\n",
    "        colors[j][ranks[i]] = max(weights[j][i], 0.13)\n",
    "\n",
    "\n",
    "# We need some initial colors. These will not be visualized. The minimum value should be 0 and the maximum value should be 1. The plot will assign colors based on that scale.\n",
    "initial_colors = np.random.rand(len(colors[0]))\n",
    "initial_colors[0] = 0\n",
    "initial_colors[1] = 1\n",
    "\n",
    "# Generate the scatter plot of cells\n",
    "fig = plt.figure(figsize=(15, 15))\n",
    "scat = plt.scatter(pos[0], pos[1], c = initial_colors, cmap='Greys', alpha=1)\n",
    "\n",
    "# Draw the trajectories\n",
    "for i in range(len(paths)):\n",
    "    plt.plot(paths[i][0], paths[i][1])\n",
    "\n",
    "# Animate the simulation on the plot by updating cell colors\n",
    "ani = animation.FuncAnimation(fig, update_plot, frames=len(colors), fargs=(colors, scat))\n",
    "\n",
    "# Save the animation as a GIF\n",
    "ani.save(dir + 'heat-flow-animation.gif', writer='pillow')"
   ],
   "metadata": {
    "collapsed": false,
    "pycharm": {
     "name": "#%%\n"
    }
   }
  },
  {
   "cell_type": "code",
   "execution_count": 106,
   "outputs": [
    {
     "data": {
      "text/plain": "<Figure size 360x360 with 1 Axes>",
      "image/png": "[encoded data removed]"
     },
     "metadata": {
      "needs_background": "light"
     },
     "output_type": "display_data"
    },
    {
     "name": "stdout",
     "output_type": "stream",
     "text": [
      "[ 0.         11.55545479 16.48212316 17.94145484 19.62705427 20.97631914\n",
      " 22.04374495 23.5198208 ]\n"
     ]
    }
   ],
   "source": [
    "# The rest is some experimental code\n",
    "\n",
    "trj = trajs[2]\n",
    "#ultimate_ratios = get_ultimate_arrival_ratios(flows, sub_flow, -1)\n",
    "#rats_over_trj = get_ratios_over_trajectory(ultimate_ratios, trj)\n",
    "\n",
    "sub_outflows = np.sum(sub_flow, axis=1)\n",
    "flow_over_trj = get_ratios_over_trajectory(sub_outflows, trj)\n",
    "\n",
    "mat = dataF.to_numpy()\n",
    "fig = plt.figure(figsize=(5, 5))\n",
    "plt.scatter(get_pseudotime_of_trajectory(mat, trj), flow_over_trj)\n",
    "plt.xlabel(\"pseudo-time over trajectory\")\n",
    "plt.ylabel(\"-log(arrival ratio)\")\n",
    "plt.show()\n",
    "\n",
    "print(get_pseudotime_of_trajectory(mat, trj))\n",
    "\n"
   ],
   "metadata": {
    "collapsed": false,
    "pycharm": {
     "name": "#%%\n"
    }
   }
  }
 ],
 "metadata": {
  "kernelspec": {
   "display_name": "Python 3",
   "language": "python",
   "name": "python3"
  },
  "language_info": {
   "codemirror_mode": {
    "name": "ipython",
    "version": 2
   },
   "file_extension": ".py",
   "mimetype": "text/x-python",
   "name": "python",
   "nbconvert_exporter": "python",
   "pygments_lexer": "ipython2",
   "version": "2.7.6"
  }
 },
 "nbformat": 4,
 "nbformat_minor": 0
}
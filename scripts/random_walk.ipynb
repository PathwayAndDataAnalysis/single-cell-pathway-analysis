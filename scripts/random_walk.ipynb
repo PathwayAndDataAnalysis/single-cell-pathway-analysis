{
 "cells": [
  {
   "cell_type": "code",
   "execution_count": 1,
   "metadata": {
    "collapsed": true
   },
   "outputs": [],
   "source": [
    "import pandas as pd\n",
    "import numpy as np\n",
    "import matplotlib.colors as mc\n",
    "import matplotlib.pyplot as plt\n",
    "import matplotlib.animation as animation\n",
    "from scipy.spatial import distance\n",
    "\n",
    "# dir = \"/Users/ozgun/Data/Josh/\"\n",
    "dir = \"/home/ozgunbabur/Data/Josh/\"\n",
    "\n",
    "data_file = dir + \"normalized_mat.tsv\"\n",
    "\n",
    "pca_pre_file = dir + \"pca_coords_8.tsv\"\n",
    "pca_file = dir + \"pca_8.tsv\"\n",
    "\n",
    "umap_coords = dir + \"umap_coords.tsv\"\n",
    "#umap_file = dir + \"umap_coords_transposed.tsv\"\n",
    "umap_file = dir + \"umap.tsv\"\n",
    "dist_euc_file = dir + \"dist_euclidean.tsv\"\n",
    "dist_cos_file = dir + \"dist_cosine.tsv\"\n",
    "dist_cos_asis_file = dir + \"dist_cosine_asis.tsv\"\n",
    "dist_um_file = dir + \"dist_umap.tsv\"\n",
    "\n"
   ]
  },
  {
   "cell_type": "code",
   "execution_count": 10,
   "outputs": [],
   "source": [
    "def get_similarity_matrix_df(dataF, sigmasq):\n",
    "    return get_similarity_matrix(dataF.to_numpy(), sigmasq)\n",
    "\n",
    "# Calculates the similarity matrix based on distances distances\n",
    "def get_similarity_matrix(m, sigmasq):\n",
    "    nRow, nCol = m.shape\n",
    "    sim_mat = np.full((nCol, nCol), 0.0)\n",
    "\n",
    "    for i in range(0, nCol):\n",
    "        for j in range(i, nCol):\n",
    "\n",
    "            # Squared Euclidean distance\n",
    "            dif = m[:, i] - m[:, j]\n",
    "            d = np.dot(dif, dif)\n",
    "\n",
    "            # Cosine distance\n",
    "            # d = distance.cosine(m[:, i], m[:, j])\n",
    "\n",
    "            s = np.exp(-d / sigmasq)\n",
    "            sim_mat[i][j] = s\n",
    "            sim_mat[j][i] = s\n",
    "\n",
    "    return sim_mat\n",
    "\n",
    "# Generates transition probabilities from the similarities\n",
    "def get_probability_matrix(sim_mat):\n",
    "    sums = np.sum(sim_mat, axis=1)\n",
    "    p_mat = (sim_mat.T / sums).T\n",
    "    return p_mat\n",
    "\n",
    "# Generates the flows between pairs of cells using transition probabilities\n",
    "# and the current heat distribution\n",
    "def get_flow_matrix(p_matrix, heat):\n",
    "    return (heat * p_matrix.T).T\n",
    "\n",
    "# Next round of heat distribution is determined by the incoming fow to each cell\n",
    "def get_next_heat(flow):\n",
    "    return np.sum(flow, axis=0)\n",
    "\n",
    "# Generates flow matrices for k rounds of heat distribution.\n",
    "# Also returns how much heat has arrived at targets on each round (sink_list)\n",
    "def generate_flow_matrices(p_matrix, source_indicator, target_indicator, k:int):\n",
    "    flow_list = []\n",
    "    sink_list = []\n",
    "\n",
    "    heat = np.zeros(len(source_indicator))\n",
    "    heat[source_indicator] = 1\n",
    "\n",
    "    deriv = 1\n",
    "\n",
    "    while (k < 0 < deriv) or (k > len(flow_list)):\n",
    "        flow = get_flow_matrix(p_matrix, heat)\n",
    "        flow_list.append(flow)\n",
    "        heat = get_next_heat(flow)\n",
    "        sink_list.append(np.sum(heat[target_indicator]))\n",
    "\n",
    "        if len(sink_list) > 1:\n",
    "            deriv = sink_list[-1] - sink_list[-2]\n",
    "\n",
    "    return flow_list, sink_list\n",
    "\n",
    "# For the heat has arrived at iteration k, this function generates the list of heat distribution at each step. It also returns a cumulative flow matrix that focuses on the heat that arrived to target.\n",
    "def generate_weights(flow_matrices, target_indicator, arrive_index:int):\n",
    "    if arrive_index == -1:\n",
    "        arrive_index = len(flow_matrices) - 1\n",
    "\n",
    "    sub_flow = np.zeros(flow_matrices[0].shape)\n",
    "\n",
    "    cell_size = len(target_indicator)\n",
    "    weights_mat = np.zeros((arrive_index + 2, cell_size))\n",
    "\n",
    "    ratios = np.zeros(cell_size)\n",
    "    ratios[target_indicator] = 1\n",
    "\n",
    "    inflow_sums = np.sum(flow_matrices[arrive_index], axis = 0)\n",
    "    weights = inflow_sums * ratios\n",
    "\n",
    "    weights_mat[arrive_index + 1,:] = weights\n",
    "    index = arrive_index\n",
    "\n",
    "    while index >= 0:\n",
    "        weights = np.matmul(flow_matrices[index], ratios.T)\n",
    "        sub_flow += flow_matrices[index] * ratios\n",
    "\n",
    "        outflow_sums = np.sum(flow_matrices[index], axis = 1)\n",
    "        ratios = weights / outflow_sums\n",
    "        ratios[np.isnan(ratios)] = 0\n",
    "\n",
    "        weights_mat[index, :] = weights\n",
    "        index = index - 1\n",
    "\n",
    "    return weights_mat, sub_flow\n",
    "\n",
    "# This is the cumulative version of the above function. It is for the heat that arrived at iteration k or earlier.\n",
    "def generate_cumulative_weights(flow_matrices, target_indicator, arrive_index):\n",
    "    if arrive_index < 0:\n",
    "        arrive_index = len(flow_matrices) - 1\n",
    "\n",
    "    sub_flow_cum = np.zeros(flow_matrices[0].shape)\n",
    "\n",
    "    index = arrive_index\n",
    "    m_list = []\n",
    "    while index >= 0:\n",
    "        w, f = generate_weights(flow_matrices, target_indicator, index)\n",
    "        m_list.append(w)\n",
    "        sub_flow_cum += f\n",
    "        index -= 1\n",
    "\n",
    "    weights = np.zeros(m_list[0].shape)\n",
    "\n",
    "    for i in range(len(weights)):\n",
    "        for j in range(min(arrive_index - i + 2, arrive_index + 1)):\n",
    "            weights[i] += m_list[j][i]\n",
    "\n",
    "    return weights, sub_flow_cum\n",
    "\n",
    "# This function is used by the plot animator to update the colors.\n",
    "def update_plot(i, data, scat):\n",
    "    scat.set_array(data[i])\n",
    "    return scat\n",
    "\n",
    "# The plot will use the most intense color for heat value 1. This method determines the total heat on the plot at any time so that the flow can be visualized clearly. Optimal value depends on the specific dataset.\n",
    "def rescale_weights(weights, total_heat):\n",
    "    maximum = np.sum(weights[0])\n",
    "    factor = total_heat / maximum\n",
    "    return weights * factor\n",
    "\n",
    "#\n",
    "def get_sorted_pairs(sub_flow):\n",
    "    flow_map = {}\n",
    "    for i in range(len(sub_flow)):\n",
    "        for j in range(len(sub_flow[i])):\n",
    "            flow_map[(i, j)] = sub_flow[i, j]\n",
    "\n",
    "    return sorted(flow_map.items(), key=lambda x:x[1], reverse=True)\n",
    "\n",
    "# Takes a subset flow and a partial trajectory, completes the trajectory so that\n",
    "# it starts with src_ind and ends with trg_ind\n",
    "def build_trajectory(sub_flow, traj, src_ind, trg_ind):\n",
    "\n",
    "    # Check if the partial trajectory is valid\n",
    "    if src_ind in traj and traj[0] != src_ind:\n",
    "        raise Exception(\"Partial trajectory has the src_index but it not at the start\")\n",
    "    if trg_ind in traj and traj[-1] != trg_ind:\n",
    "        raise Exception(\"Partial trajectory has the trg_index but it not at the end\")\n",
    "\n",
    "    candidates = [x for x in range(len(sub_flow)) if x not in traj]\n",
    "\n",
    "    while traj[0] != src_ind:\n",
    "        left = traj[0]\n",
    "        vec = sub_flow[:, left]\n",
    "\n",
    "        max_ind = -1\n",
    "        max_val = -1\n",
    "        for i in candidates:\n",
    "            if i != left and vec[i] > max_val:\n",
    "                max_val = vec[i]\n",
    "                max_ind = i\n",
    "\n",
    "        traj.insert(0, max_ind)\n",
    "        candidates.remove(max_ind)\n",
    "\n",
    "    while traj[-1] != trg_ind:\n",
    "        right = traj[-1]\n",
    "        vec = sub_flow[right, :]\n",
    "\n",
    "        max_ind = -1\n",
    "        max_val = -1\n",
    "        for i in candidates:\n",
    "            if i != right and vec[i] > max_val:\n",
    "                max_val = vec[i]\n",
    "                max_ind = i\n",
    "\n",
    "        traj.append(max_ind)\n",
    "        candidates.remove(max_ind)\n",
    "\n",
    "    return traj\n",
    "\n",
    "def already_part_of_a_trajectory(s, t, trajs):\n",
    "    for traj in trajs:\n",
    "        if s in traj:\n",
    "            ind = traj.index(s)\n",
    "            if ind != len(traj) - 1 and traj[ind + 1] == t:\n",
    "                return True\n",
    "    return False"
   ],
   "metadata": {
    "collapsed": false
   }
  },
  {
   "cell_type": "code",
   "execution_count": 3,
   "outputs": [
    {
     "name": "stdout",
     "output_type": "stream",
     "text": [
      "Probabilities set\n",
      "flows length = 50\n"
     ]
    },
    {
     "data": {
      "text/plain": "<Figure size 360x360 with 1 Axes>",
      "image/png": "[encoded data removed]"
     },
     "metadata": {
      "needs_background": "light"
     },
     "output_type": "display_data"
    }
   ],
   "source": [
    "dataF = pd.read_table(umap_file, index_col=0)\n",
    "# dataF = pd.read_table(pca_file, index_col=0)\n",
    "cols = dataF.columns.values.tolist()\n",
    "size = len(cols)\n",
    "\n",
    "# src_ind = cols.index('tumor_GGGCATCAGTGTACCT-1') #45 tumor\n",
    "src_ind = cols.index('midpoint_AACACGTTCGGCGCTA-1') #892 luminal\n",
    "trg_ind = cols.index('midpoint_TGGTTCCTCACTATTC-1') #1 basal\n",
    "# trg_ind = cols.index('midpoint_AACACGTTCGGCGCTA-1') #892 luminal\n",
    "\n",
    "source_indicator = np.full(size, False)\n",
    "source_indicator[src_ind] = True\n",
    "target_indicator = np.full(size, False)\n",
    "target_indicator[trg_ind] = True\n",
    "\n",
    "sim = get_similarity_matrix_df(dataF, sigmasq=1)\n",
    "p_mat = get_probability_matrix(sim)\n",
    "p_mat[target_indicator,:] = 0\n",
    "\n",
    "print(\"Probabilities set\")\n",
    "\n",
    "heat = np.zeros(size)\n",
    "heat[source_indicator] = 1\n",
    "\n",
    "flows, sinks = generate_flow_matrices(p_mat, source_indicator, target_indicator, 50)\n",
    "\n",
    "print(\"flows length = \" + str(len(flows)))\n",
    "\n",
    "plt.figure(figsize=(5, 5))\n",
    "ax = plt.axes()\n",
    "ax.scatter(np.array(range(len(sinks))), sinks, color = 'k')\n",
    "plt.show()"
   ],
   "metadata": {
    "collapsed": false
   }
  },
  {
   "cell_type": "code",
   "execution_count": 5,
   "outputs": [
    {
     "name": "stderr",
     "output_type": "stream",
     "text": [
      "/tmp/ipykernel_1821263/100993974.py:82: RuntimeWarning: invalid value encountered in true_divide\n",
      "  ratios = weights / outflow_sums\n"
     ]
    }
   ],
   "source": [
    "\n",
    "weights, sub_flow = generate_cumulative_weights(flows, target_indicator, -1)"
   ],
   "metadata": {
    "collapsed": false,
    "pycharm": {
     "name": "#%%\n"
    }
   }
  },
  {
   "cell_type": "code",
   "execution_count": 8,
   "outputs": [
    {
     "name": "stdout",
     "output_type": "stream",
     "text": [
      "[[0.00000000e+00]\n",
      " [9.70261311e-49]\n",
      " [3.58426796e-23]\n",
      " [2.39597743e-15]\n",
      " [1.70521340e-11]\n",
      " [3.02319431e-10]\n",
      " [2.18036207e-09]\n",
      " [8.98785274e-09]\n",
      " [2.68873126e-08]\n",
      " [6.93755408e-08]\n",
      " [1.81940107e-07]\n",
      " [5.73330394e-07]\n",
      " [2.19923773e-06]\n",
      " [8.72798079e-06]\n",
      " [3.16378948e-05]\n",
      " [1.00822805e-04]\n",
      " [2.82982488e-04]\n",
      " [7.09024788e-04]\n",
      " [1.60997191e-03]\n",
      " [3.35903089e-03]\n",
      " [6.51613176e-03]\n",
      " [1.18706801e-02]\n",
      " [2.04785322e-02]\n",
      " [3.36900766e-02]\n",
      " [5.31675025e-02]\n",
      " [8.08905735e-02]\n",
      " [1.19151306e-01]\n",
      " [1.70538767e-01]\n",
      " [2.37915704e-01]\n",
      " [3.24388994e-01]\n",
      " [4.33275866e-01]\n",
      " [5.68067757e-01]\n",
      " [7.32393398e-01]\n",
      " [9.29982444e-01]\n",
      " [1.16463068e+00]\n",
      " [1.44016752e+00]\n",
      " [1.76042633e+00]\n",
      " [2.12921782e+00]\n",
      " [2.55030666e+00]\n",
      " [3.02739123e+00]\n",
      " [3.56408649e+00]\n",
      " [4.16390975e+00]\n",
      " [4.83026900e+00]\n",
      " [5.56645382e+00]\n",
      " [6.37562832e+00]\n",
      " [7.26082607e+00]\n",
      " [8.22494664e+00]\n",
      " [9.27075365e+00]\n",
      " [1.04008740e+01]\n",
      " [1.16177981e+01]\n",
      " [1.29238810e+01]]\n"
     ]
    }
   ],
   "source": [
    "# a = np.max(weights, axis=1)\n",
    "# ww, ff = generate_cumulative_weights(flows, target_indicator, 3)\n",
    "# print(ww[:, target_indicator])\n",
    "print(weights[:, target_indicator])\n"
   ],
   "metadata": {
    "collapsed": false,
    "pycharm": {
     "name": "#%%\n"
    }
   }
  },
  {
   "cell_type": "code",
   "execution_count": 11,
   "outputs": [
    {
     "name": "stdout",
     "output_type": "stream",
     "text": [
      "weights = \n",
      "[[0.00000000e+000 0.00000000e+000 0.00000000e+000 ... 0.00000000e+000\n",
      "  0.00000000e+000 0.00000000e+000]\n",
      " [2.24306621e-032 3.54743340e-049 6.35987570e-012 ... 3.32080154e-095\n",
      "  5.97262530e-116 4.32986618e-120]\n",
      " [1.99194828e-018 2.81319624e-023 4.79768480e-005 ... 5.41318447e-054\n",
      "  1.61368830e-066 1.44136471e-062]\n",
      " ...\n",
      " [8.01890422e-002 6.22474650e-001 7.65797205e-015 ... 9.08424130e-050\n",
      "  8.32967233e-055 8.18231184e-043]\n",
      " [1.15068048e-002 4.16480570e-001 4.98623492e-030 ... 2.48510012e-097\n",
      "  6.67998798e-106 9.80901250e-079]\n",
      " [0.00000000e+000 0.00000000e+000 0.00000000e+000 ... 0.00000000e+000\n",
      "  0.00000000e+000 0.00000000e+000]]\n"
     ]
    }
   ],
   "source": [
    "\n",
    "weights = rescale_weights(weights)\n",
    "print(\"weights = \\n\" + str(weights))"
   ],
   "metadata": {
    "collapsed": false,
    "pycharm": {
     "name": "#%%\n"
    }
   }
  },
  {
   "cell_type": "code",
   "execution_count": 12,
   "outputs": [
    {
     "data": {
      "text/plain": "<Figure size 1080x1080 with 1 Axes>",
      "image/png": "[encoded data removed]"
     },
     "metadata": {
      "needs_background": "light"
     },
     "output_type": "display_data"
    }
   ],
   "source": [
    "\n",
    "# generate 10 distinct trajectories that has the maximal pairs\n",
    "pairs = get_sorted_pairs(sub_flow)\n",
    "trajs = []\n",
    "i = 0\n",
    "while len(trajs) < 5:\n",
    "    s = pairs[i][0][0]\n",
    "    t = pairs[i][0][1]\n",
    "\n",
    "    if not already_part_of_a_trajectory(s, t, trajs):\n",
    "        traj = [s, t]\n",
    "        traj = build_trajectory(sub_flow, traj, src_ind, trg_ind)\n",
    "        trajs.append(traj)\n",
    "    i += 1\n",
    "\n",
    "# Calculate ranks based on maximum weights\n",
    "maxes = np.max(weights, axis=0)\n",
    "ranks = maxes.argsort().argsort()\n",
    "\n",
    "table = pd.read_table(umap_file, index_col=0)\n",
    "mat = table.to_numpy()\n",
    "\n",
    "paths = []\n",
    "for i in range(len(trajs)):\n",
    "    path = mat[:, trajs[i]]\n",
    "    paths.append(path)\n",
    "\n",
    "# Order dots so that darker ones painted later\n",
    "colors = np.zeros((len(weights), len(weights[0])))\n",
    "pos = np.zeros(mat.shape)\n",
    "for i in range(len(ranks)):\n",
    "    pos[:, ranks[i]] = mat[:, i]\n",
    "    for j in range(len(weights)):\n",
    "        colors[j][ranks[i]] = weights[j][i]\n",
    "\n",
    "initial_colors = np.zeros(colors[0].shape)\n",
    "initial_colors[0] = 1\n",
    "\n",
    "fig = plt.figure(figsize=(15, 15))\n",
    "scat = plt.scatter(pos[0], pos[1], c = initial_colors, cmap='Greys', alpha=1)\n",
    "\n",
    "for i in range(len(paths)):\n",
    "    plt.plot(paths[i][0], paths[i][1])\n",
    "\n",
    "ani = animation.FuncAnimation(fig, update_plot, frames=len(colors), fargs=(colors, scat))\n",
    "ani.save('scatter.gif', writer='pillow')\n"
   ],
   "metadata": {
    "collapsed": false,
    "pycharm": {
     "name": "#%%\n"
    }
   }
  },
  {
   "cell_type": "code",
   "execution_count": 14,
   "outputs": [
    {
     "name": "stdout",
     "output_type": "stream",
     "text": [
      "5\n"
     ]
    }
   ],
   "source": [
    "print(len(trajs))"
   ],
   "metadata": {
    "collapsed": false
   }
  },
  {
   "cell_type": "code",
   "execution_count": 182,
   "outputs": [
    {
     "name": "stdout",
     "output_type": "stream",
     "text": [
      "[[0 1 2 3]\n",
      " [0 1 2 3]]\n",
      "[[1.00000000e+00 1.35335283e-01 3.35462628e-04 1.52299797e-08]\n",
      " [1.35335283e-01 1.00000000e+00 1.35335283e-01 3.35462628e-04]\n",
      " [3.35462628e-04 1.35335283e-01 1.00000000e+00 1.35335283e-01]\n",
      " [1.52299797e-08 3.35462628e-04 1.35335283e-01 1.00000000e+00]]\n",
      "p=\n",
      "[[8.80536890e-01 1.19167709e-01 2.95387219e-04 1.34105590e-08]\n",
      " [1.06478868e-01 7.86778329e-01 1.06478868e-01 2.63934726e-04]\n",
      " [2.63934726e-04 1.06478868e-01 7.86778329e-01 1.06478868e-01]\n",
      " [0.00000000e+00 0.00000000e+00 0.00000000e+00 0.00000000e+00]]\n",
      "flows length = 10\n",
      "weights = \n",
      "[[1.38080672e-02 0.00000000e+00 0.00000000e+00 0.00000000e+00]\n",
      " [1.11504264e-02 2.65038777e-03 7.25302004e-06 0.00000000e+00]\n",
      " [8.87891118e-03 4.55875744e-03 3.70398570e-04 0.00000000e+00]\n",
      " [6.87228826e-03 5.90225863e-03 1.03352030e-03 0.00000000e+00]\n",
      " [5.05970411e-03 6.76412105e-03 1.98424203e-03 0.00000000e+00]\n",
      " [3.41541084e-03 7.14295024e-03 3.24970611e-03 0.00000000e+00]\n",
      " [1.96152068e-03 6.94764143e-03 4.89890508e-03 0.00000000e+00]\n",
      " [7.79410831e-04 5.97687137e-03 7.05178499e-03 0.00000000e+00]\n",
      " [3.18811107e-05 3.87950846e-03 9.89667762e-03 0.00000000e+00]\n",
      " [6.46381918e-09 8.90340608e-05 1.37190267e-02 0.00000000e+00]\n",
      " [0.00000000e+00 0.00000000e+00 0.00000000e+00 1.38080672e-02]]\n",
      "cum_w = \n",
      "[0.05195763 0.04391153 0.04221151 0.01380807]\n"
     ]
    },
    {
     "name": "stderr",
     "output_type": "stream",
     "text": [
      "/tmp/ipykernel_1299923/636077474.py:79: RuntimeWarning: invalid value encountered in true_divide\n",
      "  ratios = weights / outflow_sums\n"
     ]
    }
   ],
   "source": [
    "size = 4\n",
    "data = np.array([range(size), range(size)])\n",
    "print(data)\n",
    "sim = get_similarity_matrix(data)\n",
    "print(sim)\n",
    "\n",
    "source_indicator = np.full(size, False)\n",
    "source_indicator[0] = True\n",
    "target_indicator = np.full(size, False)\n",
    "target_indicator[size-1] = True\n",
    "\n",
    "p = get_probability_matrix(sim)\n",
    "p[target_indicator,:] = 0\n",
    "print('p=\\n' + str(p))\n",
    "\n",
    "flows, sinks = generate_flow_matrices(p, source_indicator, target_indicator, 10)\n",
    "\n",
    "print(\"flows length = \" + str(len(flows)))\n",
    "\n",
    "weights = generate_weights(flows, target_indicator, -1)\n",
    "print(\"weights = \\n\" + str(weights))\n",
    "cum_w = np.sum(weights, axis=0)\n",
    "\n",
    "print(\"cum_w = \\n\" + str(cum_w))"
   ],
   "metadata": {
    "collapsed": false,
    "pycharm": {
     "name": "#%%\n"
    }
   }
  }
 ],
 "metadata": {
  "kernelspec": {
   "display_name": "Python 3",
   "language": "python",
   "name": "python3"
  },
  "language_info": {
   "codemirror_mode": {
    "name": "ipython",
    "version": 2
   },
   "file_extension": ".py",
   "mimetype": "text/x-python",
   "name": "python",
   "nbconvert_exporter": "python",
   "pygments_lexer": "ipython2",
   "version": "2.7.6"
  }
 },
 "nbformat": 4,
 "nbformat_minor": 0
}
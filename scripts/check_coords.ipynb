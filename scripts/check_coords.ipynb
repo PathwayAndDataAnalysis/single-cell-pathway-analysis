{
 "cells": [
  {
   "cell_type": "code",
   "execution_count": null,
   "metadata": {
    "collapsed": true
   },
   "outputs": [],
   "source": [
    "import pandas as pd"
   ]
  },
  {
   "cell_type": "code",
   "execution_count": 50,
   "outputs": [],
   "source": [
    "cells = [\"midpoint_AAACCTGCACCCAGTG-1\", \"midpoint_AAACCTGCAGCTTAAC-1\", \"midpoint_AAACCTGGTGTGCGTC-1\",\"tumor_ATCGAGTCAAGCTGGA-1\"]\n"
   ],
   "metadata": {
    "collapsed": false
   }
  },
  {
   "cell_type": "code",
   "execution_count": null,
   "outputs": [],
   "source": [
    "umap_coords = pd.read_table(\"/home/meric/Desktop/umap_coords.tsv\",index_col=0)"
   ],
   "metadata": {
    "collapsed": false
   }
  },
  {
   "cell_type": "code",
   "execution_count": 62,
   "outputs": [
    {
     "data": {
      "text/plain": "'midpoint_AAACCTGCAGCTTAAC-1'"
     },
     "execution_count": 62,
     "metadata": {},
     "output_type": "execute_result"
    }
   ],
   "source": [
    "umap_coords.index.values[1]"
   ],
   "metadata": {
    "collapsed": false
   }
  },
  {
   "cell_type": "code",
   "execution_count": null,
   "outputs": [],
   "source": [
    "umap_coords.head()"
   ],
   "metadata": {
    "collapsed": false
   }
  },
  {
   "cell_type": "code",
   "execution_count": 48,
   "outputs": [
    {
     "data": {
      "text/plain": "['midpoint_AAACCTGCACCCAGTG-1',\n 'midpoint_AAACCTGCAGCTTAAC-1',\n 'midpoint_AAACCTGGTGTGCGTC-1']"
     },
     "execution_count": 48,
     "metadata": {},
     "output_type": "execute_result"
    }
   ],
   "source": [
    "cells"
   ],
   "metadata": {
    "collapsed": false
   }
  },
  {
   "cell_type": "code",
   "execution_count": null,
   "outputs": [],
   "source": [
    "umap_coords[umap_coords.index==\"midpoint_AAACCTGCACCCAGTG-1\"]"
   ],
   "metadata": {
    "collapsed": false
   }
  },
  {
   "cell_type": "code",
   "execution_count": 77,
   "outputs": [
    {
     "data": {
      "text/plain": "                                UMAP_1     UMAP_2\nmidpoint_AAACCTGCACCCAGTG-1  -1.711545   8.570790\nmidpoint_AAACCTGCAGCTTAAC-1  -1.636193  11.101918\nmidpoint_AAACCTGGTGTGCGTC-1  -0.895787   2.156744\ntumor_ATCGAGTCAAGCTGGA-1    -11.791385   1.255611",
      "text/html": "<div>\n<style scoped>\n    .dataframe tbody tr th:only-of-type {\n        vertical-align: middle;\n    }\n\n    .dataframe tbody tr th {\n        vertical-align: top;\n    }\n\n    .dataframe thead th {\n        text-align: right;\n    }\n</style>\n<table border=\"1\" class=\"dataframe\">\n  <thead>\n    <tr style=\"text-align: right;\">\n      <th></th>\n      <th>UMAP_1</th>\n      <th>UMAP_2</th>\n    </tr>\n  </thead>\n  <tbody>\n    <tr>\n      <th>midpoint_AAACCTGCACCCAGTG-1</th>\n      <td>-1.711545</td>\n      <td>8.570790</td>\n    </tr>\n    <tr>\n      <th>midpoint_AAACCTGCAGCTTAAC-1</th>\n      <td>-1.636193</td>\n      <td>11.101918</td>\n    </tr>\n    <tr>\n      <th>midpoint_AAACCTGGTGTGCGTC-1</th>\n      <td>-0.895787</td>\n      <td>2.156744</td>\n    </tr>\n    <tr>\n      <th>tumor_ATCGAGTCAAGCTGGA-1</th>\n      <td>-11.791385</td>\n      <td>1.255611</td>\n    </tr>\n  </tbody>\n</table>\n</div>"
     },
     "execution_count": 77,
     "metadata": {},
     "output_type": "execute_result"
    }
   ],
   "source": [
    "umap_coords[umap_coords.index.isin(cells)]"
   ],
   "metadata": {
    "collapsed": false
   }
  },
  {
   "cell_type": "code",
   "execution_count": 78,
   "outputs": [
    {
     "ename": "NameError",
     "evalue": "name 'index' is not defined",
     "output_type": "error",
     "traceback": [
      "\u001B[0;31m---------------------------------------------------------------------------\u001B[0m",
      "\u001B[0;31mNameError\u001B[0m                                 Traceback (most recent call last)",
      "Cell \u001B[0;32mIn [78], line 1\u001B[0m\n\u001B[0;32m----> 1\u001B[0m umap_coords[umap_coords\u001B[38;5;241m.\u001B[39mindex\u001B[38;5;241m.\u001B[39misin(cells)]\u001B[38;5;241m.\u001B[39msort_values(by\u001B[38;5;241m=\u001B[39m\u001B[43mindex\u001B[49m)\n",
      "\u001B[0;31mNameError\u001B[0m: name 'index' is not defined"
     ]
    }
   ],
   "source": [
    "umap_coords[umap_coords.index.isin(cells)].sort_values(by=index)"
   ],
   "metadata": {
    "collapsed": false
   }
  },
  {
   "cell_type": "code",
   "execution_count": null,
   "outputs": [],
   "source": [
    "umap_coords_path = \"/home/meric/Desktop/umap_coords.tsv\""
   ],
   "metadata": {
    "collapsed": false
   }
  },
  {
   "cell_type": "code",
   "execution_count": 46,
   "outputs": [],
   "source": [
    "def check_coords(cell_array,umap_coords_path):\n",
    "    umap_coords = pd.read_table(umap_coords_path,index_col=0)\n",
    "    traject = umap_coords[umap_coords.index.isin(cell_array)]\n",
    "    return traject"
   ],
   "metadata": {
    "collapsed": false
   }
  },
  {
   "cell_type": "code",
   "execution_count": 72,
   "outputs": [],
   "source": [
    "cells2 = ['tumor_ATCGAGTCAAGCTGGA-1', 'tumor_GGAGCAAGTTCTCATT-1', 'tumor_ACTGAGTTCCGTAGGC-1', 'tumor_CGGAGCTTCCAGAGGA-1', 'tumor_TCAATCTAGCTACCTA-1', 'tumor_GATCGTAGTGTGACCC-1', 'tumor_CCTTCCCCAATGAAAC-1', 'tumor_CTAACTTTCCACTGGG-1', 'tumor_GACTGCGAGGAACTGC-1', 'tumor_GCACATAGTAAATACG-1', 'tumor_TCGCGAGAGACACGAC-1', 'tumor_TACGGATTCAATAAGG-1', 'tumor_GAACCTAAGGATATAC-1', 'tumor_CTAAGACTCCTCTAGC-1', 'tumor_CGAGCACAGACTGTAA-1', 'tumor_CGATGTATCTGCTTGC-1', 'tumor_GCTCTGTCAAACGTGG-1', 'tumor_ACACTGAGTATTAGCC-1', 'tumor_CGAACATGTTCGGGCT-1', 'tumor_AGCTCCTAGTGGAGAA-1', 'midpoint_ACAGCTACAGCTGCTG-1', 'tumor_CTAGAGTTCGCAGGCT-1', 'tumor_TAGACCACATCTATGG-1', 'tumor_TGAAAGAAGATGTTAG-1', 'tumor_GTGCATAAGGCGTACA-1', 'tumor_GATGAGGCAAGCTGTT-1', 'tumor_TCTGGAAAGTTAGGTA-1', 'tumor_AACGTTGGTACTTGAC-1', 'tumor_CCCAATCTCCCAAGTA-1', 'tumor_CGTTAGATCATCATTC-1', 'tumor_TTGCCGTGTCAGTGGA-1', 'tumor_CGAACATAGAGCTGCA-1', 'tumor_TCAGGTATCAATAAGG-1']"
   ],
   "metadata": {
    "collapsed": false
   }
  },
  {
   "cell_type": "code",
   "execution_count": 73,
   "outputs": [
    {
     "data": {
      "text/plain": "['tumor_ATCGAGTCAAGCTGGA-1',\n 'tumor_GGAGCAAGTTCTCATT-1',\n 'tumor_ACTGAGTTCCGTAGGC-1',\n 'tumor_CGGAGCTTCCAGAGGA-1',\n 'tumor_TCAATCTAGCTACCTA-1',\n 'tumor_GATCGTAGTGTGACCC-1',\n 'tumor_CCTTCCCCAATGAAAC-1',\n 'tumor_CTAACTTTCCACTGGG-1',\n 'tumor_GACTGCGAGGAACTGC-1',\n 'tumor_GCACATAGTAAATACG-1',\n 'tumor_TCGCGAGAGACACGAC-1',\n 'tumor_TACGGATTCAATAAGG-1',\n 'tumor_GAACCTAAGGATATAC-1',\n 'tumor_CTAAGACTCCTCTAGC-1',\n 'tumor_CGAGCACAGACTGTAA-1',\n 'tumor_CGATGTATCTGCTTGC-1',\n 'tumor_GCTCTGTCAAACGTGG-1',\n 'tumor_ACACTGAGTATTAGCC-1',\n 'tumor_CGAACATGTTCGGGCT-1',\n 'tumor_AGCTCCTAGTGGAGAA-1',\n 'midpoint_ACAGCTACAGCTGCTG-1',\n 'tumor_CTAGAGTTCGCAGGCT-1',\n 'tumor_TAGACCACATCTATGG-1',\n 'tumor_TGAAAGAAGATGTTAG-1',\n 'tumor_GTGCATAAGGCGTACA-1',\n 'tumor_GATGAGGCAAGCTGTT-1',\n 'tumor_TCTGGAAAGTTAGGTA-1',\n 'tumor_AACGTTGGTACTTGAC-1',\n 'tumor_CCCAATCTCCCAAGTA-1',\n 'tumor_CGTTAGATCATCATTC-1',\n 'tumor_TTGCCGTGTCAGTGGA-1',\n 'tumor_CGAACATAGAGCTGCA-1',\n 'tumor_TCAGGTATCAATAAGG-1']"
     },
     "execution_count": 73,
     "metadata": {},
     "output_type": "execute_result"
    }
   ],
   "source": [
    "cells2"
   ],
   "metadata": {
    "collapsed": false
   }
  },
  {
   "cell_type": "code",
   "execution_count": 79,
   "outputs": [],
   "source": [],
   "metadata": {
    "collapsed": false
   }
  },
  {
   "cell_type": "code",
   "execution_count": 82,
   "outputs": [],
   "source": [
    "def check_coords(cell_array,umap_coords_path):\n",
    "    umap_coords = pd.read_table(umap_coords_path,index_col=0)\n",
    "    traject = umap_coords[umap_coords.index.isin(cell_array)]\n",
    "    ord_traject = traject.loc[cell_array]\n",
    "    return(ord_traject)"
   ],
   "metadata": {
    "collapsed": false
   }
  },
  {
   "cell_type": "code",
   "execution_count": 83,
   "outputs": [
    {
     "data": {
      "text/plain": "                                UMAP_1    UMAP_2\ntumor_ATCGAGTCAAGCTGGA-1    -11.791385  1.255611\ntumor_GGAGCAAGTTCTCATT-1    -11.868518  0.851209\ntumor_ACTGAGTTCCGTAGGC-1    -12.002725  0.323193\ntumor_CGGAGCTTCCAGAGGA-1    -12.083681  0.120827\ntumor_TCAATCTAGCTACCTA-1    -11.988718 -0.056724\ntumor_GATCGTAGTGTGACCC-1    -11.672473 -0.436338\ntumor_CCTTCCCCAATGAAAC-1    -11.677168 -0.587505\ntumor_CTAACTTTCCACTGGG-1    -11.705859 -0.762912\ntumor_GACTGCGAGGAACTGC-1    -11.679876 -0.841853\ntumor_GCACATAGTAAATACG-1    -11.723244 -0.873949\ntumor_TCGCGAGAGACACGAC-1    -11.876914 -0.972763\ntumor_TACGGATTCAATAAGG-1    -11.932648 -1.030809\ntumor_GAACCTAAGGATATAC-1    -11.929210 -1.109319\ntumor_CTAAGACTCCTCTAGC-1    -11.737374 -1.562625\ntumor_CGAGCACAGACTGTAA-1    -11.701827 -1.810007\ntumor_CGATGTATCTGCTTGC-1    -11.876717 -2.106968\ntumor_GCTCTGTCAAACGTGG-1    -11.618348 -2.227329\ntumor_ACACTGAGTATTAGCC-1    -11.570884 -2.465429\ntumor_CGAACATGTTCGGGCT-1    -11.225742 -2.549200\ntumor_AGCTCCTAGTGGAGAA-1    -11.107475 -2.546612\nmidpoint_ACAGCTACAGCTGCTG-1  -2.998053  3.635419\ntumor_CTAGAGTTCGCAGGCT-1     -3.163552  3.633051\ntumor_TAGACCACATCTATGG-1     -3.423311  3.812223\ntumor_TGAAAGAAGATGTTAG-1     -3.878012  4.118287\ntumor_GTGCATAAGGCGTACA-1     -4.021610  4.194181\ntumor_GATGAGGCAAGCTGTT-1     -4.157215  4.264492\ntumor_TCTGGAAAGTTAGGTA-1     -4.298965  4.346543\ntumor_AACGTTGGTACTTGAC-1     -4.585438  4.495498\ntumor_CCCAATCTCCCAAGTA-1     -4.804692  4.560774\ntumor_CGTTAGATCATCATTC-1     -5.052993  4.620240\ntumor_TTGCCGTGTCAGTGGA-1     -5.275986  4.473302\ntumor_CGAACATAGAGCTGCA-1     -5.260346  4.354812\ntumor_TCAGGTATCAATAAGG-1     -5.347269  4.108276",
      "text/html": "<div>\n<style scoped>\n    .dataframe tbody tr th:only-of-type {\n        vertical-align: middle;\n    }\n\n    .dataframe tbody tr th {\n        vertical-align: top;\n    }\n\n    .dataframe thead th {\n        text-align: right;\n    }\n</style>\n<table border=\"1\" class=\"dataframe\">\n  <thead>\n    <tr style=\"text-align: right;\">\n      <th></th>\n      <th>UMAP_1</th>\n      <th>UMAP_2</th>\n    </tr>\n  </thead>\n  <tbody>\n    <tr>\n      <th>tumor_ATCGAGTCAAGCTGGA-1</th>\n      <td>-11.791385</td>\n      <td>1.255611</td>\n    </tr>\n    <tr>\n      <th>tumor_GGAGCAAGTTCTCATT-1</th>\n      <td>-11.868518</td>\n      <td>0.851209</td>\n    </tr>\n    <tr>\n      <th>tumor_ACTGAGTTCCGTAGGC-1</th>\n      <td>-12.002725</td>\n      <td>0.323193</td>\n    </tr>\n    <tr>\n      <th>tumor_CGGAGCTTCCAGAGGA-1</th>\n      <td>-12.083681</td>\n      <td>0.120827</td>\n    </tr>\n    <tr>\n      <th>tumor_TCAATCTAGCTACCTA-1</th>\n      <td>-11.988718</td>\n      <td>-0.056724</td>\n    </tr>\n    <tr>\n      <th>tumor_GATCGTAGTGTGACCC-1</th>\n      <td>-11.672473</td>\n      <td>-0.436338</td>\n    </tr>\n    <tr>\n      <th>tumor_CCTTCCCCAATGAAAC-1</th>\n      <td>-11.677168</td>\n      <td>-0.587505</td>\n    </tr>\n    <tr>\n      <th>tumor_CTAACTTTCCACTGGG-1</th>\n      <td>-11.705859</td>\n      <td>-0.762912</td>\n    </tr>\n    <tr>\n      <th>tumor_GACTGCGAGGAACTGC-1</th>\n      <td>-11.679876</td>\n      <td>-0.841853</td>\n    </tr>\n    <tr>\n      <th>tumor_GCACATAGTAAATACG-1</th>\n      <td>-11.723244</td>\n      <td>-0.873949</td>\n    </tr>\n    <tr>\n      <th>tumor_TCGCGAGAGACACGAC-1</th>\n      <td>-11.876914</td>\n      <td>-0.972763</td>\n    </tr>\n    <tr>\n      <th>tumor_TACGGATTCAATAAGG-1</th>\n      <td>-11.932648</td>\n      <td>-1.030809</td>\n    </tr>\n    <tr>\n      <th>tumor_GAACCTAAGGATATAC-1</th>\n      <td>-11.929210</td>\n      <td>-1.109319</td>\n    </tr>\n    <tr>\n      <th>tumor_CTAAGACTCCTCTAGC-1</th>\n      <td>-11.737374</td>\n      <td>-1.562625</td>\n    </tr>\n    <tr>\n      <th>tumor_CGAGCACAGACTGTAA-1</th>\n      <td>-11.701827</td>\n      <td>-1.810007</td>\n    </tr>\n    <tr>\n      <th>tumor_CGATGTATCTGCTTGC-1</th>\n      <td>-11.876717</td>\n      <td>-2.106968</td>\n    </tr>\n    <tr>\n      <th>tumor_GCTCTGTCAAACGTGG-1</th>\n      <td>-11.618348</td>\n      <td>-2.227329</td>\n    </tr>\n    <tr>\n      <th>tumor_ACACTGAGTATTAGCC-1</th>\n      <td>-11.570884</td>\n      <td>-2.465429</td>\n    </tr>\n    <tr>\n      <th>tumor_CGAACATGTTCGGGCT-1</th>\n      <td>-11.225742</td>\n      <td>-2.549200</td>\n    </tr>\n    <tr>\n      <th>tumor_AGCTCCTAGTGGAGAA-1</th>\n      <td>-11.107475</td>\n      <td>-2.546612</td>\n    </tr>\n    <tr>\n      <th>midpoint_ACAGCTACAGCTGCTG-1</th>\n      <td>-2.998053</td>\n      <td>3.635419</td>\n    </tr>\n    <tr>\n      <th>tumor_CTAGAGTTCGCAGGCT-1</th>\n      <td>-3.163552</td>\n      <td>3.633051</td>\n    </tr>\n    <tr>\n      <th>tumor_TAGACCACATCTATGG-1</th>\n      <td>-3.423311</td>\n      <td>3.812223</td>\n    </tr>\n    <tr>\n      <th>tumor_TGAAAGAAGATGTTAG-1</th>\n      <td>-3.878012</td>\n      <td>4.118287</td>\n    </tr>\n    <tr>\n      <th>tumor_GTGCATAAGGCGTACA-1</th>\n      <td>-4.021610</td>\n      <td>4.194181</td>\n    </tr>\n    <tr>\n      <th>tumor_GATGAGGCAAGCTGTT-1</th>\n      <td>-4.157215</td>\n      <td>4.264492</td>\n    </tr>\n    <tr>\n      <th>tumor_TCTGGAAAGTTAGGTA-1</th>\n      <td>-4.298965</td>\n      <td>4.346543</td>\n    </tr>\n    <tr>\n      <th>tumor_AACGTTGGTACTTGAC-1</th>\n      <td>-4.585438</td>\n      <td>4.495498</td>\n    </tr>\n    <tr>\n      <th>tumor_CCCAATCTCCCAAGTA-1</th>\n      <td>-4.804692</td>\n      <td>4.560774</td>\n    </tr>\n    <tr>\n      <th>tumor_CGTTAGATCATCATTC-1</th>\n      <td>-5.052993</td>\n      <td>4.620240</td>\n    </tr>\n    <tr>\n      <th>tumor_TTGCCGTGTCAGTGGA-1</th>\n      <td>-5.275986</td>\n      <td>4.473302</td>\n    </tr>\n    <tr>\n      <th>tumor_CGAACATAGAGCTGCA-1</th>\n      <td>-5.260346</td>\n      <td>4.354812</td>\n    </tr>\n    <tr>\n      <th>tumor_TCAGGTATCAATAAGG-1</th>\n      <td>-5.347269</td>\n      <td>4.108276</td>\n    </tr>\n  </tbody>\n</table>\n</div>"
     },
     "execution_count": 83,
     "metadata": {},
     "output_type": "execute_result"
    }
   ],
   "source": [
    "check_coords(cells2,umap_coords_path)"
   ],
   "metadata": {
    "collapsed": false
   }
  }
 ],
 "metadata": {
  "kernelspec": {
   "display_name": "Python 3",
   "language": "python",
   "name": "python3"
  },
  "language_info": {
   "codemirror_mode": {
    "name": "ipython",
    "version": 2
   },
   "file_extension": ".py",
   "mimetype": "text/x-python",
   "name": "python",
   "nbconvert_exporter": "python",
   "pygments_lexer": "ipython2",
   "version": "2.7.6"
  }
 },
 "nbformat": 4,
 "nbformat_minor": 0
}
